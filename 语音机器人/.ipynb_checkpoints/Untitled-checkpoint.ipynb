{
 "cells": [
  {
   "cell_type": "code",
   "execution_count": 2,
   "metadata": {},
   "outputs": [
    {
     "name": "stdout",
     "output_type": "stream",
     "text": [
      "{\"data\":[{\"sub\":\"iat\",\"auth_id\":\"3635838bdfb791f1f5a6cfa569caa02a\",\"text\":{},\"result_id\":0}],\"sid\":\"ara04989843@dx0001108a2fe3094000\",\"code\":\"0\",\"desc\":\"success\"}\n"
     ]
    }
   ],
   "source": [
    "#-*- coding: utf-8 -*-\n",
    "import requests\n",
    "import time\n",
    "import hashlib\n",
    "import base64\n",
    "\n",
    "URL = \"http://openapi.xfyun.cn/v2/aiui\"\n",
    "APPID = \"5d2d8701\"\n",
    "API_KEY = \"da32c2f11d2dd3a2026e6c6a6739ff3c\"\n",
    "AUE = \"raw\"\n",
    "AUTH_ID = \"3635838bdfb791f1f5a6cfa569caa02a\"\n",
    "DATA_TYPE = \"audio\"\n",
    "SAMPLE_RATE = \"16000\"\n",
    "SCENE = \"main\"\n",
    "RESULT_LEVEL = \"complete\"\n",
    "LAT = \"39.938838\"\n",
    "LNG = \"116.368624\"\n",
    "#个性化参数，需转义\n",
    "PERS_PARAM = \"{\\\\\\\"auth_id\\\\\\\":\\\\\\\"3635838bdfb791f1f5a6cfa569caa02a\\\\\\\"}\"\n",
    "#FILE_PATH = \"bj_weather.wav\"\n",
    "FILE_PATH ='bj.txt'\n",
    "\n",
    "def buildHeader():\n",
    "    curTime = str(int(time.time()))\n",
    "    param = \"{\\\"result_level\\\":\\\"\"+RESULT_LEVEL+\"\\\",\\\"auth_id\\\":\\\"\"+AUTH_ID+\"\\\",\\\"data_type\\\":\\\"\"+DATA_TYPE+\"\\\",\\\"sample_rate\\\":\\\"\"+SAMPLE_RATE+\"\\\",\\\"scene\\\":\\\"\"+SCENE+\"\\\",\\\"lat\\\":\\\"\"+LAT+\"\\\",\\\"lng\\\":\\\"\"+LNG+\"\\\"}\"\n",
    "    #使用个性化参数时参数格式如下：\n",
    "    #param = \"{\\\"result_level\\\":\\\"\"+RESULT_LEVEL+\"\\\",\\\"auth_id\\\":\\\"\"+AUTH_ID+\"\\\",\\\"data_type\\\":\\\"\"+DATA_TYPE+\"\\\",\\\"sample_rate\\\":\\\"\"+SAMPLE_RATE+\"\\\",\\\"scene\\\":\\\"\"+SCENE+\"\\\",\\\"lat\\\":\\\"\"+LAT+\"\\\",\\\"lng\\\":\\\"\"+LNG+\"\\\",\\\"pers_param\\\":\\\"\"+PERS_PARAM+\"\\\"}\"\n",
    "    \n",
    "    paramBase64 = base64.b64encode(param.encode('utf-8'))\n",
    "\n",
    "    m2 = hashlib.md5()\n",
    "    m2.update((API_KEY + curTime + str(paramBase64,'utf-8')).encode('utf-8'))\n",
    "    checkSum = m2.hexdigest()\n",
    "\n",
    "    header = {\n",
    "        'X-CurTime': curTime,\n",
    "        'X-Param': paramBase64,\n",
    "        'X-Appid': APPID,\n",
    "        'X-CheckSum': checkSum,\n",
    "    }\n",
    "    return header\n",
    "\n",
    "def readFile(filePath):\n",
    "    binfile = open(filePath, 'rb')\n",
    "    data = binfile.read()\n",
    "    return data\n",
    "\n",
    "r = requests.post(URL, headers=buildHeader(), data=readFile(FILE_PATH))\n",
    "print(str(r.content,'utf-8'))"
   ]
  },
  {
   "cell_type": "code",
   "execution_count": null,
   "metadata": {},
   "outputs": [],
   "source": []
  }
 ],
 "metadata": {
  "kernelspec": {
   "display_name": "Python 3",
   "language": "python",
   "name": "python3"
  },
  "language_info": {
   "codemirror_mode": {
    "name": "ipython",
    "version": 3
   },
   "file_extension": ".py",
   "mimetype": "text/x-python",
   "name": "python",
   "nbconvert_exporter": "python",
   "pygments_lexer": "ipython3",
   "version": "3.7.3"
  }
 },
 "nbformat": 4,
 "nbformat_minor": 2
}
