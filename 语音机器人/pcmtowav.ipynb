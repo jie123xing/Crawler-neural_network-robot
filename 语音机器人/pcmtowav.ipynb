{
 "cells": [
  {
   "cell_type": "code",
   "execution_count": 2,
   "metadata": {},
   "outputs": [],
   "source": [
    "import wave\n",
    "import os\n",
    "import numpy as np"
   ]
  },
  {
   "cell_type": "code",
   "execution_count": 5,
   "metadata": {},
   "outputs": [],
   "source": [
    "f = open('16kVoice.pcm','rb')\n",
    "str_data  = f.read()\n",
    "wave_out=wave.open('wavdemo.wav','wb')\n",
    "wave_out.setnchannels(1)\n",
    "wave_out.setsampwidth(2)\n",
    "wave_out.setframerate(16000)\n",
    "wave_out.writeframes(str_data)"
   ]
  },
  {
   "cell_type": "code",
   "execution_count": 14,
   "metadata": {},
   "outputs": [],
   "source": [
    "f = open(\"wavdemo.wav\",encoding='unicode_escape')\n",
    "f.seek(0)\n",
    "f.read(44)\n",
    "data = np.fromfile(f, dtype=np.int16)\n",
    "data.tofile(\"test.pcm\")"
   ]
  },
  {
   "cell_type": "code",
   "execution_count": null,
   "metadata": {},
   "outputs": [],
   "source": []
  }
 ],
 "metadata": {
  "kernelspec": {
   "display_name": "Python 3",
   "language": "python",
   "name": "python3"
  },
  "language_info": {
   "codemirror_mode": {
    "name": "ipython",
    "version": 3
   },
   "file_extension": ".py",
   "mimetype": "text/x-python",
   "name": "python",
   "nbconvert_exporter": "python",
   "pygments_lexer": "ipython3",
   "version": "3.7.3"
  }
 },
 "nbformat": 4,
 "nbformat_minor": 2
}
