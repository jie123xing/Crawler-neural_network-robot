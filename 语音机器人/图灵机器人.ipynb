{
 "cells": [
  {
   "cell_type": "code",
   "execution_count": 6,
   "metadata": {},
   "outputs": [],
   "source": [
    "import wave\n",
    "\n",
    "import winsound\n",
    "\n",
    "import numpy as np\n",
    "\n",
    "import urllib\n",
    "\n",
    "import requests\n",
    "\n",
    "import json\n",
    "\n",
    "import os\n",
    "\n",
    "import sys"
   ]
  },
  {
   "cell_type": "code",
   "execution_count": 20,
   "metadata": {},
   "outputs": [],
   "source": [
    "tuling='3e661c1a04574ce6aeec858e03a6ad62' #apikey\n",
    "api_url = \"http://openapi.tuling123.com/openapi/api/v2\"\n",
    "userid='d11390370997b2cd'\n",
    "message='北京邮电大学'\n",
    "\n",
    "############################\n",
    "\n",
    "req = {\n",
    "\"reqType\":0,\n",
    "\"perception\":\n",
    "{\n",
    "    \"inputText\":\n",
    "    {\n",
    "        \"text\": message\n",
    "    },\n",
    "\n",
    "    \"selfInfo\":\n",
    "    {\n",
    "        \"location\":\n",
    "        {\n",
    "            \"city\": \"深圳\",\n",
    "            \"province\": \"广州\",\n",
    "            \"street\": \"XXX\"\n",
    "        }\n",
    "    }\n",
    "},\n",
    "\"userInfo\": \n",
    "{\n",
    "    \"apiKey\": tuling,\n",
    "    \"userId\": userid\n",
    "}\n",
    "}\n",
    "#############################\n",
    "req = json.dumps(req).encode('utf-8')\n",
    "http_post = urllib.request.Request(api_url, data=req, headers={'content-type': 'application/json'})\n",
    "response = urllib.request.urlopen(http_post)\n",
    "response_str = response.read().decode('utf-8')\n",
    "response_dic = json.loads(response_str)\n",
    "results_text = response_dic['results'][0]['values']['text']\n"
   ]
  },
  {
   "cell_type": "code",
   "execution_count": 21,
   "metadata": {},
   "outputs": [
    {
     "data": {
      "text/plain": [
       "{'intent': {'code': 4003},\n",
       " 'results': [{'groupType': 0,\n",
       "   'resultType': 'text',\n",
       "   'values': {'text': '请求次数超限制!'}}]}"
      ]
     },
     "execution_count": 21,
     "metadata": {},
     "output_type": "execute_result"
    }
   ],
   "source": [
    "response_dic "
   ]
  },
  {
   "cell_type": "code",
   "execution_count": 22,
   "metadata": {},
   "outputs": [
    {
     "data": {
      "text/plain": [
       "'请求次数超限制!'"
      ]
     },
     "execution_count": 22,
     "metadata": {},
     "output_type": "execute_result"
    }
   ],
   "source": [
    "results_text"
   ]
  },
  {
   "cell_type": "code",
   "execution_count": null,
   "metadata": {},
   "outputs": [],
   "source": []
  }
 ],
 "metadata": {
  "kernelspec": {
   "display_name": "Python 3",
   "language": "python",
   "name": "python3"
  },
  "language_info": {
   "codemirror_mode": {
    "name": "ipython",
    "version": 3
   },
   "file_extension": ".py",
   "mimetype": "text/x-python",
   "name": "python",
   "nbconvert_exporter": "python",
   "pygments_lexer": "ipython3",
   "version": "3.7.3"
  }
 },
 "nbformat": 4,
 "nbformat_minor": 2
}
