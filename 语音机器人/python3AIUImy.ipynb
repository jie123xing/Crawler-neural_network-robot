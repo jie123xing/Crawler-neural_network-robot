{
 "cells": [
  {
   "cell_type": "code",
   "execution_count": 4,
   "metadata": {},
   "outputs": [
    {
     "name": "stdout",
     "output_type": "stream",
     "text": [
      "{\"data\":[],\"sid\":\"ara06649f18@dx0001108c9b3e000100\",\"code\":\"10700\",\"desc\":\"engine error|10103\"}\n"
     ]
    }
   ],
   "source": [
    "#-*- coding: utf-8 -*-\n",
    "import requests\n",
    "import time\n",
    "import hashlib\n",
    "import base64\n",
    "\n",
    "URL = \"http://openapi.xfyun.cn/v2/aiui\"\n",
    "APPID = \"5d2d8701\"\n",
    "API_KEY = \"da32c2f11d2dd3a2026e6c6a6739ff3c\"\n",
    "AUE = \"raw\"\n",
    "AUTH_ID = \"3635838bdfb791f1f5a6cfa569caa02a\"\n",
    "DATA_TYPE = \"text\"\n",
    "SAMPLE_RATE = \"16000\"\n",
    "SCENE = \"main\"\n",
    "RESULT_LEVEL = \"complete\"\n",
    "LAT = \"39.938838\"\n",
    "LNG = \"116.368624\"\n",
    "#个性化参数，需转义\n",
    "PERS_PARAM = \"{\\\\\\\"auth_id\\\\\\\":\\\\\\\"3635838bdfb791f1f5a6cfa569caa02a\\\\\\\"}\"\n",
    "FILE_PATH = \"bj.txt\"\n",
    "#FILE_PATH ='bj_weather.wav'\n",
    "\n",
    "def buildHeader():\n",
    "    curTime = str(int(time.time()))\n",
    "    #param = \"{\\\"result_level\\\":\\\"\"+RESULT_LEVEL+\"\\\",\\\"auth_id\\\":\\\"\"+AUTH_ID+\"\\\",\\\"data_type\\\":\\\"\"+DATA_TYPE+\"\\\",\\\"sample_rate\\\":\\\"\"+SAMPLE_RATE+\"\\\",\\\"scene\\\":\\\"\"+SCENE+\"\\\",\\\"lat\\\":\\\"\"+LAT+\"\\\",\\\"lng\\\":\\\"\"+LNG+\"\\\"}\"\n",
    "    #使用个性化参数时参数格式如下：\n",
    "    #param = \"{\\\"result_level\\\":\\\"\"+RESULT_LEVEL+\"\\\",\\\"auth_id\\\":\\\"\"+AUTH_ID+\"\\\",\\\"data_type\\\":\\\"\"+DATA_TYPE+\"\\\",\\\"sample_rate\\\":\\\"\"+SAMPLE_RATE+\"\\\",\\\"scene\\\":\\\"\"+SCENE+\"\\\",\\\"lat\\\":\\\"\"+LAT+\"\\\",\\\"lng\\\":\\\"\"+LNG+\"\\\",\\\"pers_param\\\":\\\"\"+PERS_PARAM+\"\\\"}\"\n",
    "    param = \"{\\\"result_level\\\":\\\"\"+RESULT_LEVEL+\"\\\",\\\"auth_id\\\":\\\"\"+AUTH_ID+\"\\\",\\\"data_type\\\":\\\"\"+DATA_TYPE+\"\\\",\\\"scene\\\":\\\"\"+SCENE+\"\\\",\\\"lat\\\":\\\"\"+LAT+\"\\\",\\\"lng\\\":\\\"\"+LNG+\"\\\"}\"\n",
    "    paramBase64 = base64.b64encode(param.encode('utf-8'))\n",
    "\n",
    "    m2 = hashlib.md5()\n",
    "    m2.update((API_KEY + curTime + str(paramBase64,'utf-8')).encode('utf-8'))\n",
    "    checkSum = m2.hexdigest()\n",
    "\n",
    "    header = {\n",
    "        'X-CurTime': curTime,\n",
    "        'X-Param': paramBase64,\n",
    "        'X-Appid': APPID,\n",
    "        'X-CheckSum': checkSum,\n",
    "    }\n",
    "    return header\n",
    "\n",
    "def readFile(filePath):\n",
    "    binfile = open(filePath, 'rb')\n",
    "    data = binfile.read()\n",
    "    return data\n",
    "\n",
    "bintext = str.encode(u'今天的天气怎么样')\n",
    "#r = requests.post(URL, headers=buildHeader(), data=readFile(FILE_PATH))\n",
    "r = requests.post(URL, headers=buildHeader(), data=bintext)\n",
    "print(str(r.content,'utf-8'))"
   ]
  },
  {
   "cell_type": "code",
   "execution_count": null,
   "metadata": {},
   "outputs": [],
   "source": [
    "\"sid\":\"ara04e09fb2@dx0001108c9b01094000\" \"sid\":\"ara06649cca@dx0001108c9b30000100\""
   ]
  },
  {
   "cell_type": "code",
   "execution_count": 18,
   "metadata": {},
   "outputs": [],
   "source": [
    "import json\n",
    "a=json.loads(r.content.decode('utf-8'))"
   ]
  },
  {
   "cell_type": "code",
   "execution_count": 19,
   "metadata": {},
   "outputs": [
    {
     "data": {
      "text/plain": [
       "{'data': [{'sub': 'iat',\n",
       "   'auth_id': '3635838bdfb791f1f5a6cfa569caa02a',\n",
       "   'text': {'bg': 0,\n",
       "    'ed': 0,\n",
       "    'ls': False,\n",
       "    'sn': 1,\n",
       "    'ws': [{'bg': 0, 'cw': [{'sc': 0, 'w': '北京'}]},\n",
       "     {'bg': 0, 'cw': [{'sc': 0, 'w': '明天'}]},\n",
       "     {'bg': 0, 'cw': [{'sc': 0, 'w': '的'}]},\n",
       "     {'bg': 0, 'cw': [{'sc': 0, 'w': '天气'}]},\n",
       "     {'bg': 0, 'cw': [{'sc': 0, 'w': '怎么样'}]}]},\n",
       "   'result_id': 1},\n",
       "  {'sub': 'iat',\n",
       "   'auth_id': '3635838bdfb791f1f5a6cfa569caa02a',\n",
       "   'text': {'bg': 0,\n",
       "    'ed': 0,\n",
       "    'ls': True,\n",
       "    'sn': 2,\n",
       "    'ws': [{'bg': 0, 'cw': [{'sc': 0, 'w': ''}]}]},\n",
       "   'result_id': 2}],\n",
       " 'sid': 'ara063e7cf6@dx0001108b5f90000100',\n",
       " 'code': '0',\n",
       " 'desc': 'success'}"
      ]
     },
     "execution_count": 19,
     "metadata": {},
     "output_type": "execute_result"
    }
   ],
   "source": [
    "json.loads(r.content.decode('utf-8'))"
   ]
  },
  {
   "cell_type": "code",
   "execution_count": 33,
   "metadata": {},
   "outputs": [
    {
     "data": {
      "text/plain": [
       "[{'bg': 0, 'cw': [{'sc': 0, 'w': '北京'}]},\n",
       " {'bg': 0, 'cw': [{'sc': 0, 'w': '明天'}]},\n",
       " {'bg': 0, 'cw': [{'sc': 0, 'w': '的'}]},\n",
       " {'bg': 0, 'cw': [{'sc': 0, 'w': '天气'}]},\n",
       " {'bg': 0, 'cw': [{'sc': 0, 'w': '怎么样'}]}]"
      ]
     },
     "execution_count": 33,
     "metadata": {},
     "output_type": "execute_result"
    }
   ],
   "source": [
    "b=a['data'][0]['text']['ws'][:]\n",
    "b"
   ]
  },
  {
   "cell_type": "code",
   "execution_count": 38,
   "metadata": {},
   "outputs": [
    {
     "name": "stdout",
     "output_type": "stream",
     "text": [
      "北京\n",
      "明天\n",
      "的\n",
      "天气\n",
      "怎么样\n"
     ]
    }
   ],
   "source": [
    "for i in b:\n",
    "    print(i['cw'][0]['w'])"
   ]
  },
  {
   "cell_type": "code",
   "execution_count": null,
   "metadata": {},
   "outputs": [],
   "source": []
  }
 ],
 "metadata": {
  "kernelspec": {
   "display_name": "Python 3",
   "language": "python",
   "name": "python3"
  },
  "language_info": {
   "codemirror_mode": {
    "name": "ipython",
    "version": 3
   },
   "file_extension": ".py",
   "mimetype": "text/x-python",
   "name": "python",
   "nbconvert_exporter": "python",
   "pygments_lexer": "ipython3",
   "version": "3.7.3"
  }
 },
 "nbformat": 4,
 "nbformat_minor": 2
}
