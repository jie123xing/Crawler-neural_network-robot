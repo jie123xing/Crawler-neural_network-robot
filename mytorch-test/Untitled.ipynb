{
 "cells": [
  {
   "cell_type": "code",
   "execution_count": 1,
   "metadata": {},
   "outputs": [
    {
     "name": "stdout",
     "output_type": "stream",
     "text": [
      "                                             weather  table\n",
      "0  [[65, 70, 64, 67], [65, 70, 64, 67], [65, 70, ...      1\n",
      "1  [[65, 70, 64, 67], [65, 70, 64, 67], [65, 70, ...      2\n"
     ]
    }
   ],
   "source": [
    "import pandas as pd\n",
    "import numpy as np\n",
    "\n",
    "# 输入一些数据（字典格式）\n",
    "data = {\n",
    "    \"weather\":[[[65, 70, 64, 67],[65, 70, 64, 67],[65, 70, 64, 67],[65, 70, 64, 67]],[[65, 70, 64, 67],[65, 70, 64, 67],[65, 70, 64, 67],[65, 70, 64, 67]]],\n",
    "    \"table\":[1,2]\n",
    "}\n",
    "# 将字典格式转化为DataFrame格式\n",
    "df = pd.DataFrame(data)\n",
    "# 打印DataFrame\n",
    "print(df)\n",
    "# 进行一些操作\n",
    "# df['身高'] = df['身高']+1\n",
    "# print(df)\n",
    "# 存储为CSV文件\n",
    "df.to_csv('1.csv')       # 相对地址\n",
    "# df.to_csv('E:/data.csv')    # 绝对地址格式1\n",
    "# df.to_csv(r'E:\\data.csv')   # 绝对地址格式2\n",
    "# df.to_csv('E:\\\\data.csv')   # 绝对地址格式3"
   ]
  },
  {
   "cell_type": "code",
   "execution_count": 2,
   "metadata": {},
   "outputs": [],
   "source": [
    "df = pd.read_csv('formatweather.csv')"
   ]
  },
  {
   "cell_type": "code",
   "execution_count": 3,
   "metadata": {},
   "outputs": [
    {
     "data": {
      "text/plain": [
       "(43823, 10)"
      ]
     },
     "execution_count": 3,
     "metadata": {},
     "output_type": "execute_result"
    }
   ],
   "source": [
    "df.shape"
   ]
  },
  {
   "cell_type": "code",
   "execution_count": 4,
   "metadata": {},
   "outputs": [
    {
     "data": {
      "text/plain": [
       "array([1.        , 0.09920847, 0.27941176, 0.13114753, 0.54545456,\n",
       "       0.33333334, 0.00229001, 0.        , 0.        , 0.09920847])"
      ]
     },
     "execution_count": 4,
     "metadata": {},
     "output_type": "execute_result"
    }
   ],
   "source": [
    "df.values[0]"
   ]
  },
  {
   "cell_type": "code",
   "execution_count": 31,
   "metadata": {},
   "outputs": [],
   "source": [
    "import csv"
   ]
  },
  {
   "cell_type": "code",
   "execution_count": 55,
   "metadata": {},
   "outputs": [],
   "source": [
    "trainlen=df.shape[0]-8\n",
    "with open('2.csv','a',encoding='utf-8',newline='') as f:\n",
    "    writer=csv.writer(f,dialect='excel')\n",
    "    writer.writerow(['data','label'])\n",
    "    for t in range(trainlen):  #0-----43823-8\n",
    "        trainx=[df.values[t:t+8,1:9]]  #1-8列  0-7行\n",
    "        label=[df.values[t+7,9]]       #9列     7行\n",
    "        \n",
    "        #print([df.values[t:t+8,1:10]],label)\n",
    "        writer.writerow([trainx,label])"
   ]
  },
  {
   "cell_type": "code",
   "execution_count": 51,
   "metadata": {},
   "outputs": [
    {
     "data": {
      "text/plain": [
       "(8, 8)"
      ]
     },
     "execution_count": 51,
     "metadata": {},
     "output_type": "execute_result"
    }
   ],
   "source": [
    "(np.array(trainx)).shape"
   ]
  },
  {
   "cell_type": "code",
   "execution_count": 37,
   "metadata": {},
   "outputs": [
    {
     "data": {
      "text/plain": [
       "[array([[2.91750500e-02, 2.20588240e-01, 9.83606600e-02, 8.00000000e-01,\n",
       "         0.00000000e+00, 7.48526000e-02, 0.00000000e+00, 0.00000000e+00],\n",
       "        [3.42052300e-02, 2.20588240e-01, 1.14754096e-01, 8.00000000e-01,\n",
       "         0.00000000e+00, 8.47816800e-02, 0.00000000e+00, 0.00000000e+00],\n",
       "        [4.22535200e-02, 2.35294120e-01, 1.31147530e-01, 8.00000000e-01,\n",
       "         0.00000000e+00, 9.31897800e-02, 0.00000000e+00, 0.00000000e+00],\n",
       "        [2.81690140e-02, 2.35294120e-01, 1.47540990e-01, 7.81818200e-01,\n",
       "         0.00000000e+00, 1.00059815e-01, 0.00000000e+00, 0.00000000e+00],\n",
       "        [3.62173020e-02, 2.64705900e-01, 1.47540990e-01, 7.63636350e-01,\n",
       "         3.33333340e-01, 6.10099970e-03, 0.00000000e+00, 0.00000000e+00],\n",
       "        [4.82897400e-02, 2.64705900e-01, 1.63934420e-01, 7.63636350e-01,\n",
       "         3.33333340e-01, 9.16004500e-03, 0.00000000e+00, 0.00000000e+00],\n",
       "        [4.92957760e-02, 2.64705900e-01, 1.80327860e-01, 7.63636350e-01,\n",
       "         1.00000000e+00, 7.51943970e-04, 0.00000000e+00, 0.00000000e+00],\n",
       "        [5.23138830e-02, 2.64705900e-01, 1.80327860e-01, 7.63636350e-01,\n",
       "         3.33333340e-01, 2.29001120e-03, 0.00000000e+00, 0.00000000e+00]])]"
      ]
     },
     "execution_count": 37,
     "metadata": {},
     "output_type": "execute_result"
    }
   ],
   "source": [
    "trainx"
   ]
  },
  {
   "cell_type": "code",
   "execution_count": 38,
   "metadata": {},
   "outputs": [
    {
     "data": {
      "text/plain": [
       "[0.056338027]"
      ]
     },
     "execution_count": 38,
     "metadata": {},
     "output_type": "execute_result"
    }
   ],
   "source": [
    "label"
   ]
  },
  {
   "cell_type": "code",
   "execution_count": 52,
   "metadata": {},
   "outputs": [],
   "source": [
    "df1 = pd.read_csv('1.csv')"
   ]
  },
  {
   "cell_type": "code",
   "execution_count": 50,
   "metadata": {},
   "outputs": [
    {
     "data": {
      "text/plain": [
       "'[0.020120725]'"
      ]
     },
     "execution_count": 50,
     "metadata": {},
     "output_type": "execute_result"
    }
   ],
   "source": [
    "df1.values[0,1]"
   ]
  },
  {
   "cell_type": "code",
   "execution_count": 53,
   "metadata": {},
   "outputs": [
    {
     "data": {
      "text/html": [
       "<div>\n",
       "<style scoped>\n",
       "    .dataframe tbody tr th:only-of-type {\n",
       "        vertical-align: middle;\n",
       "    }\n",
       "\n",
       "    .dataframe tbody tr th {\n",
       "        vertical-align: top;\n",
       "    }\n",
       "\n",
       "    .dataframe thead th {\n",
       "        text-align: right;\n",
       "    }\n",
       "</style>\n",
       "<table border=\"1\" class=\"dataframe\">\n",
       "  <thead>\n",
       "    <tr style=\"text-align: right;\">\n",
       "      <th></th>\n",
       "      <th>data</th>\n",
       "      <th>label</th>\n",
       "    </tr>\n",
       "  </thead>\n",
       "  <tbody>\n",
       "    <tr>\n",
       "      <th>0</th>\n",
       "      <td>[[2.01207250e-02 2.05882360e-01 8.19672100e-02...</td>\n",
       "      <td>NaN</td>\n",
       "    </tr>\n",
       "    <tr>\n",
       "      <th>1</th>\n",
       "      <td>0.00000000e+00 6.64445000e-02 0.00000000e+00...</td>\n",
       "      <td>NaN</td>\n",
       "    </tr>\n",
       "    <tr>\n",
       "      <th>2</th>\n",
       "      <td>[2.91750500e-02 2.20588240e-01 9.83606600e-02...</td>\n",
       "      <td>NaN</td>\n",
       "    </tr>\n",
       "    <tr>\n",
       "      <th>3</th>\n",
       "      <td>0.00000000e+00 7.48526000e-02 0.00000000e+00...</td>\n",
       "      <td>NaN</td>\n",
       "    </tr>\n",
       "    <tr>\n",
       "      <th>4</th>\n",
       "      <td>[3.42052300e-02 2.20588240e-01 1.14754096e-01...</td>\n",
       "      <td>NaN</td>\n",
       "    </tr>\n",
       "    <tr>\n",
       "      <th>5</th>\n",
       "      <td>0.00000000e+00 8.47816800e-02 0.00000000e+00...</td>\n",
       "      <td>NaN</td>\n",
       "    </tr>\n",
       "    <tr>\n",
       "      <th>6</th>\n",
       "      <td>[4.22535200e-02 2.35294120e-01 1.31147530e-01...</td>\n",
       "      <td>NaN</td>\n",
       "    </tr>\n",
       "    <tr>\n",
       "      <th>7</th>\n",
       "      <td>0.00000000e+00 9.31897800e-02 0.00000000e+00...</td>\n",
       "      <td>NaN</td>\n",
       "    </tr>\n",
       "    <tr>\n",
       "      <th>8</th>\n",
       "      <td>[2.81690140e-02 2.35294120e-01 1.47540990e-01...</td>\n",
       "      <td>NaN</td>\n",
       "    </tr>\n",
       "    <tr>\n",
       "      <th>9</th>\n",
       "      <td>0.00000000e+00 1.00059815e-01 0.00000000e+00...</td>\n",
       "      <td>NaN</td>\n",
       "    </tr>\n",
       "    <tr>\n",
       "      <th>10</th>\n",
       "      <td>[3.62173020e-02 2.64705900e-01 1.47540990e-01...</td>\n",
       "      <td>NaN</td>\n",
       "    </tr>\n",
       "    <tr>\n",
       "      <th>11</th>\n",
       "      <td>3.33333340e-01 6.10099970e-03 0.00000000e+00...</td>\n",
       "      <td>NaN</td>\n",
       "    </tr>\n",
       "    <tr>\n",
       "      <th>12</th>\n",
       "      <td>[4.82897400e-02 2.64705900e-01 1.63934420e-01...</td>\n",
       "      <td>NaN</td>\n",
       "    </tr>\n",
       "    <tr>\n",
       "      <th>13</th>\n",
       "      <td>3.33333340e-01 9.16004500e-03 0.00000000e+00...</td>\n",
       "      <td>NaN</td>\n",
       "    </tr>\n",
       "    <tr>\n",
       "      <th>14</th>\n",
       "      <td>[4.92957760e-02 2.64705900e-01 1.80327860e-01...</td>\n",
       "      <td>NaN</td>\n",
       "    </tr>\n",
       "    <tr>\n",
       "      <th>15</th>\n",
       "      <td>1.00000000e+00 7.51943970e-04 0.00000000e+00...</td>\n",
       "      <td>[0.052313883]</td>\n",
       "    </tr>\n",
       "    <tr>\n",
       "      <th>16</th>\n",
       "      <td>[[2.91750500e-02 2.20588240e-01 9.83606600e-02...</td>\n",
       "      <td>NaN</td>\n",
       "    </tr>\n",
       "    <tr>\n",
       "      <th>17</th>\n",
       "      <td>0.00000000e+00 7.48526000e-02 0.00000000e+00...</td>\n",
       "      <td>NaN</td>\n",
       "    </tr>\n",
       "    <tr>\n",
       "      <th>18</th>\n",
       "      <td>[3.42052300e-02 2.20588240e-01 1.14754096e-01...</td>\n",
       "      <td>NaN</td>\n",
       "    </tr>\n",
       "    <tr>\n",
       "      <th>19</th>\n",
       "      <td>0.00000000e+00 8.47816800e-02 0.00000000e+00...</td>\n",
       "      <td>NaN</td>\n",
       "    </tr>\n",
       "    <tr>\n",
       "      <th>20</th>\n",
       "      <td>[4.22535200e-02 2.35294120e-01 1.31147530e-01...</td>\n",
       "      <td>NaN</td>\n",
       "    </tr>\n",
       "    <tr>\n",
       "      <th>21</th>\n",
       "      <td>0.00000000e+00 9.31897800e-02 0.00000000e+00...</td>\n",
       "      <td>NaN</td>\n",
       "    </tr>\n",
       "    <tr>\n",
       "      <th>22</th>\n",
       "      <td>[2.81690140e-02 2.35294120e-01 1.47540990e-01...</td>\n",
       "      <td>NaN</td>\n",
       "    </tr>\n",
       "    <tr>\n",
       "      <th>23</th>\n",
       "      <td>0.00000000e+00 1.00059815e-01 0.00000000e+00...</td>\n",
       "      <td>NaN</td>\n",
       "    </tr>\n",
       "    <tr>\n",
       "      <th>24</th>\n",
       "      <td>[3.62173020e-02 2.64705900e-01 1.47540990e-01...</td>\n",
       "      <td>NaN</td>\n",
       "    </tr>\n",
       "    <tr>\n",
       "      <th>25</th>\n",
       "      <td>3.33333340e-01 6.10099970e-03 0.00000000e+00...</td>\n",
       "      <td>NaN</td>\n",
       "    </tr>\n",
       "    <tr>\n",
       "      <th>26</th>\n",
       "      <td>[4.82897400e-02 2.64705900e-01 1.63934420e-01...</td>\n",
       "      <td>NaN</td>\n",
       "    </tr>\n",
       "    <tr>\n",
       "      <th>27</th>\n",
       "      <td>3.33333340e-01 9.16004500e-03 0.00000000e+00...</td>\n",
       "      <td>NaN</td>\n",
       "    </tr>\n",
       "    <tr>\n",
       "      <th>28</th>\n",
       "      <td>[4.92957760e-02 2.64705900e-01 1.80327860e-01...</td>\n",
       "      <td>NaN</td>\n",
       "    </tr>\n",
       "    <tr>\n",
       "      <th>29</th>\n",
       "      <td>1.00000000e+00 7.51943970e-04 0.00000000e+00...</td>\n",
       "      <td>NaN</td>\n",
       "    </tr>\n",
       "    <tr>\n",
       "      <th>30</th>\n",
       "      <td>[5.23138830e-02 2.64705900e-01 1.80327860e-01...</td>\n",
       "      <td>NaN</td>\n",
       "    </tr>\n",
       "    <tr>\n",
       "      <th>31</th>\n",
       "      <td>3.33333340e-01 2.29001120e-03 0.00000000e+00...</td>\n",
       "      <td>[0.056338027]</td>\n",
       "    </tr>\n",
       "  </tbody>\n",
       "</table>\n",
       "</div>"
      ],
      "text/plain": [
       "                                                 data          label\n",
       "0   [[2.01207250e-02 2.05882360e-01 8.19672100e-02...            NaN\n",
       "1     0.00000000e+00 6.64445000e-02 0.00000000e+00...            NaN\n",
       "2    [2.91750500e-02 2.20588240e-01 9.83606600e-02...            NaN\n",
       "3     0.00000000e+00 7.48526000e-02 0.00000000e+00...            NaN\n",
       "4    [3.42052300e-02 2.20588240e-01 1.14754096e-01...            NaN\n",
       "5     0.00000000e+00 8.47816800e-02 0.00000000e+00...            NaN\n",
       "6    [4.22535200e-02 2.35294120e-01 1.31147530e-01...            NaN\n",
       "7     0.00000000e+00 9.31897800e-02 0.00000000e+00...            NaN\n",
       "8    [2.81690140e-02 2.35294120e-01 1.47540990e-01...            NaN\n",
       "9     0.00000000e+00 1.00059815e-01 0.00000000e+00...            NaN\n",
       "10   [3.62173020e-02 2.64705900e-01 1.47540990e-01...            NaN\n",
       "11    3.33333340e-01 6.10099970e-03 0.00000000e+00...            NaN\n",
       "12   [4.82897400e-02 2.64705900e-01 1.63934420e-01...            NaN\n",
       "13    3.33333340e-01 9.16004500e-03 0.00000000e+00...            NaN\n",
       "14   [4.92957760e-02 2.64705900e-01 1.80327860e-01...            NaN\n",
       "15    1.00000000e+00 7.51943970e-04 0.00000000e+00...  [0.052313883]\n",
       "16  [[2.91750500e-02 2.20588240e-01 9.83606600e-02...            NaN\n",
       "17    0.00000000e+00 7.48526000e-02 0.00000000e+00...            NaN\n",
       "18   [3.42052300e-02 2.20588240e-01 1.14754096e-01...            NaN\n",
       "19    0.00000000e+00 8.47816800e-02 0.00000000e+00...            NaN\n",
       "20   [4.22535200e-02 2.35294120e-01 1.31147530e-01...            NaN\n",
       "21    0.00000000e+00 9.31897800e-02 0.00000000e+00...            NaN\n",
       "22   [2.81690140e-02 2.35294120e-01 1.47540990e-01...            NaN\n",
       "23    0.00000000e+00 1.00059815e-01 0.00000000e+00...            NaN\n",
       "24   [3.62173020e-02 2.64705900e-01 1.47540990e-01...            NaN\n",
       "25    3.33333340e-01 6.10099970e-03 0.00000000e+00...            NaN\n",
       "26   [4.82897400e-02 2.64705900e-01 1.63934420e-01...            NaN\n",
       "27    3.33333340e-01 9.16004500e-03 0.00000000e+00...            NaN\n",
       "28   [4.92957760e-02 2.64705900e-01 1.80327860e-01...            NaN\n",
       "29    1.00000000e+00 7.51943970e-04 0.00000000e+00...            NaN\n",
       "30   [5.23138830e-02 2.64705900e-01 1.80327860e-01...            NaN\n",
       "31    3.33333340e-01 2.29001120e-03 0.00000000e+00...  [0.056338027]"
      ]
     },
     "execution_count": 53,
     "metadata": {},
     "output_type": "execute_result"
    }
   ],
   "source": [
    "df1"
   ]
  },
  {
   "cell_type": "code",
   "execution_count": null,
   "metadata": {},
   "outputs": [],
   "source": []
  }
 ],
 "metadata": {
  "kernelspec": {
   "display_name": "Python 3",
   "language": "python",
   "name": "python3"
  },
  "language_info": {
   "codemirror_mode": {
    "name": "ipython",
    "version": 3
   },
   "file_extension": ".py",
   "mimetype": "text/x-python",
   "name": "python",
   "nbconvert_exporter": "python",
   "pygments_lexer": "ipython3",
   "version": "3.7.3"
  }
 },
 "nbformat": 4,
 "nbformat_minor": 2
}
