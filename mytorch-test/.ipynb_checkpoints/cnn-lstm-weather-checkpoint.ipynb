{
 "cells": [
  {
   "cell_type": "code",
   "execution_count": 38,
   "metadata": {},
   "outputs": [],
   "source": [
    "import csv\n",
    "\n",
    "import pandas as pd\n",
    "\n",
    "import numpy as np\n",
    "\n",
    "import torch\n",
    "\n",
    "from torch import nn, optim\n",
    "\n",
    "from torch.autograd import Variable\n",
    "\n",
    "from torch.utils.data import Dataset\n",
    "\n",
    "from torch.utils.data import DataLoader\n",
    "\n",
    "import time\n",
    "\n",
    "import matplotlib.pyplot as plt"
   ]
  },
  {
   "cell_type": "code",
   "execution_count": 39,
   "metadata": {},
   "outputs": [],
   "source": [
    "# 定义自己的类\n",
    "class MyDataset(Dataset):\n",
    "    \n",
    "    # 初始化\n",
    "    def __init__(self, file_name):\n",
    "        # 读入数据\n",
    "        self.data = pd.read_csv(file_name)\n",
    "    \n",
    "    # 返回df的长度\n",
    "    def __len__(self):\n",
    "        return len(self.data)\n",
    "    \n",
    "    # 获取第idx+1列的数据\n",
    "    def __getitem__(self, idx):\n",
    "        return self.data.values[idx,1:10]\n",
    "\n",
    "# 通过实例化对象来访问该类\n",
    "# 假设同目录下存在名为median_benchmark.csv的文件\n",
    "ds = MyDataset('formatweather.csv')\n",
    "ds=np.asarray(ds[:], dtype = np.float32)#####源文件float32 ,不知道为什么读取变为float64，这里再进行处理  最大最小化时变化\n",
    "##dl = DataLoader(ds, batch_size=100, shuffle=False)\n",
    "\n",
    "#####处理为torch，分为trainx，trainy\n",
    "torchds=torch.from_numpy(ds[:])"
   ]
  },
  {
   "cell_type": "raw",
   "metadata": {},
   "source": [
    "train_dataset =torchds[:30700]  ##0.7*43823\n",
    "test_dataset =torchds[30700:]\n",
    "dltest = DataLoader(test_dataset, batch_size=100, shuffle=False)"
   ]
  },
  {
   "cell_type": "code",
   "execution_count": 40,
   "metadata": {},
   "outputs": [],
   "source": [
    "# 定义 Recurrent Network 模型\n",
    "\n",
    "class Rnn(nn.Module):\n",
    "\n",
    "    def __init__(self, in_dim, hidden_dim, n_layer, n_class):\n",
    "\n",
    "        super(Rnn, self).__init__()\n",
    "\n",
    "        self.n_layer = n_layer\n",
    "\n",
    "        self.hidden_dim = hidden_dim\n",
    "\n",
    "        self.lstm = nn.LSTM(in_dim, hidden_dim, n_layer, batch_first=True)\n",
    "\n",
    "        self.classifier = nn.Linear(hidden_dim, n_class)\n",
    "\n",
    "\n",
    "\n",
    "    def forward(self, x):\n",
    "\n",
    "        # h0 = Variable(torch.zeros(self.n_layer, x.size(1),\n",
    "\n",
    "        #   self.hidden_dim)).cuda()\n",
    "\n",
    "        # c0 = Variable(torch.zeros(self.n_layer, x.size(1),\n",
    "\n",
    "        #   self.hidden_dim)).cuda()\n",
    "\n",
    "        out, _ = self.lstm(x) #out 100 28 128 _ [0]2 100 128 [1]2 100 128\n",
    "\n",
    "        out = out[:, -1, :]  #100,128\n",
    "\n",
    "        out = self.classifier(out) #100,10\n",
    "\n",
    "        return out\n"
   ]
  },
  {
   "cell_type": "code",
   "execution_count": 41,
   "metadata": {},
   "outputs": [],
   "source": [
    "class Cnn(nn.Module):\n",
    "\n",
    "    def __init__(self, in_dim, n_class):\n",
    "\n",
    "        super(Cnn, self).__init__()\n",
    "\n",
    "        self.conv = nn.Sequential(\n",
    "\n",
    "            nn.Conv2d(in_dim, 6, (1,2), stride=(1), padding=(0,1)),#6,1,9\n",
    "\n",
    "            nn.ReLU(True),\n",
    "\n",
    "            nn.MaxPool2d(1, 1),#6,1,9\n",
    "\n",
    "            nn.Conv2d(6, 16, (1,3), stride=(1), padding=(0,1)),\n",
    "\n",
    "            nn.ReLU(True), nn.MaxPool2d(1, 1))#16,1,9\n",
    "   \n",
    "            #5*144\n",
    "\n",
    "        self.fc = nn.Linear(144, 16)\n",
    "        \n",
    "        self.fc1 = nn.Linear(16, 8)\n",
    "        \n",
    "        self.fc2 = nn.Linear(8, n_class)\n",
    "\n",
    "\n",
    "\n",
    "    def forward(self, x):\n",
    "\n",
    "        out = self.conv(x)\n",
    "\n",
    "        out = out.view(out.size(0), -1)\n",
    "\n",
    "        out = self.fc(out)\n",
    "        \n",
    "        out1=self.fc1(out)\n",
    "        \n",
    "        out=self.fc2(out1)\n",
    "\n",
    "        return out1"
   ]
  },
  {
   "cell_type": "code",
   "execution_count": 42,
   "metadata": {},
   "outputs": [],
   "source": [
    "cnnmodel = Cnn(1, 1)\n",
    "cnnmodel.load_state_dict(torch.load('./weathercnn-0.01-true-7.14.pth'))\n",
    "\n",
    "\n",
    "cnnmodel.eval()\n",
    "    \n",
    "test_x=torchds[:30700,0:8]\n",
    "\n",
    "test_x=test_x.view(-1,1,1,8)\n",
    "\n",
    "test_y=torchds[:30700,8]\n",
    "\n",
    "test_y=test_y.view(-1,1)\n",
    "\n",
    "test_x=Variable(test_x)\n",
    "\n",
    "test_y=Variable(test_y)\n",
    "\n",
    "cnnout = cnnmodel(test_x) #####8"
   ]
  },
  {
   "cell_type": "code",
   "execution_count": 43,
   "metadata": {},
   "outputs": [],
   "source": [
    "rnnmodel = Rnn(8, 4, 2, 1)  \n",
    "##model.load_state_dict(torch.load('./weathercnn.pth'))\n",
    "criterion = nn.MSELoss()\n",
    "optimizer = optim.SGD(rnnmodel.parameters(), lr=0.01) ####速度很快"
   ]
  },
  {
   "cell_type": "code",
   "execution_count": 44,
   "metadata": {},
   "outputs": [],
   "source": [
    "train_dataset =cnnout  ##0.7*43823  8\n",
    "test_dataset  =test_y\n",
    "dltrain = DataLoader(train_dataset, batch_size=100, shuffle=False)\n",
    "dltest  = DataLoader(test_dataset, batch_size=100, shuffle=False)"
   ]
  },
  {
   "cell_type": "code",
   "execution_count": 45,
   "metadata": {},
   "outputs": [
    {
     "data": {
      "text/plain": [
       "torch.Size([30700, 8])"
      ]
     },
     "execution_count": 45,
     "metadata": {},
     "output_type": "execute_result"
    }
   ],
   "source": [
    "cnnout.size()"
   ]
  },
  {
   "cell_type": "code",
   "execution_count": 49,
   "metadata": {},
   "outputs": [
    {
     "name": "stdout",
     "output_type": "stream",
     "text": [
      "epoch 1\n",
      "**********\n",
      "running_loss:-------\n",
      "0.008310387454598387\n",
      "epoch 2\n",
      "**********\n",
      "running_loss:-------\n",
      "0.008310150374487386\n",
      "epoch 3\n",
      "**********\n",
      "running_loss:-------\n",
      "0.008309914172172084\n",
      "epoch 4\n",
      "**********\n",
      "running_loss:-------\n",
      "0.008309679171551097\n",
      "epoch 5\n",
      "**********\n",
      "running_loss:-------\n",
      "0.008309445288873887\n",
      "epoch 6\n",
      "**********\n",
      "running_loss:-------\n",
      "0.008309212462845845\n",
      "epoch 7\n",
      "**********\n",
      "running_loss:-------\n",
      "0.008308980717161232\n",
      "epoch 8\n",
      "**********\n",
      "running_loss:-------\n",
      "0.008308750380594978\n",
      "epoch 9\n",
      "**********\n",
      "running_loss:-------\n",
      "0.00830852078179779\n",
      "epoch 10\n",
      "**********\n",
      "running_loss:-------\n",
      "0.008308292304363132\n",
      "epoch 11\n",
      "**********\n",
      "running_loss:-------\n",
      "0.00830806502176751\n",
      "epoch 12\n",
      "**********\n",
      "running_loss:-------\n",
      "0.008307838839198323\n",
      "epoch 13\n",
      "**********\n",
      "running_loss:-------\n",
      "0.008307613703543451\n",
      "epoch 14\n",
      "**********\n",
      "running_loss:-------\n",
      "0.00830738967556425\n",
      "epoch 15\n",
      "**********\n",
      "running_loss:-------\n",
      "0.008307166497171602\n",
      "epoch 16\n",
      "**********\n",
      "running_loss:-------\n",
      "0.008306944599608197\n",
      "epoch 17\n",
      "**********\n",
      "running_loss:-------\n",
      "0.00830672357982864\n",
      "epoch 18\n",
      "**********\n",
      "running_loss:-------\n",
      "0.0083065036257932\n",
      "epoch 19\n",
      "**********\n",
      "running_loss:-------\n",
      "0.00830628498912084\n",
      "epoch 20\n",
      "**********\n",
      "running_loss:-------\n",
      "0.008306066839321436\n"
     ]
    },
    {
     "data": {
      "image/png": "[encoded data removed]",
      "text/plain": [
       "<Figure size 432x288 with 1 Axes>"
      ]
     },
     "metadata": {
      "needs_background": "light"
     },
     "output_type": "display_data"
    },
    {
     "name": "stdout",
     "output_type": "stream",
     "text": [
      "Wall time: 1min 26s\n"
     ]
    }
   ],
   "source": [
    "%%time \n",
    "losslist=[]\n",
    "for epoch in range(20):\n",
    " \n",
    "    print('epoch {}'.format(epoch + 1))\n",
    "\n",
    "    print('*' * 10)\n",
    "\n",
    "    running_loss = 0.0\n",
    "    \n",
    "    dldata=zip(dltrain,dltest)  #cnnout,trainy0.7\n",
    "\n",
    "    for i, data in enumerate(dldata, 1):\n",
    "        \n",
    "            train_x=data[0][:,:]\n",
    "            \n",
    "            train_x=train_x.view(-1,1,8)\n",
    "            \n",
    "            train_y=data[1][:,0]\n",
    "            \n",
    "            train_y=train_y.view(-1,1)\n",
    "            \n",
    "            train_x=Variable(train_x)\n",
    "            \n",
    "            train_y=Variable(train_y)\n",
    "        \n",
    "            out = rnnmodel(train_x)\n",
    "\n",
    "            loss = criterion(out, train_y)\n",
    "            \n",
    "            running_loss += loss.item() * train_y.size(0)\n",
    "            \n",
    "\n",
    "            # 向后传播\n",
    "\n",
    "            optimizer.zero_grad()\n",
    "\n",
    "            loss.backward()\n",
    "\n",
    "            optimizer.step()\n",
    "            \n",
    "    losslist.append(running_loss / (len(train_dataset)))   \n",
    "           \n",
    "                \n",
    "    print('running_loss:-------')\n",
    "    print(running_loss / (len(train_dataset)))  \n",
    "    \n",
    "plt.plot(losslist,'r-.') \n",
    "plt.show()"
   ]
  },
  {
   "cell_type": "raw",
   "metadata": {},
   "source": [
    "dldata=zip(dltrain,dltest)\n",
    "for i, data in enumerate(dldata, 1):\n",
    "    print(i, data)\n",
    "list1,list2=[1,2,3,4,5],[10,11,12,13,14,15]\n",
    "for i,x,y  in enumerate(list1,list2,1):\n",
    "    print(i,x,y)"
   ]
  },
  {
   "cell_type": "code",
   "execution_count": 48,
   "metadata": {},
   "outputs": [
    {
     "ename": "NameError",
     "evalue": "name 'train_y' is not defined",
     "output_type": "error",
     "traceback": [
      "\u001b[1;31m---------------------------------------------------------------------------\u001b[0m",
      "\u001b[1;31mNameError\u001b[0m                                 Traceback (most recent call last)",
      "\u001b[1;32m<ipython-input-48-4e1bb913957b>\u001b[0m in \u001b[0;36m<module>\u001b[1;34m\u001b[0m\n\u001b[0;32m      1\u001b[0m \u001b[0mx\u001b[0m\u001b[1;33m=\u001b[0m\u001b[0mrange\u001b[0m\u001b[1;33m(\u001b[0m\u001b[1;36m0\u001b[0m\u001b[1;33m,\u001b[0m\u001b[1;36m100\u001b[0m\u001b[1;33m)\u001b[0m\u001b[1;33m\u001b[0m\u001b[1;33m\u001b[0m\u001b[0m\n\u001b[0;32m      2\u001b[0m \u001b[0mplt\u001b[0m\u001b[1;33m.\u001b[0m\u001b[0mfigure\u001b[0m\u001b[1;33m(\u001b[0m\u001b[0mnum\u001b[0m\u001b[1;33m=\u001b[0m\u001b[1;36m1\u001b[0m\u001b[1;33m,\u001b[0m\u001b[0mfigsize\u001b[0m\u001b[1;33m=\u001b[0m\u001b[1;33m(\u001b[0m\u001b[1;36m18\u001b[0m\u001b[1;33m,\u001b[0m\u001b[1;36m5\u001b[0m\u001b[1;33m)\u001b[0m\u001b[1;33m)\u001b[0m\u001b[1;31m#定义编号为1 大小为(8,5)\u001b[0m\u001b[1;33m\u001b[0m\u001b[1;33m\u001b[0m\u001b[0m\n\u001b[1;32m----> 3\u001b[1;33m \u001b[0mplt\u001b[0m\u001b[1;33m.\u001b[0m\u001b[0mplot\u001b[0m\u001b[1;33m(\u001b[0m\u001b[0mx\u001b[0m\u001b[1;33m,\u001b[0m\u001b[0mtrain_y\u001b[0m\u001b[1;33m.\u001b[0m\u001b[0mnumpy\u001b[0m\u001b[1;33m(\u001b[0m\u001b[1;33m)\u001b[0m\u001b[1;33m,\u001b[0m\u001b[1;34m'r-.'\u001b[0m\u001b[1;33m,\u001b[0m\u001b[0mlabel\u001b[0m\u001b[1;33m=\u001b[0m\u001b[1;34m'train_y'\u001b[0m\u001b[1;33m)\u001b[0m\u001b[1;33m\u001b[0m\u001b[1;33m\u001b[0m\u001b[0m\n\u001b[0m\u001b[0;32m      4\u001b[0m \u001b[0mplt\u001b[0m\u001b[1;33m.\u001b[0m\u001b[0mplot\u001b[0m\u001b[1;33m(\u001b[0m\u001b[0mx\u001b[0m\u001b[1;33m,\u001b[0m\u001b[0mout\u001b[0m\u001b[1;33m.\u001b[0m\u001b[0mdetach\u001b[0m\u001b[1;33m(\u001b[0m\u001b[1;33m)\u001b[0m\u001b[1;33m.\u001b[0m\u001b[0mnumpy\u001b[0m\u001b[1;33m(\u001b[0m\u001b[1;33m)\u001b[0m\u001b[1;33m,\u001b[0m\u001b[1;34m'b-.'\u001b[0m\u001b[1;33m,\u001b[0m\u001b[0mlabel\u001b[0m\u001b[1;33m=\u001b[0m\u001b[1;34m'out'\u001b[0m\u001b[1;33m)\u001b[0m\u001b[1;33m\u001b[0m\u001b[1;33m\u001b[0m\u001b[0m\n\u001b[0;32m      5\u001b[0m \u001b[0mplt\u001b[0m\u001b[1;33m.\u001b[0m\u001b[0mlegend\u001b[0m\u001b[1;33m(\u001b[0m\u001b[0mloc\u001b[0m\u001b[1;33m=\u001b[0m\u001b[1;34m'best'\u001b[0m\u001b[1;33m)\u001b[0m\u001b[1;31m#显示在最好的位置\u001b[0m\u001b[1;33m\u001b[0m\u001b[1;33m\u001b[0m\u001b[0m\n",
      "\u001b[1;31mNameError\u001b[0m: name 'train_y' is not defined"
     ]
    },
    {
     "data": {
      "text/plain": [
       "<Figure size 1296x360 with 0 Axes>"
      ]
     },
     "metadata": {},
     "output_type": "display_data"
    }
   ],
   "source": [
    "x=range(0,100)\n",
    "plt.figure(num=1,figsize=(18,5))#定义编号为1 大小为(8,5)\n",
    "plt.plot(x,train_y.numpy(),'r-.',label='train_y') \n",
    "plt.plot(x,out.detach().numpy(),'b-.',label='out') \n",
    "plt.legend(loc='best')#显示在最好的位置\n",
    "plt.show()"
   ]
  },
  {
   "cell_type": "code",
   "execution_count": null,
   "metadata": {},
   "outputs": [],
   "source": [
    "rnnmodel.eval()\n",
    "    \n",
    "test_x=torchds[30700:,0:8]\n",
    "\n",
    "test_x=test_x.view(-1,1,8)\n",
    "\n",
    "test_y=torchds[30700:,8]\n",
    "\n",
    "test_y=test_y.view(-1,1)\n",
    "\n",
    "test_x=Variable(test_x)\n",
    "\n",
    "test_y=Variable(test_y)\n",
    "\n",
    "testout = cnnmodel(test_x)\n",
    "\n",
    "lstmtestout=rnnmodel(testout)\n",
    "\n"
   ]
  },
  {
   "cell_type": "code",
   "execution_count": null,
   "metadata": {},
   "outputs": [],
   "source": [
    "#x=range(0,13123)\n",
    "x=range(1200,1300)\n",
    "plt.figure(num=1,figsize=(18,5))#定义编号为1 大小为(8,5)\n",
    "plt.plot(x,test_y.detach().numpy()[1200:1300],'r-.',label='test_y') \n",
    "plt.plot(x,out.detach().numpy()[1200:1300],'b-.',label='out') \n",
    "plt.legend(loc='best')#显示在最好的位置\n",
    "plt.show()"
   ]
  }
 ],
 "metadata": {
  "kernelspec": {
   "display_name": "Python 3",
   "language": "python",
   "name": "python3"
  },
  "language_info": {
   "codemirror_mode": {
    "name": "ipython",
    "version": 3
   },
   "file_extension": ".py",
   "mimetype": "text/x-python",
   "name": "python",
   "nbconvert_exporter": "python",
   "pygments_lexer": "ipython3",
   "version": "3.7.3"
  }
 },
 "nbformat": 4,
 "nbformat_minor": 2
}
