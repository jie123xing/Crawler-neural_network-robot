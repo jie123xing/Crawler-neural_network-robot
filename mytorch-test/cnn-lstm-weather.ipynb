{
 "cells": [
  {
   "cell_type": "code",
   "execution_count": 1,
   "metadata": {},
   "outputs": [],
   "source": [
    "import csv\n",
    "\n",
    "import pandas as pd\n",
    "\n",
    "import numpy as np\n",
    "\n",
    "import torch\n",
    "\n",
    "from torch import nn, optim\n",
    "\n",
    "from torch.autograd import Variable\n",
    "\n",
    "from torch.utils.data import Dataset\n",
    "\n",
    "from torch.utils.data import DataLoader\n",
    "\n",
    "import time\n",
    "\n",
    "import matplotlib.pyplot as plt"
   ]
  },
  {
   "cell_type": "code",
   "execution_count": 2,
   "metadata": {},
   "outputs": [],
   "source": [
    "# 定义自己的类\n",
    "class MyDataset(Dataset):\n",
    "    \n",
    "    # 初始化\n",
    "    def __init__(self, file_name):\n",
    "        # 读入数据\n",
    "        self.data = pd.read_csv(file_name)\n",
    "    \n",
    "    # 返回df的长度\n",
    "    def __len__(self):\n",
    "        return len(self.data)\n",
    "    \n",
    "    # 获取第idx+1列的数据\n",
    "    def __getitem__(self, idx):\n",
    "        return self.data.values[idx,1:10]\n",
    "\n",
    "# 通过实例化对象来访问该类\n",
    "# 假设同目录下存在名为median_benchmark.csv的文件\n",
    "ds = MyDataset('formatweather.csv')\n",
    "ds=np.asarray(ds[:], dtype = np.float32)#####源文件float32 ,不知道为什么读取变为float64，这里再进行处理  最大最小化时变化\n",
    "##dl = DataLoader(ds, batch_size=100, shuffle=False)\n",
    "\n",
    "#####处理为torch，分为trainx，trainy\n",
    "torchds=torch.from_numpy(ds[:])"
   ]
  },
  {
   "cell_type": "raw",
   "metadata": {},
   "source": [
    "train_dataset =torchds[:30700]  ##0.7*43823\n",
    "test_dataset =torchds[30700:]\n",
    "dltest = DataLoader(test_dataset, batch_size=100, shuffle=False)"
   ]
  },
  {
   "cell_type": "code",
   "execution_count": 3,
   "metadata": {},
   "outputs": [],
   "source": [
    "# 定义 Recurrent Network 模型\n",
    "\n",
    "class Rnn(nn.Module):\n",
    "\n",
    "    def __init__(self, in_dim, hidden_dim, n_layer, n_class):\n",
    "\n",
    "        super(Rnn, self).__init__()\n",
    "\n",
    "        self.n_layer = n_layer\n",
    "\n",
    "        self.hidden_dim = hidden_dim\n",
    "\n",
    "        self.lstm = nn.LSTM(in_dim, hidden_dim, n_layer, batch_first=True)\n",
    "\n",
    "        self.classifier = nn.Linear(hidden_dim, n_class)\n",
    "\n",
    "\n",
    "\n",
    "    def forward(self, x):\n",
    "\n",
    "        # h0 = Variable(torch.zeros(self.n_layer, x.size(1),\n",
    "\n",
    "        #   self.hidden_dim)).cuda()\n",
    "\n",
    "        # c0 = Variable(torch.zeros(self.n_layer, x.size(1),\n",
    "\n",
    "        #   self.hidden_dim)).cuda()\n",
    "\n",
    "        out, _ = self.lstm(x) #out 100 28 128 _ [0]2 100 128 [1]2 100 128\n",
    "\n",
    "        out = out[:, -1, :]  #100,128\n",
    "\n",
    "        out = self.classifier(out) #100,10\n",
    "\n",
    "        return out\n"
   ]
  },
  {
   "cell_type": "code",
   "execution_count": 4,
   "metadata": {},
   "outputs": [],
   "source": [
    "class Cnn(nn.Module):\n",
    "\n",
    "    def __init__(self, in_dim, n_class):\n",
    "\n",
    "        super(Cnn, self).__init__()\n",
    "\n",
    "        self.conv = nn.Sequential(\n",
    "\n",
    "            nn.Conv2d(in_dim, 6, (1,2), stride=(1), padding=(0,1)),#6,1,9\n",
    "\n",
    "            nn.ReLU(True),\n",
    "\n",
    "            nn.MaxPool2d(1, 1),#6,1,9\n",
    "\n",
    "            nn.Conv2d(6, 16, (1,3), stride=(1), padding=(0,1)),\n",
    "\n",
    "            nn.ReLU(True), nn.MaxPool2d(1, 1))#16,1,9\n",
    "   \n",
    "            #5*144\n",
    "\n",
    "        self.fc = nn.Linear(144, 16)\n",
    "        \n",
    "        self.fc1 = nn.Linear(16, 3)\n",
    "        \n",
    "        self.fc2 = nn.Linear(3, n_class)\n",
    "\n",
    "\n",
    "\n",
    "    def forward(self, x):\n",
    "\n",
    "        out = self.conv(x)\n",
    "\n",
    "        out = out.view(out.size(0), -1)\n",
    "\n",
    "        out = self.fc(out)\n",
    "        \n",
    "        out1=self.fc1(out)\n",
    "        \n",
    "        out=self.fc2(out1)\n",
    "\n",
    "        return out1"
   ]
  },
  {
   "cell_type": "code",
   "execution_count": 5,
   "metadata": {},
   "outputs": [],
   "source": [
    "cnnmodel = Cnn(1, 1)\n",
    "cnnmodel.load_state_dict(torch.load('./weathercnn-0.01-true-7.18.pth'))\n",
    "\n",
    "\n",
    "cnnmodel.eval()\n",
    "    \n",
    "#test_x=torchds[:30700,0:8]\n",
    "test_x=torchds[:30700,0:8]\n",
    "\n",
    "test_x=test_x.view(-1,1,1,8)\n",
    "\n",
    "#test_y=torchds[:30700,8]\n",
    "test_y=torchds[:30700,8]\n",
    "\n",
    "test_y=test_y.view(-1,1)\n",
    "\n",
    "test_x=Variable(test_x)\n",
    "\n",
    "test_y=Variable(test_y)\n",
    "\n",
    "cnnout = cnnmodel(test_x) #####8"
   ]
  },
  {
   "cell_type": "code",
   "execution_count": 6,
   "metadata": {},
   "outputs": [
    {
     "data": {
      "text/plain": [
       "torch.Size([30700, 3])"
      ]
     },
     "execution_count": 6,
     "metadata": {},
     "output_type": "execute_result"
    }
   ],
   "source": [
    "cnnout.size()"
   ]
  },
  {
   "cell_type": "code",
   "execution_count": 7,
   "metadata": {},
   "outputs": [],
   "source": [
    "rnnmodel = Rnn(3, 5, 2, 1)  \n",
    "##model.load_state_dict(torch.load('./weathercnn.pth'))\n",
    "criterion = nn.MSELoss()\n",
    "optimizer = optim.SGD(rnnmodel.parameters(), lr=0.1) ####速度很快"
   ]
  },
  {
   "cell_type": "code",
   "execution_count": 9,
   "metadata": {},
   "outputs": [
    {
     "name": "stdout",
     "output_type": "stream",
     "text": [
      "tensor([[-0.2014, -0.2062, -0.0376],\n",
      "        [-0.1936, -0.2219, -0.0433],\n",
      "        [-0.1866, -0.2360, -0.0484],\n",
      "        [-0.1999, -0.2114, -0.0386],\n",
      "        [-0.1990, -0.2161, -0.0326],\n",
      "        [-0.2030, -0.2086, -0.0313],\n",
      "        [-0.1904, -0.2364, -0.0436],\n",
      "        [-0.1820, -0.2494, -0.0505],\n",
      "        [-0.1838, -0.2382, -0.0465],\n",
      "        [-0.1837, -0.2360, -0.0472]], grad_fn=<SliceBackward>) tensor([[0.2384],\n",
      "        [0.2535],\n",
      "        [0.2274],\n",
      "        [0.2324],\n",
      "        [0.2233],\n",
      "        [0.2475],\n",
      "        [0.2626],\n",
      "        [0.2575],\n",
      "        [0.2565],\n",
      "        [0.2646]])\n"
     ]
    }
   ],
   "source": [
    "print(cnnout[1500:1510],test_y[1500:1510])"
   ]
  },
  {
   "cell_type": "code",
   "execution_count": 27,
   "metadata": {},
   "outputs": [
    {
     "data": {
      "text/plain": [
       "tensor([[-0.2014, -0.2062, -0.0376,  0.2384],\n",
       "        [-0.1936, -0.2219, -0.0433,  0.2535],\n",
       "        [-0.1866, -0.2360, -0.0484,  0.2274],\n",
       "        [-0.1999, -0.2114, -0.0386,  0.2324],\n",
       "        [-0.1990, -0.2161, -0.0326,  0.2233],\n",
       "        [-0.2030, -0.2086, -0.0313,  0.2475],\n",
       "        [-0.1904, -0.2364, -0.0436,  0.2626],\n",
       "        [-0.1820, -0.2494, -0.0505,  0.2575],\n",
       "        [-0.1838, -0.2382, -0.0465,  0.2565],\n",
       "        [-0.1837, -0.2360, -0.0472,  0.2646]], grad_fn=<SliceBackward>)"
      ]
     },
     "execution_count": 27,
     "metadata": {},
     "output_type": "execute_result"
    }
   ],
   "source": [
    "cnn_lstm_train=torch.cat([cnnout,test_y],dim=1) \n",
    "cnn_lstm_train[1500:1510]"
   ]
  },
  {
   "cell_type": "raw",
   "metadata": {},
   "source": [
    "cnn_lstm_train=cnnout.detach().numpy()\n",
    "for i in range(len(cnnout)):\n",
    "    cnn_lstm_train[i].append(test_y.numpy()[i])     \n",
    "    \n",
    "Pytorch:Tensor的合并与分割  https://www.jianshu.com/p/4e57dbe1d281"
   ]
  },
  {
   "cell_type": "raw",
   "metadata": {},
   "source": [
    "train_dataset =cnnout  ##0.7*43823  8\n",
    "test_dataset  =test_y\n",
    "dltrain = DataLoader(train_dataset, batch_size=100, shuffle=False)\n",
    "dltest  = DataLoader(test_dataset, batch_size=100, shuffle=False)"
   ]
  },
  {
   "cell_type": "code",
   "execution_count": 28,
   "metadata": {},
   "outputs": [],
   "source": [
    "dltrain=DataLoader(cnn_lstm_train, batch_size=100, shuffle=True)"
   ]
  },
  {
   "cell_type": "code",
   "execution_count": 34,
   "metadata": {},
   "outputs": [
    {
     "name": "stderr",
     "output_type": "stream",
     "text": [
      "I:\\Anaconda\\lib\\site-packages\\ipykernel_launcher.py:4: DeprecationWarning: time.clock has been deprecated in Python 3.3 and will be removed from Python 3.8: use time.perf_counter or time.process_time instead\n",
      "  after removing the cwd from sys.path.\n"
     ]
    },
    {
     "name": "stdout",
     "output_type": "stream",
     "text": [
      "epoch 1\n",
      "**********\n",
      "0.008194582209185203 0.008008957840502262 0.16901623104473062\n",
      "epoch 2\n",
      "**********\n",
      "0.008188255716734096 0.008116665296256542 0.16215804313038176\n",
      "epoch 3\n",
      "**********\n",
      "0.008180230156691436 0.007975800894200802 0.16970204983616552\n",
      "epoch 4\n",
      "**********\n",
      "0.00817010514529161 0.007949642837047577 0.1769412481902004\n",
      "epoch 5\n",
      "**********\n",
      "0.008154755620534625 0.007927429862320423 0.17968452335593996\n",
      "epoch 6\n",
      "**********\n",
      "0.008146513683466599 0.007944012992084026 0.17107368741903528\n",
      "epoch 7\n",
      "**********\n",
      "0.008137368193618249 0.00793108157813549 0.17252152708984225\n",
      "epoch 8\n",
      "**********\n",
      "0.008121884609982128 0.007908300496637821 0.17541720643145622\n",
      "epoch 9\n",
      "**********\n",
      "0.00811035130309481 0.007906800135970116 0.16970204983616552\n",
      "epoch 10\n",
      "**********\n",
      "0.008093482135197432 0.00786602683365345 0.17808427950925856\n",
      "epoch 11\n",
      "**********\n",
      "0.008074914699826838 0.007872105576097965 0.16977825192410273\n",
      "epoch 12\n",
      "**********\n",
      "0.008052356507786905 0.007811174727976322 0.18151337346643298\n",
      "epoch 13\n",
      "**********\n",
      "0.008029536169677585 0.007827765308320522 0.17000685818791436\n",
      "epoch 14\n",
      "**********\n",
      "0.008002625678966264 0.007808229885995388 0.17099748533109807\n",
      "epoch 15\n",
      "**********\n",
      "0.007970876095312912 0.007759789936244488 0.17564581269526786\n",
      "epoch 16\n",
      "**********\n",
      "0.007938444024370528 0.0076974742114543915 0.18052274632324924\n",
      "epoch 17\n",
      "**********\n",
      "0.007896236826571658 0.007653328590095043 0.1808275546749981\n",
      "epoch 18\n",
      "**********\n",
      "0.007846616601407626 0.007605410646647215 0.18029414005943764\n",
      "epoch 19\n",
      "**********\n",
      "0.007789210178237105 0.007527932524681091 0.1863141050064772\n",
      "epoch 20\n",
      "**********\n",
      "0.0077201299117544385 0.007540096994489431 0.17168330412253296\n",
      "epoch 21\n",
      "**********\n",
      "0.007628964939752308 0.0074345567263662815 0.17275013335365388\n",
      "epoch 22\n",
      "**********\n",
      "0.007521549210935248 0.007277041207998991 0.1775508648936981\n",
      "epoch 23\n",
      "**********\n",
      "0.0073863088467282755 0.0070852916687726974 0.19667758896593768\n",
      "epoch 24\n",
      "**********\n",
      "0.007213708323484183 0.006935313809663057 0.1822753943458051\n",
      "epoch 25\n",
      "**********\n",
      "0.006993919428959732 0.006687895394861698 0.18593309456679114\n",
      "epoch 26\n",
      "**********\n",
      "0.006715644781207757 0.006383956875652075 0.18745713632553532\n",
      "epoch 27\n",
      "**********\n",
      "0.006356197210629425 0.005977602209895849 0.19469633467957023\n",
      "epoch 28\n",
      "**********\n",
      "0.0058953192499117376 0.005768436472862959 0.1713022936828469\n",
      "epoch 29\n",
      "**********\n",
      "0.00531045842539604 0.004771407227963209 0.2257105844700145\n",
      "epoch 30\n",
      "**********\n",
      "0.004565768112225234 0.003978936932981014 0.23653128095709822\n",
      "epoch 31\n",
      "**********\n",
      "0.0036806052805497904 0.003020095406100154 0.2804236836089309\n",
      "epoch 32\n",
      "**********\n",
      "0.002719980512870057 0.002082322258502245 0.3343747618684752\n",
      "epoch 33\n",
      "**********\n",
      "0.0018530379641795052 0.0013409550301730633 0.40249942848434045\n",
      "epoch 34\n",
      "**********\n",
      "0.0012389632770093916 0.0008536615641787648 0.6925245751733597\n",
      "epoch 35\n",
      "**********\n",
      "0.0009139206046003436 0.0006497979047708213 0.7528004267316925\n",
      "epoch 36\n",
      "**********\n",
      "0.000782394561676175 0.0005645433557219803 0.80720871751886\n",
      "epoch 37\n",
      "**********\n",
      "0.0007398426378220137 0.0005388270947150886 0.8180294140059438\n",
      "epoch 38\n",
      "**********\n",
      "0.0007272685943106918 0.0005420505767688155 0.8177246056541949\n",
      "epoch 39\n",
      "**********\n",
      "0.0007238054332544827 0.0005283489590510726 0.82359216642536\n",
      "epoch 40\n",
      "**********\n",
      "0.0007229314175440477 0.0005262463819235563 0.8257258248876019\n",
      "epoch 41\n",
      "**********\n",
      "0.0007212061914865607 0.0005249623209238052 0.8254210165358531\n",
      "epoch 42\n",
      "**********\n",
      "0.0007201536607011662 0.0005242369370535016 0.8254972186237903\n",
      "epoch 43\n",
      "**********\n",
      "0.0007203389039276022 0.0005244548083283007 0.8248876019202926\n",
      "epoch 44\n",
      "**********\n",
      "0.000719260996071461 0.0005249181995168328 0.8271736645584089\n",
      "epoch 45\n",
      "**********\n",
      "0.0007183264821243749 0.000527188996784389 0.8225253371942391\n",
      "epoch 46\n",
      "**********\n",
      "0.0007184179520032729 0.0005234198761172593 0.8255734207117275\n",
      "epoch 47\n",
      "**********\n",
      "0.0007183467718076374 0.0005218375590629876 0.8266402499428485\n",
      "epoch 48\n",
      "**********\n",
      "0.0007171043521798207 0.0005294214352034032 0.8240493789529834\n",
      "epoch 49\n",
      "**********\n",
      "0.0007169803208974873 0.0005221453029662371 0.8280118875257182\n",
      "epoch 50\n",
      "**********\n",
      "0.0007163580111815694 0.0005208951188251376 0.8278594833498438\n",
      "epoch 51\n",
      "**********\n",
      "0.0007173732685396169 0.0005206313217058778 0.8274022708222205\n",
      "epoch 52\n",
      "**********\n",
      "0.0007157364777889988 0.0005219333688728511 0.8276308770860321\n",
      "epoch 53\n",
      "**********\n",
      "0.000716138609633053 0.0005358740454539657 0.822830145545988\n",
      "epoch 54\n",
      "**********\n",
      "0.0007163757589249037 0.0005200864979997277 0.8282404937895298\n",
      "epoch 55\n",
      "**********\n",
      "0.0007156781949984905 0.000521006528288126 0.8260306332393508\n",
      "epoch 56\n",
      "**********\n",
      "0.0007156766742522486 0.0005195740377530456 0.8270212603825344\n",
      "epoch 57\n",
      "**********\n",
      "0.0007154557370737723 0.0005203333566896617 0.827554674998095\n",
      "epoch 58\n",
      "**********\n",
      "0.0007152528854611054 0.0005218099686317146 0.8288501104930275\n",
      "epoch 59\n",
      "**********\n",
      "0.0007150892760977755 0.0005199760780669749 0.827554674998095\n",
      "epoch 60\n",
      "**********\n",
      "0.0007145004694885499 0.0005193813121877611 0.8280118875257182\n",
      "epoch 61\n",
      "**********\n",
      "0.0007151371021284828 0.0005198734579607844 0.8271736645584089\n",
      "epoch 62\n",
      "**********\n",
      "0.0007151078438676032 0.0005191104137338698 0.8280880896136554\n",
      "epoch 63\n",
      "**********\n",
      "0.0007150035348860395 0.0005228667869232595 0.8274022708222205\n",
      "epoch 64\n",
      "**********\n",
      "0.0007160254201437695 0.0005187556380406022 0.827554674998095\n",
      "epoch 65\n",
      "**********\n",
      "0.0007141524107602701 0.0005186720518395305 0.8273260687342833\n",
      "epoch 66\n",
      "**********\n",
      "0.0007146747124150808 0.0005190124502405524 0.8267164520307857\n",
      "epoch 67\n",
      "**********\n",
      "0.0007146273338913172 0.0005186061607673764 0.827554674998095\n",
      "epoch 68\n",
      "**********\n",
      "0.000714138251509751 0.0005182049353606999 0.8274784729101577\n",
      "epoch 69\n",
      "**********\n",
      "0.0007140142453496165 0.0005676755681633949 0.8027127943305646\n",
      "epoch 70\n",
      "**********\n",
      "0.000714400309035236 0.0005180443404242396 0.8270212603825344\n",
      "epoch 71\n",
      "**********\n",
      "0.0007149492159045183 0.0005201061139814556 0.8268688562066601\n",
      "epoch 72\n",
      "**********\n",
      "0.0007150066950690632 0.0005304189980961382 0.82359216642536\n",
      "epoch 73\n",
      "**********\n",
      "0.0007140146072040818 0.0005212699761614203 0.8290787167568391\n",
      "epoch 74\n",
      "**********\n",
      "0.0007134856288746024 0.0005187857314012945 0.8277070791739694\n",
      "epoch 75\n",
      "**********\n",
      "0.0007142854041263691 0.0005199391162022948 0.8284691000533415\n",
      "epoch 76\n",
      "**********\n",
      "0.0007144219280620248 0.0005178432911634445 0.8270212603825344\n",
      "epoch 77\n",
      "**********\n",
      "0.0007138643750324784 0.0005309325060807168 0.8238969747771089\n",
      "epoch 78\n",
      "**********\n",
      "0.0007146760695826274 0.0005190752563066781 0.8281642917015927\n",
      "epoch 79\n",
      "**********\n",
      "0.000713931311188108 0.000522807938978076 0.8236683685132973\n",
      "epoch 80\n",
      "**********\n",
      "0.000713468091778536 0.0005174458492547274 0.8273260687342833\n",
      "epoch 81\n",
      "**********\n",
      "0.00071325868848599 0.0005184094188734889 0.8270974624704717\n",
      "epoch 82\n",
      "**********\n",
      "0.0007142485667824751 0.0005319504998624325 0.824277985216795\n",
      "epoch 83\n",
      "**********\n",
      "0.000713566765708679 0.0005172585370019078 0.8272498666463461\n",
      "epoch 84\n",
      "**********\n",
      "0.0007137689162223942 0.0005181761807762086 0.8277832812619066\n",
      "epoch 85\n",
      "**********\n",
      "0.0007144526196628542 0.0005192565731704235 0.8270212603825344\n",
      "epoch 86\n",
      "**********\n",
      "0.0007140955142885391 0.0005175462574698031 0.8272498666463461\n",
      "epoch 87\n",
      "**********\n",
      "0.000713523357250752 0.0005178636638447642 0.8278594833498438\n",
      "epoch 88\n",
      "**********\n",
      "0.0007131475997339412 0.0005181040032766759 0.8270974624704717\n",
      "epoch 89\n",
      "**********\n",
      "0.0007136877591483574 0.0005173846730031073 0.8277070791739694\n",
      "epoch 90\n",
      "**********\n",
      "0.000713261914365934 0.0005172609235160053 0.8274022708222205\n",
      "epoch 91\n",
      "**********\n",
      "0.0007131733044834826 0.0005170803051441908 0.8274784729101577\n",
      "epoch 92\n",
      "**********\n",
      "0.00071345094241754 0.0005171486409381032 0.8276308770860321\n",
      "epoch 93\n",
      "**********\n",
      "0.0007138881339966122 0.0005224291235208511 0.8276308770860321\n",
      "epoch 94\n",
      "**********\n",
      "0.0007140291935793831 0.0005254249554127455 0.8264116436790369\n",
      "epoch 95\n",
      "**********\n",
      "0.0007137714431838039 0.000521605834364891 0.8281642917015927\n",
      "epoch 96\n",
      "**********\n",
      "0.0007135269290586351 0.0005183088360354304 0.8280880896136554\n",
      "epoch 97\n",
      "**********\n",
      "0.000712928546009379 0.0005181230953894556 0.8282404937895298\n",
      "epoch 98\n",
      "**********\n",
      "0.0007137418505606766 0.0005175482947379351 0.8280118875257182\n",
      "epoch 99\n",
      "**********\n",
      "0.0007136249083362774 0.0005212985561229289 0.8285453021412786\n",
      "epoch 100\n",
      "**********\n"
     ]
    },
    {
     "name": "stdout",
     "output_type": "stream",
     "text": [
      "0.0007136262848905776 0.000537822546903044 0.823211155985674\n"
     ]
    },
    {
     "name": "stderr",
     "output_type": "stream",
     "text": [
      "I:\\Anaconda\\lib\\site-packages\\ipykernel_launcher.py:88: DeprecationWarning: time.clock has been deprecated in Python 3.3 and will be removed from Python 3.8: use time.perf_counter or time.process_time instead\n"
     ]
    },
    {
     "name": "stdout",
     "output_type": "stream",
     "text": [
      "169.9473958999988\n"
     ]
    }
   ],
   "source": [
    "#%%time \n",
    "losslist,evallosslist,accuracylist=[],[],[]\n",
    "\n",
    "start = time.clock()\n",
    "for epoch in range(100):\n",
    " \n",
    "    print('epoch {}'.format(epoch + 1))\n",
    "\n",
    "    print('*' * 10)\n",
    "\n",
    "    running_loss = 0.0\n",
    "    \n",
    "    #dldata=zip(dltrain,dltest)  #cnnout,trainy0.7\n",
    "\n",
    "    for i, data in enumerate(dltrain, 1):\n",
    "        \n",
    "            train_x=data[:,:3]\n",
    "            \n",
    "            train_x=train_x.view(-1,1,3)\n",
    "            \n",
    "            train_y=data[:,3]\n",
    "            \n",
    "            train_y=train_y.view(-1,1)\n",
    "            \n",
    "            train_x=Variable(train_x)\n",
    "            \n",
    "            train_y=Variable(train_y)\n",
    "        \n",
    "            out = rnnmodel(train_x)\n",
    "\n",
    "            loss = criterion(out, train_y)\n",
    "            \n",
    "            running_loss += loss.item() * train_y.size(0)\n",
    "            \n",
    "\n",
    "            # 向后传播\n",
    "\n",
    "            optimizer.zero_grad()\n",
    "\n",
    "            loss.backward()\n",
    "\n",
    "            optimizer.step()\n",
    "            \n",
    "    losslist.append(running_loss / (len(cnn_lstm_train)))   \n",
    "    ######进入评估模式\n",
    "    rnnmodel.eval()\n",
    "    \n",
    "    test_x=torchds[30700:,0:8]\n",
    "\n",
    "    test_x=test_x.view(-1,1,1,8)\n",
    "\n",
    "    test_y=torchds[30700:,8]\n",
    "\n",
    "    test_y=test_y.view(-1,1)\n",
    "\n",
    "    test_x=Variable(test_x)\n",
    "\n",
    "    test_y=Variable(test_y)\n",
    "\n",
    "    testout = cnnmodel(test_x)\n",
    "\n",
    "    testout=testout.view(-1,1,3)\n",
    "\n",
    "    evalout=rnnmodel(testout)\n",
    "    \n",
    "    evalloss = criterion(evalout, test_y)\n",
    "    \n",
    "    evalrunning_loss = evalloss.item()## * test_y.size(0)\n",
    "    \n",
    "    ###evallist\n",
    "    \n",
    "    evallosslist.append(evalrunning_loss)\n",
    "    \n",
    "    ####计算准确率\n",
    "    acc=0\n",
    "    for i in range(13123):\n",
    "        x=test_y.numpy()[i]-evalout.detach().numpy()[i]\n",
    "        if abs(x)<=0.02:\n",
    "            acc+=1\n",
    "    accuracy_rate=acc/13123\n",
    "    #print(accuracy_rate)\n",
    "    ##accuracylist\n",
    "    accuracylist.append(accuracy_rate)\n",
    "                \n",
    "    print('{0} {1} {2}'.format(running_loss / 30700,evalrunning_loss,accuracy_rate))   \n",
    "    ##0.0007136262848905776 0.000537822546903044 0.823211155985674\n",
    "    #print('running_loss:-------')\n",
    "    #print(running_loss / (len(cnn_lstm_train)))  \n",
    "print(time.clock()-start) #117.3018567  2-293.7432698  246.2105962 ## 169.9473958999988"
   ]
  },
  {
   "cell_type": "code",
   "execution_count": 35,
   "metadata": {},
   "outputs": [
    {
     "data": {
      "image/png": "[encoded data removed]",
      "text/plain": [
       "<Figure size 432x288 with 1 Axes>"
      ]
     },
     "metadata": {
      "needs_background": "light"
     },
     "output_type": "display_data"
    }
   ],
   "source": [
    "plt.plot(losslist,'r-.',label='trainloss') \n",
    "plt.plot(evallosslist,'b-.',label='testloss') \n",
    "plt.legend(loc='best')#显示在最好的位置\n",
    "plt.show()"
   ]
  },
  {
   "cell_type": "code",
   "execution_count": 36,
   "metadata": {},
   "outputs": [
    {
     "data": {
      "image/png": "[encoded data removed]",
      "text/plain": [
       "<Figure size 432x288 with 1 Axes>"
      ]
     },
     "metadata": {
      "needs_background": "light"
     },
     "output_type": "display_data"
    }
   ],
   "source": [
    "plt.plot(accuracylist,'r-.',label='accuracy') \n",
    "plt.legend(loc='best')#显示在最好的位置\n",
    "plt.show()"
   ]
  },
  {
   "cell_type": "raw",
   "metadata": {},
   "source": [
    "dldata=zip(dltrain,dltest)\n",
    "for i, data in enumerate(dldata, 1):\n",
    "    print(i, data)\n",
    "list1,list2=[1,2,3,4,5],[10,11,12,13,14,15]\n",
    "for i,x,y  in enumerate(list1,list2,1):\n",
    "    print(i,x,y)"
   ]
  },
  {
   "cell_type": "code",
   "execution_count": 37,
   "metadata": {},
   "outputs": [
    {
     "data": {
      "image/png": "[encoded data removed]",
      "text/plain": [
       "<Figure size 1296x360 with 1 Axes>"
      ]
     },
     "metadata": {
      "needs_background": "light"
     },
     "output_type": "display_data"
    }
   ],
   "source": [
    "x=range(0,100)\n",
    "plt.figure(num=1,figsize=(18,5))#定义编号为1 大小为(8,5)\n",
    "plt.plot(x,train_y.detach().numpy(),'r-.',label='train_y') \n",
    "plt.plot(x,out.detach().numpy(),'b-.',label='out') \n",
    "plt.legend(loc='best')#显示在最好的位置\n",
    "plt.show()"
   ]
  },
  {
   "cell_type": "raw",
   "metadata": {},
   "source": [
    "rnnmodel.eval()\n",
    "    \n",
    "test_x=torchds[30700:,0:8]  ####后0.3\n",
    "\n",
    "test_x=test_x.view(-1,1,1,8)\n",
    "\n",
    "test_y=torchds[30700:,8]\n",
    "\n",
    "test_y=test_y.view(-1,1)\n",
    "\n",
    "test_x=Variable(test_x)\n",
    "\n",
    "test_y=Variable(test_y)\n",
    "\n",
    "testout = cnnmodel(test_x)\n",
    "\n",
    "testout=testout.view(-1,1,3)\n",
    "\n",
    "lstmtestout=rnnmodel(testout)"
   ]
  },
  {
   "cell_type": "raw",
   "metadata": {},
   "source": [
    "####计算准确率\n",
    "acc=0\n",
    "for i in range(13123):\n",
    "    x=test_y.numpy()[i]-lstmtestout.detach().numpy()[i]\n",
    "    if abs(x)<=0.02:\n",
    "        acc+=1\n",
    "accuracy_rate=acc/13123\n",
    "print(accuracy_rate)  ##0.8242017831288577  0.8254972186237903 0.8261830374152251"
   ]
  },
  {
   "cell_type": "raw",
   "metadata": {},
   "source": [
    "testout.size()  0.0007024256052075451  0.0006996091418817688"
   ]
  },
  {
   "cell_type": "code",
   "execution_count": 39,
   "metadata": {},
   "outputs": [
    {
     "data": {
      "image/png": "[encoded data removed]",
      "text/plain": [
       "<Figure size 1296x360 with 1 Axes>"
      ]
     },
     "metadata": {
      "needs_background": "light"
     },
     "output_type": "display_data"
    }
   ],
   "source": [
    "#x=range(0,13123)\n",
    "x=range(1200,1300)\n",
    "plt.figure(num=1,figsize=(18,5))#定义编号为1 大小为(8,5)\n",
    "plt.plot(x,test_y.detach().numpy()[1200:1300],'r-.',label='test_y') \n",
    "plt.plot(x,evalout.detach().numpy()[1200:1300],'b-.',label='out') \n",
    "plt.legend(loc='best')#显示在最好的位置\n",
    "plt.show()"
   ]
  },
  {
   "cell_type": "code",
   "execution_count": 40,
   "metadata": {},
   "outputs": [],
   "source": [
    "# 保存模型\n",
    "torch.save(rnnmodel.state_dict(), './weathercnn-lstm-0.1-true-7.18.pth')"
   ]
  },
  {
   "cell_type": "code",
   "execution_count": null,
   "metadata": {},
   "outputs": [],
   "source": []
  }
 ],
 "metadata": {
  "kernelspec": {
   "display_name": "Python 3",
   "language": "python",
   "name": "python3"
  },
  "language_info": {
   "codemirror_mode": {
    "name": "ipython",
    "version": 3
   },
   "file_extension": ".py",
   "mimetype": "text/x-python",
   "name": "python",
   "nbconvert_exporter": "python",
   "pygments_lexer": "ipython3",
   "version": "3.7.3"
  }
 },
 "nbformat": 4,
 "nbformat_minor": 2
}
