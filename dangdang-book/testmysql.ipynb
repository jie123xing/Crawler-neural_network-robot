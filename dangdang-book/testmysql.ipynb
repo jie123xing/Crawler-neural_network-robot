{
 "cells": [
  {
   "cell_type": "code",
   "execution_count": 43,
   "metadata": {},
   "outputs": [],
   "source": [
    "import pymysql\n",
    " \n",
    "# 打开数据库连接\n",
    "db = pymysql.connect(host=\"62.234.149.37\",user=\"root\",passwd=\"smile\",db=\"testdb\" ,charset='utf8')#########一定要重启mysql\n",
    "####(host='127.0.0.1',user='root',passwd='root',db='pmdb',charset='utf8')"
   ]
  },
  {
   "cell_type": "code",
   "execution_count": 44,
   "metadata": {},
   "outputs": [
    {
     "data": {
      "text/plain": [
       "0"
      ]
     },
     "execution_count": 44,
     "metadata": {},
     "output_type": "execute_result"
    }
   ],
   "source": [
    "# 使用 cursor() 方法创建一个游标对象 cursor\n",
    "cursor = db.cursor()\n",
    " \n",
    "# 使用 execute() 方法执行 SQL，如果表存在则删除\n",
    "cursor.execute(\"DROP TABLE IF EXISTS EMPLOYEE\")\n",
    " \n",
    "# 使用预处理语句创建表\n",
    "sql = \"\"\"CREATE TABLE EMPLOYEE (\n",
    "         FIRST_NAME  CHAR(20) NOT NULL,\n",
    "         LAST_NAME  CHAR(20),\n",
    "         AGE INT,  \n",
    "         SEX CHAR(1),\n",
    "         INCOME FLOAT )\"\"\"\n",
    " \n",
    "cursor.execute(sql)"
   ]
  },
  {
   "cell_type": "code",
   "execution_count": 45,
   "metadata": {},
   "outputs": [],
   "source": [
    "\n",
    "# SQL 插入语句\n",
    "sql = \"\"\"INSERT INTO EMPLOYEE(FIRST_NAME,\n",
    "         LAST_NAME, AGE, SEX, INCOME)\n",
    "         VALUES ('Mac3', 'Mohan1', 210, 'M', 20100)\"\"\"\n",
    "try:\n",
    "   # 执行sql语句\n",
    "   cursor.execute(sql)\n",
    "   # 提交到数据库执行\n",
    "   db.commit()\n",
    "except:\n",
    "   # 如果发生错误则回滚\n",
    "   db.rollback()\n"
   ]
  },
  {
   "cell_type": "code",
   "execution_count": 60,
   "metadata": {},
   "outputs": [],
   "source": [
    "# 使用 execute() 方法执行 SQL，如果表存在则删除\n",
    "cursor.execute(\"DROP TABLE IF EXISTS DANGDANGBOOK\")\n",
    " \n",
    "# 使用预处理语句创建表\n",
    "sql = \"\"\"CREATE TABLE DANGDANGBOOK(\n",
    "       booktitle VARCHAR(20) ,\n",
    "       publicationtime VARCHAR(10) ,\n",
    "       author VARCHAR(20),\n",
    "       press VARCHAR(15), \n",
    "       bookprice FLOAT,\n",
    "       bookdetail VARCHAR(100),\n",
    "       Gclass VARCHAR(10),\n",
    "       sclassion VARCHAR(10)\n",
    "    )ENGINE=InnoDB  DEFAULT CHARSET=utf8\"\"\"\n",
    "  \n",
    "##PRIMARY KEY ( `booktitle` )\n",
    "cursor.execute(sql)\n",
    "\n",
    "bookinfo=['毛泽东传','1945年','何夕','东方出版社',12.98,'关于哈桑结婚登记大号i互斥哦啊是','历史','近代史']\n",
    "# SQL 插入语句\n",
    "'''sql = \"\"\"INSERT INTO DANGDANGBOOK(\n",
    "   booktitle)\n",
    "   VALUES (bookinfo[0])\"\"\"\n",
    "'''\n",
    "sql = \"INSERT INTO DANGDANGBOOK(booktitle,publicationtime,author,press,bookprice,bookdetail,Gclass,sclassion )\\\n",
    "       VALUES ('%s','%s','%s','%s','%f','%s','%s','%s')\" % \\\n",
    "       (bookinfo[0],bookinfo[1],bookinfo[2],bookinfo[3],bookinfo[4],bookinfo[5],bookinfo[6],bookinfo[7])\n",
    "##publicationtime,author,press, bookprice,bookdetail,Gclass,sclassion\n",
    "#,'1945年','何夕','东方出版社',12.98,'关于哈桑结婚登记大号i互斥哦啊是','历史','近代史'\n",
    "try:\n",
    "   # 执行sql语句\n",
    "   cursor.execute(sql)\n",
    "   # 提交到数据库执行\n",
    "   db.commit()\n",
    "except:\n",
    "   # 如果发生错误则回滚\n",
    "   db.rollback()\n",
    "   print(\"erro\")"
   ]
  },
  {
   "cell_type": "code",
   "execution_count": 40,
   "metadata": {},
   "outputs": [],
   "source": [
    "# 关闭数据库连接\n",
    "db.close()"
   ]
  },
  {
   "cell_type": "code",
   "execution_count": 61,
   "metadata": {},
   "outputs": [
    {
     "data": {
      "text/plain": [
       "555"
      ]
     },
     "execution_count": 61,
     "metadata": {},
     "output_type": "execute_result"
    }
   ],
   "source": [
    "555"
   ]
  },
  {
   "cell_type": "code",
   "execution_count": null,
   "metadata": {},
   "outputs": [],
   "source": []
  }
 ],
 "metadata": {
  "kernelspec": {
   "display_name": "Python 3",
   "language": "python",
   "name": "python3"
  },
  "language_info": {
   "codemirror_mode": {
    "name": "ipython",
    "version": 3
   },
   "file_extension": ".py",
   "mimetype": "text/x-python",
   "name": "python",
   "nbconvert_exporter": "python",
   "pygments_lexer": "ipython3",
   "version": "3.7.3"
  }
 },
 "nbformat": 4,
 "nbformat_minor": 2
}
