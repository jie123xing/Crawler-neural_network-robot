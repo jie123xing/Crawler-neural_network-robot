{
 "cells": [
  {
   "cell_type": "code",
   "execution_count": 3,
   "metadata": {},
   "outputs": [],
   "source": [
    "#coding=utf-8 \n",
    "#北京及周边省会城市污染数据、天气数据每小时监测值爬虫程序 \n",
    "import urllib.request \n",
    "import re \n",
    "import urllib.error \n",
    "import time "
   ]
  },
  {
   "cell_type": "code",
   "execution_count": 4,
   "metadata": {},
   "outputs": [],
   "source": [
    "#模拟成浏览器 \n",
    "headers=(\"User-Agent\",\"Mozilla/5.0 (Windows NT 10.0; WOW64) AppleWebKit/537.36 (KHTML, like Gecko) Chrome/45.0.2454.101 Safari/537.36\") \n",
    "opener = urllib.request.build_opener() \n",
    "opener.addheaders=[headers] \n",
    "#将opener安装为全局 \n",
    "urllib.request.install_opener(opener) "
   ]
  },
  {
   "cell_type": "code",
   "execution_count": 13,
   "metadata": {},
   "outputs": [],
   "source": [
    "def get_pm25_and_weather(city): \n",
    " #首先执行获取空气质量数据，返回数据更新时间 \n",
    " data_time=getpm25(city) \n",
    " #然后将获取到的数据更新时间赋值给获取天气数据函数使用 \n",
    " #getweather(city,data_time) "
   ]
  },
  {
   "cell_type": "code",
   "execution_count": 14,
   "metadata": {},
   "outputs": [],
   "source": [
    "def getpm25(city):     \n",
    "    try:   \n",
    "        #设置url地址 \n",
    "        url=\"http://pm25.in/\"+city\n",
    "        data=urllib.request.urlopen(url).read().decode(\"utf-8\") \n",
    "        print(\"城市：\"+city) \n",
    "        #构建数据更新时间的表达式 \n",
    "        data_time='<div class=\"live_data_time\">\\s{1,}<p>数据更新时间：(.*?)</p>'\n",
    "        #寻找出数据更新时间 \n",
    "        datatime=re.compile(data_time, re.S).findall(data) \n",
    "        print(\"数据更新时间：\"+datatime[0]) \n",
    "        #构建数据收集的表达式 \n",
    "        data_pm25 = '<div class=\"span1\">\\s{1,}<div class=\"value\">\\n\\s{1,}(.*?)\\s{1,}</div>'\n",
    "        data_o3='<div class=\"span1\">\\s{1,}<div class =\"value\">\\n\\s{1,}(.*?)\\s{1,}</div>'\n",
    "        #寻找出所有的监测值 \n",
    "        pm25list = re.compile(data_pm25, re.S).findall(data) \n",
    "        o3list=re.compile(data_o3, re.S).findall(data) \n",
    "        #将臭氧每小时的值插入到原列表中 \n",
    "        pm25list.append(o3list[0]) \n",
    "        print(\"AQI指数，PM2.5，PM10，CO，NO2，SO2，O3：（单位：μg/m3，CO为mg/m3）\") \n",
    "        print(pm25list) \n",
    "        #将获取到的值写入文件中 \n",
    "        writefiles_pm25(city,datatime,pm25list) \n",
    "        #返回数据更新时间值 \n",
    "        return datatime \n",
    "    except urllib.error.URLError as e: \n",
    "            print(\"出现URLERROR！一分钟后重试……\") \n",
    "            if hasattr(e,\"code\"): \n",
    "                print(e.code) \n",
    "            if hasattr(e,\"reason\"): \n",
    "                print(e.reason) \n",
    "            time.sleep(60) \n",
    "            #出现异常则过一段时间重新执行此部分 \n",
    "            getpm25(city)\n",
    "           \n",
    "    except Exception as e:\n",
    "        print(\"出现EXCEPTION！十秒钟后重试……\") \n",
    "        print(\"Exception：\"+str(e)) \n",
    "        time.sleep(10) \n",
    "        # 出现异常则过一段时间重新执行此部分 \n",
    "        getpm25(city) "
   ]
  },
  {
   "cell_type": "code",
   "execution_count": 7,
   "metadata": {},
   "outputs": [],
   "source": [
    "def writefiles_pm25(filename,datatime,pm25list):\n",
    "    #将获取的数据写入文件中，数据分别为时间，AQI指数，PM2.5，PM10，CO，NO2，SO2，O3。（单位：μg/m3，CO为mg/m3） \n",
    "    f = open(filename+\".txt\", \"a\") \n",
    "    f.write(datatime[0]) \n",
    "    f.write(\",\") \n",
    "    for pm25 in pm25list: \n",
    "        f.write(str(pm25)) \n",
    "        f.write(\",\") \n",
    "    f.write(\"\\n\") \n",
    "    print(\"该条空气质量数据已添加到文件中！\") \n",
    "    f.close()"
   ]
  },
  {
   "cell_type": "code",
   "execution_count": 11,
   "metadata": {},
   "outputs": [],
   "source": [
    "def getweather(city,datatime): \n",
    "    try: \n",
    "        #构建url \n",
    "        url=\"http://\"+city+\".tianqi.com/\"\n",
    "        data=urllib.request.urlopen(url).read().decode(\"utf-8\") \n",
    "        #构建数据收集的表达式 \n",
    "        data_weather = '<li class=\"cDRed\">(.*?)</li>'\n",
    "        data_wind='<li style=\"height:18px;overflow:hidden\">(.*?)</li>'\n",
    "        data_temperature='<div id=\"rettemp\"><strong>(.*?)°'\n",
    "        data_humidity='</strong><span>相对湿度：(.*?)</span>'\n",
    "        #寻找出所有的监测值 \n",
    "        weatherlist = re.compile(data_weather, re.S).findall(data) \n",
    "        windlist=re.compile(data_wind, re.S).findall(data) \n",
    "        temperaturelist = re.compile(data_temperature, re.S).findall(data) \n",
    "        humiditylist = re.compile(data_humidity, re.S).findall(data) \n",
    "        #将其他值插入到天气列表中 \n",
    "        weatherlist.append(windlist[0]) \n",
    "        weatherlist.append(temperaturelist[0]) \n",
    "        weatherlist.append(humiditylist[0]) \n",
    "        print(\"天气状况，风向风速，实时温度，相对湿度：\") \n",
    "        print(weatherlist) \n",
    "        #将获取到的值写入文件中 \n",
    "        writefiles_weather(city,datatime,weatherlist) \n",
    "    except urllib.error.URLError as e: \n",
    "        print(\"出现URLERROR！一分钟后重试……\") \n",
    "        if hasattr(e,\"code\"): \n",
    "            print(e.code) \n",
    "        if hasattr(e,\"reason\"): \n",
    "            print(e.reason) \n",
    "        time.sleep(60) \n",
    "         # 出现异常则过一段时间重新执行此部分 \n",
    "        getweather(city,datatime) \n",
    "    except Exception as e: \n",
    "            print(\"出现EXCEPTION！十秒钟后重试……\") \n",
    "            print(\"Exception：\"+str(e)) \n",
    "            time.sleep(10) \n",
    "            # 出现异常则过一段时间重新执行此部分 \n",
    "            getweather(city, datatime) "
   ]
  },
  {
   "cell_type": "code",
   "execution_count": 9,
   "metadata": {},
   "outputs": [],
   "source": [
    "def writefiles_weather(filename,datatime,weatherlist): \n",
    "        #将获取的数据写入文件中，数据分别为时间，天气状况，风向风速，实时温度，相对湿度。 \n",
    "        f = open(filename+\".txt\", \"a\") \n",
    "        f.write(datatime[0]) \n",
    "        f.write(\",\") \n",
    "        for weather in weatherlist: \n",
    "            f.write(str(weather)) \n",
    "            f.write(\",\") \n",
    "        f.write(\"\\n\") \n",
    "        print(\"该条天气数据已添加到文件中！\") \n",
    "        f.close() "
   ]
  },
  {
   "cell_type": "code",
   "execution_count": null,
   "metadata": {},
   "outputs": [
    {
     "name": "stdout",
     "output_type": "stream",
     "text": [
      "开始工作！\n",
      "城市：beijing\n",
      "数据更新时间：2019-06-10 15:00:00\n",
      "AQI指数，PM2.5，PM10，CO，NO2，SO2，O3：（单位：μg/m3，CO为mg/m3）\n",
      "['59', '9', '13', '0.27', '9', '1', '143']\n",
      "该条空气质量数据已添加到文件中！\n",
      "休息中……\n",
      "\n",
      "\n",
      "开始工作！\n",
      "城市：beijing\n",
      "数据更新时间：2019-06-10 16:00:00\n",
      "AQI指数，PM2.5，PM10，CO，NO2，SO2，O3：（单位：μg/m3，CO为mg/m3）\n",
      "['69', '9', '17', '0.29', '10', '1', '153']\n",
      "该条空气质量数据已添加到文件中！\n",
      "休息中……\n",
      "\n",
      "\n"
     ]
    }
   ],
   "source": [
    "while True: \n",
    "        print(\"开始工作！\") \n",
    "        get_pm25_and_weather(\"beijing\") \n",
    "        #每一小时执行一次 \n",
    "        print(\"休息中……\") \n",
    "        print(\"\\n\") \n",
    "        time.sleep(3600)"
   ]
  },
  {
   "cell_type": "code",
   "execution_count": null,
   "metadata": {},
   "outputs": [],
   "source": []
  },
  {
   "cell_type": "code",
   "execution_count": null,
   "metadata": {},
   "outputs": [],
   "source": []
  }
 ],
 "metadata": {
  "kernelspec": {
   "display_name": "Python 3",
   "language": "python",
   "name": "python3"
  },
  "language_info": {
   "codemirror_mode": {
    "name": "ipython",
    "version": 3
   },
   "file_extension": ".py",
   "mimetype": "text/x-python",
   "name": "python",
   "nbconvert_exporter": "python",
   "pygments_lexer": "ipython3",
   "version": "3.7.3"
  }
 },
 "nbformat": 4,
 "nbformat_minor": 2
}
