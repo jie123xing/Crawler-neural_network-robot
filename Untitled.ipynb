{
 "cells": [
  {
   "cell_type": "code",
   "execution_count": 1,
   "metadata": {},
   "outputs": [],
   "source": [
    "from urllib.request import urlopen\n",
    "from bs4 import BeautifulSoup\n",
    "import re\n",
    "import time\n",
    "import csv\n",
    "\n",
    "def getweather():\n",
    "        #########开始记录PM10等污染物信息\n",
    "        resp=urlopen('https://tianqi.moji.com/pm/china/beijing/xicheng-district')\n",
    "        soup=BeautifulSoup(resp,'html.parser')\n",
    "        time=soup.find('b')\n",
    "        time=time.string[5:]\n",
    "        print(time)\n",
    "        AQI=soup.find('em',id='aqi_value').string\n",
    "        #clearfix=soup.find('ul',class_='clearfix')\n",
    "        print('AQI：'+str(AQI))\n",
    "        #print(clearfix)\n",
    "        \n",
    "        weatherinfo=[time,AQI]#天气信息\n",
    "        \n",
    "        weather=soup.find_all('li')\n",
    "        PM10,PM2_5,NO_2,SO_2,O_3,CO=0,0,0,0,0,0\n",
    "        clearfix=[PM10,PM2_5,NO_2,SO_2,O_3,CO]\n",
    "        for i in range(6):\n",
    "            clearfix[i]=weather[i].span.string\n",
    "            weatherinfo.append(clearfix[i])\n",
    "        print(clearfix)\n",
    "        '''写数据独立\n",
    "        with open('test.txt','a')as f:\n",
    "            f.write(time+',')\n",
    "            f.write(str(AQI)+',')\n",
    "            for i in clearfix:       \n",
    "                f.write(i+',')\n",
    "            f.write('\\n')\n",
    "        ''' \n",
    "        ########开始记录温度湿度风\n",
    "        resp=urlopen('https://tianqi.moji.com/today/china/beijing/xicheng-district')\n",
    "        soup=BeautifulSoup(resp,'html.parser')\n",
    "        today=soup.find('div',class_='info clearfix')\n",
    "        temperature=today.em.string\n",
    "        today=soup.find('div',class_='about clearfix')\n",
    "        humidity=today.span.string[2:]\n",
    "        wind=today.em.string\n",
    "        listtoday=[temperature,humidity,wind]\n",
    "        weatherinfo.extend(listtoday)\n",
    "        \n",
    "        return weatherinfo"
   ]
  },
  {
   "cell_type": "code",
   "execution_count": 2,
   "metadata": {},
   "outputs": [],
   "source": [
    "def writeData(weatherinfo):\n",
    "    '''\n",
    "    fieldnames=['TIME','AQI','PM10','PM2_5','NO_2','SO_2','O_3','CO']\n",
    "    weather={}\n",
    "    for i in range(8):\n",
    "        weather[fieldnames[i]]=weatherinfo[i]#发现不需要转化为字典\n",
    "    '''\n",
    "    with open('weatherbeijing.csv','a',encoding='utf-8-sig',newline='') as f:\n",
    "        #writer=csv.DictWriter(f,fieldnames)\n",
    "        #writer.writeheader()\n",
    "        writer=csv.writer(f,dialect='excel')\n",
    "        writer.writerow(weatherinfo)"
   ]
  },
  {
   "cell_type": "code",
   "execution_count": 3,
   "metadata": {},
   "outputs": [
    {
     "name": "stdout",
     "output_type": "stream",
     "text": [
      "2019年06月13日 09时00分\n",
      "AQI：61\n",
      "['61', '50', '16', '1', '43', '7']\n"
     ]
    }
   ],
   "source": [
    "writeData(getweather())"
   ]
  },
  {
   "cell_type": "code",
   "execution_count": null,
   "metadata": {},
   "outputs": [
    {
     "name": "stdout",
     "output_type": "stream",
     "text": [
      "开始工作！\n",
      "2019年06月13日 09时00分\n",
      "AQI：61\n",
      "['61', '50', '16', '1', '43', '7']\n",
      "休息中……\n",
      "开始工作！\n",
      "2019年06月13日 10时00分\n",
      "AQI：63\n",
      "['63', '50', '17', '1', '38', '7']\n",
      "休息中……\n",
      "开始工作！\n",
      "2019年06月13日 11时00分\n",
      "AQI：63\n",
      "['63', '54', '19', '1', '32', '7']\n",
      "休息中……\n",
      "开始工作！\n",
      "2019年06月14日 12时00分\n",
      "AQI：64\n",
      "['64', '56', '20', '1', '28', '7']\n",
      "休息中……\n",
      "开始工作！\n",
      "2019年06月14日 01时00分\n",
      "AQI：63\n",
      "['63', '60', '23', '1', '22', '7']\n",
      "休息中……\n",
      "开始工作！\n",
      "2019年06月14日 02时00分\n",
      "AQI：63\n",
      "['63', '61', '24', '1', '18', '7']\n",
      "休息中……\n",
      "开始工作！\n",
      "2019年06月14日 03时00分\n",
      "AQI：65\n",
      "['62', '65', '31', '1', '13', '8']\n",
      "休息中……\n",
      "开始工作！\n",
      "2019年06月14日 04时00分\n",
      "AQI：67\n",
      "['66', '66', '36', '1', '8', '8']\n",
      "休息中……\n",
      "开始工作！\n",
      "2019年06月14日 05时00分\n",
      "AQI：69\n",
      "['69', '68', '39', '1', '6', '8']\n",
      "休息中……\n",
      "开始工作！\n",
      "2019年06月14日 06时00分\n",
      "AQI：75\n",
      "['69', '75', '36', '1', '9', '9']\n",
      "休息中……\n",
      "开始工作！\n",
      "2019年06月14日 07时00分\n",
      "AQI：104\n",
      "['82', '104', '31', '1', '15', '13']\n",
      "休息中……\n",
      "开始工作！\n",
      "2019年06月14日 08时00分\n",
      "AQI：108\n",
      "['81', '108', '21', '2', '27', '14']\n",
      "休息中……\n",
      "开始工作！\n",
      "2019年06月14日 09时00分\n",
      "AQI：73\n",
      "['53', '73', '14', '2', '35', '10']\n",
      "休息中……\n"
     ]
    }
   ],
   "source": [
    "while True: \n",
    "        print(\"开始工作！\") \n",
    "        writeData(getweather())\n",
    "        #每一小时执行一次 \n",
    "        print(\"休息中……\") \n",
    "        time.sleep(3600)"
   ]
  },
  {
   "cell_type": "code",
   "execution_count": null,
   "metadata": {},
   "outputs": [],
   "source": []
  }
 ],
 "metadata": {
  "kernelspec": {
   "display_name": "Python 3",
   "language": "python",
   "name": "python3"
  },
  "language_info": {
   "codemirror_mode": {
    "name": "ipython",
    "version": 3
   },
   "file_extension": ".py",
   "mimetype": "text/x-python",
   "name": "python",
   "nbconvert_exporter": "python",
   "pygments_lexer": "ipython3",
   "version": "3.7.3"
  }
 },
 "nbformat": 4,
 "nbformat_minor": 2
}
