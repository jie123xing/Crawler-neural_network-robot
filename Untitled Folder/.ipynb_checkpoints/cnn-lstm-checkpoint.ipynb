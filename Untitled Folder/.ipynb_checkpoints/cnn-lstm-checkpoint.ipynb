{
 "cells": [
  {
   "cell_type": "code",
   "execution_count": 4,
   "metadata": {},
   "outputs": [],
   "source": [
    "import torch\n",
    "\n",
    "from torch import nn, optim\n",
    "\n",
    "import torch.nn.functional as F\n",
    "\n",
    "from torch.autograd import Variable\n",
    "\n",
    "from torch.utils.data import DataLoader\n",
    "\n",
    "from torchvision import transforms\n",
    "\n",
    "from torchvision import datasets\n",
    "import numpy as np"
   ]
  },
  {
   "cell_type": "code",
   "execution_count": 13,
   "metadata": {},
   "outputs": [],
   "source": [
    "learning_rate = 1e-2\n",
    "\n",
    "num_epoches = 200"
   ]
  },
  {
   "cell_type": "code",
   "execution_count": 14,
   "metadata": {},
   "outputs": [],
   "source": [
    "train_X=np.array([[0.129779 ,0.352941 ,0.245902 ,0.527273 ,0.666667 ,0.002290 ,0.000000 ,0.0],  \n",
    "        [0.148893 ,0.367647 ,0.245902 ,0.527273 ,0.666667 ,0.003811 ,0.000000 ,0.0],\n",
    "        [0.159960 ,0.426471 ,0.229508 ,0.545454 ,0.666667 ,0.005332 ,0.000000 ,0.0],\n",
    "        [0.182093 ,0.485294 ,0.229508 ,0.563637 ,0.666667 ,0.008391 ,0.037037 ,0.0],\n",
    "        [0.138833 ,0.485294 ,0.229508 ,0.563637 ,0.666667 ,0.009912 ,0.074074 ,0.0]],dtype=np.float32)\n",
    "train_Y=np.array([0.148893 ,0.159960 ,0.182093 ,0.138833 ,0.109658],dtype=np.float32)\n",
    "train_X = torch.from_numpy(train_X)\n",
    "train_Y = torch.from_numpy(train_Y)"
   ]
  },
  {
   "cell_type": "code",
   "execution_count": null,
   "metadata": {},
   "outputs": [],
   "source": [
    "# 定义 Convolution Network 模型\n",
    "\n",
    "class Cnn(nn.Module):\n",
    "\n",
    "    def __init__(self, in_dim, n_class):\n",
    "\n",
    "        super(Cnn, self).__init__()\n",
    "\n",
    "        self.conv = nn.Sequential(\n",
    "\n",
    "            nn.Conv2d(in_dim, 6, (1,3), stride=1, padding=1),\n",
    "\n",
    "            nn.ReLU(True),\n",
    "\n",
    "            nn.MaxPool2d(2),\n",
    "\n",
    "            nn.Conv2d(6, 16, (1,5), stride=1, padding=0),\n",
    "\n",
    "            nn.ReLU(True), nn.MaxPool2d(2))\n",
    "\n",
    "\n",
    "\n",
    "        self.fc = nn.Sequential(\n",
    "\n",
    "            nn.Linear(400, 120), nn.Linear(120, 84), nn.Linear(84, n_class))\n",
    "\n",
    "\n",
    "\n",
    "    def forward(self, x):\n",
    "\n",
    "        out = self.conv(x)\n",
    "\n",
    "        out = out.view(out.size(0), -1)\n",
    "\n",
    "        out = self.fc(out)\n",
    "\n",
    "        return out\n",
    "\n"
   ]
  }
 ],
 "metadata": {
  "kernelspec": {
   "display_name": "Python 3",
   "language": "python",
   "name": "python3"
  },
  "language_info": {
   "codemirror_mode": {
    "name": "ipython",
    "version": 3
   },
   "file_extension": ".py",
   "mimetype": "text/x-python",
   "name": "python",
   "nbconvert_exporter": "python",
   "pygments_lexer": "ipython3",
   "version": "3.7.3"
  }
 },
 "nbformat": 4,
 "nbformat_minor": 2
}
