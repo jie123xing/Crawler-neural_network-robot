{
 "cells": [
  {
   "cell_type": "raw",
   "metadata": {},
   "source": [
    "最大子序列\n",
    "最大子序列是要找出由数组成的一维数组中和最大的连续子序列。\n",
    "比如{5,-3,4,2}的最大子序列就是 {5,-3,4,2}，它的和是8,达到最大；\n",
    "而 {5,-6,4,2}的最大子序列是{4,2}，它的和是6。\n",
    "你已经看出来了，找最大子序列的方法很简单，只要前i项的和还没有小于0那么子序列就一直向后扩展，\n",
    "否则丢弃之前的子序列开始新的子序列，同时我们要记下各个子序列的和，最后找到和最大的子序列。"
   ]
  },
  {
   "cell_type": "code",
   "execution_count": null,
   "metadata": {},
   "outputs": [],
   "source": [
    "list1=list[5,-3,4,2]\n",
    "list2=[]\n",
    "#begin\n",
    "list2[0]=list1[0]\n",
    "\n",
    "for i in list1[1:]:\n",
    "    if list2[i-1]>0:\n",
    "        list2[i]=list2[i-1]+list1[i]\n",
    "    else:\n",
    "        list2[i]=list1[i]\n",
    "        \n",
    "print(list2)\n",
    "print('max:'.format(max(list2[i])))"
   ]
  }
 ],
 "metadata": {
  "kernelspec": {
   "display_name": "Python 3",
   "language": "python",
   "name": "python3"
  },
  "language_info": {
   "codemirror_mode": {
    "name": "ipython",
    "version": 3
   },
   "file_extension": ".py",
   "mimetype": "text/x-python",
   "name": "python",
   "nbconvert_exporter": "python",
   "pygments_lexer": "ipython3",
   "version": "3.7.3"
  }
 },
 "nbformat": 4,
 "nbformat_minor": 2
}
