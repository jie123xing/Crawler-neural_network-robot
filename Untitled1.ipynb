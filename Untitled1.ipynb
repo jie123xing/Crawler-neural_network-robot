{
 "cells": [
  {
   "cell_type": "code",
   "execution_count": 4,
   "metadata": {},
   "outputs": [
    {
     "data": {
      "text/plain": [
       "''"
      ]
     },
     "execution_count": 4,
     "metadata": {},
     "output_type": "execute_result"
    }
   ],
   "source": [
    "from urllib.request import urlopen\n",
    "from bs4 import BeautifulSoup\n",
    "import re\n",
    "import time\n",
    "'''\n",
    "https://tianqi.moji.com/pm/china/shanghai/shanghai\n",
    "https://tianqi.moji.com/pm/china/shanghai/putuo-district\n",
    "https://tianqi.moji.com/pm/china/beijing/xicheng-district\n",
    "https://tianqi.moji.com/pm/china/shanxi/yangcheng-county\n",
    "'''\n",
    "resp=urlopen('https://tianqi.moji.com/today/china/beijing/xicheng-district')\n",
    "soup=BeautifulSoup(resp,'html.parser')\n",
    "time=soup.find('b')\n",
    "time.string[5:]"
   ]
  },
  {
   "cell_type": "code",
   "execution_count": 13,
   "metadata": {},
   "outputs": [
    {
     "name": "stdout",
     "output_type": "stream",
     "text": [
      "AQI：103\n"
     ]
    }
   ],
   "source": [
    "AQI=soup.find('em',id='aqi_value').string\n",
    "\n",
    "        #clearfix=soup.find('ul',class_='clearfix')\n",
    "print('AQI：'+str(AQI))"
   ]
  },
  {
   "cell_type": "code",
   "execution_count": 49,
   "metadata": {},
   "outputs": [],
   "source": [
    "today=soup.find('div',class_='info clearfix')\n",
    "temperature=today.em.string\n",
    "today=soup.find('div',class_='about clearfix')\n",
    "humidity=today.span.string[2:]\n",
    "wind=today.em.string"
   ]
  },
  {
   "cell_type": "code",
   "execution_count": 60,
   "metadata": {},
   "outputs": [],
   "source": [
    "import csv\n",
    "import os\n",
    "os.mkdir('f') "
   ]
  },
  {
   "cell_type": "code",
   "execution_count": 64,
   "metadata": {},
   "outputs": [
    {
     "ename": "PermissionError",
     "evalue": "[Errno 13] Permission denied: '\\\\f45.csv'",
     "output_type": "error",
     "traceback": [
      "\u001b[1;31m---------------------------------------------------------------------------\u001b[0m",
      "\u001b[1;31mPermissionError\u001b[0m                           Traceback (most recent call last)",
      "\u001b[1;32m<ipython-input-64-561380330c67>\u001b[0m in \u001b[0;36m<module>\u001b[1;34m\u001b[0m\n\u001b[0;32m      1\u001b[0m \u001b[0mweatherinfo\u001b[0m\u001b[1;33m=\u001b[0m\u001b[1;33m[\u001b[0m\u001b[1;34m'58'\u001b[0m\u001b[1;33m,\u001b[0m \u001b[1;34m'95'\u001b[0m\u001b[1;33m,\u001b[0m \u001b[1;34m'12'\u001b[0m\u001b[1;33m,\u001b[0m \u001b[1;34m'4'\u001b[0m\u001b[1;33m,\u001b[0m \u001b[1;34m'38'\u001b[0m\u001b[1;33m,\u001b[0m \u001b[1;34m'12'\u001b[0m\u001b[1;33m]\u001b[0m\u001b[1;33m\u001b[0m\u001b[1;33m\u001b[0m\u001b[0m\n\u001b[1;32m----> 2\u001b[1;33m \u001b[1;32mwith\u001b[0m \u001b[0mopen\u001b[0m\u001b[1;33m(\u001b[0m\u001b[1;34m'\\\\f'\u001b[0m\u001b[1;34m'45'\u001b[0m\u001b[1;33m+\u001b[0m\u001b[1;34m'.csv'\u001b[0m\u001b[1;33m,\u001b[0m\u001b[1;34m'a'\u001b[0m\u001b[1;33m,\u001b[0m\u001b[0mencoding\u001b[0m\u001b[1;33m=\u001b[0m\u001b[1;34m'utf-8-sig'\u001b[0m\u001b[1;33m,\u001b[0m\u001b[0mnewline\u001b[0m\u001b[1;33m=\u001b[0m\u001b[1;34m''\u001b[0m\u001b[1;33m)\u001b[0m \u001b[1;32mas\u001b[0m \u001b[0mf\u001b[0m\u001b[1;33m:\u001b[0m\u001b[1;33m\u001b[0m\u001b[1;33m\u001b[0m\u001b[0m\n\u001b[0m\u001b[0;32m      3\u001b[0m         \u001b[1;31m#writer=csv.DictWriter(f,fieldnames)\u001b[0m\u001b[1;33m\u001b[0m\u001b[1;33m\u001b[0m\u001b[1;33m\u001b[0m\u001b[0m\n\u001b[0;32m      4\u001b[0m         \u001b[1;31m#writer.writeheader()\u001b[0m\u001b[1;33m\u001b[0m\u001b[1;33m\u001b[0m\u001b[1;33m\u001b[0m\u001b[0m\n\u001b[0;32m      5\u001b[0m         \u001b[0mwriter\u001b[0m\u001b[1;33m=\u001b[0m\u001b[0mcsv\u001b[0m\u001b[1;33m.\u001b[0m\u001b[0mwriter\u001b[0m\u001b[1;33m(\u001b[0m\u001b[0mf\u001b[0m\u001b[1;33m,\u001b[0m\u001b[0mdialect\u001b[0m\u001b[1;33m=\u001b[0m\u001b[1;34m'excel'\u001b[0m\u001b[1;33m)\u001b[0m\u001b[1;33m\u001b[0m\u001b[1;33m\u001b[0m\u001b[0m\n",
      "\u001b[1;31mPermissionError\u001b[0m: [Errno 13] Permission denied: '\\\\f45.csv'"
     ]
    }
   ],
   "source": [
    "weatherinfo=['58', '95', '12', '4', '38', '12']\n",
    "with open('45.csv','a',encoding='utf-8-sig',newline='') as f:\n",
    "        #writer=csv.DictWriter(f,fieldnames)\n",
    "        #writer.writeheader()\n",
    "        writer=csv.writer(f,dialect='excel')\n",
    "        writer.writerow(weatherinfo)"
   ]
  },
  {
   "cell_type": "code",
   "execution_count": 66,
   "metadata": {},
   "outputs": [
    {
     "name": "stdout",
     "output_type": "stream",
     "text": [
      "保存成功\n"
     ]
    }
   ],
   "source": [
    "path = 'b/1.csv'  # 设置路径，也可设为相对路径\n",
    "\n",
    "# 判断目录是否存在\n",
    "if not os.path.exists(os.path.split(path)[0]):\n",
    "    # 目录不存在创建，makedirs可以创建多级目录\n",
    "    os.makedirs(os.path.split(path)[0])\n",
    "try:\n",
    "    # 保存数据到文件\n",
    "    weatherinfo=['58', '95', '12', '4', '38', '12']\n",
    "    with open(path,'a',encoding='utf-8-sig',newline='') as f:\n",
    "        #writer=csv.DictWriter(f,fieldnames)\n",
    "        #writer.writeheader()\n",
    "        writer=csv.writer(f,dialect='excel')\n",
    "        writer.writerow(weatherinfo)\n",
    "    print('保存成功')\n",
    "except Exception as e:\n",
    "    print('保存失败', e)"
   ]
  },
  {
   "cell_type": "code",
   "execution_count": 67,
   "metadata": {},
   "outputs": [
    {
     "data": {
      "text/plain": [
       "('b', '1.csv')"
      ]
     },
     "execution_count": 67,
     "metadata": {},
     "output_type": "execute_result"
    }
   ],
   "source": [
    "os.path.split(path)"
   ]
  },
  {
   "cell_type": "code",
   "execution_count": 9,
   "metadata": {},
   "outputs": [],
   "source": [
    "def getsites():\n",
    "        #########爬取网页地址和地点\n",
    "        resp=urlopen('https://tianqi.moji.com/pm/china')\n",
    "        soup=BeautifulSoup(resp,'html.parser')\n",
    "        site=soup.find_all('li')\n",
    "        sitename,siteurl=[],[]\n",
    "        for i in range(30):\n",
    "            sitename.append(site[i].a.string)\n",
    "            siteurl.append(site[i].a.get('href'))\n",
    "        '''\n",
    "        #模糊搜索HTML代码的所有包含href属性的<a>标签\n",
    "        a_labels = soup.find_all('a', attrs={'href': True})\n",
    "        #获取所有<a>标签中的href对应的值，即超链接\n",
    "        for a in a_labels:\n",
    "            print(a.get('href'))\n",
    "        return sitename,siteurl\n",
    "        '''\n",
    "        return sitename,siteurl\n",
    "        "
   ]
  },
  {
   "cell_type": "code",
   "execution_count": 10,
   "metadata": {},
   "outputs": [
    {
     "data": {
      "text/plain": [
       "(['安徽',\n",
       "  '北京',\n",
       "  '重庆',\n",
       "  '福建',\n",
       "  '甘肃',\n",
       "  '广东',\n",
       "  '广西',\n",
       "  '贵州',\n",
       "  '海南',\n",
       "  '河北',\n",
       "  '河南',\n",
       "  '湖北',\n",
       "  '湖南',\n",
       "  '黑龙江',\n",
       "  '吉林',\n",
       "  '江苏',\n",
       "  '江西',\n",
       "  '辽宁',\n",
       "  '内蒙古',\n",
       "  '宁夏',\n",
       "  '青海',\n",
       "  '山东',\n",
       "  '陕西',\n",
       "  '山西',\n",
       "  '上海',\n",
       "  '四川',\n",
       "  '天津',\n",
       "  '西藏',\n",
       "  '新疆',\n",
       "  '云南'],\n",
       " ['/pm/china/anhui',\n",
       "  '/pm/china/beijing',\n",
       "  '/pm/china/chongqing',\n",
       "  '/pm/china/fujian',\n",
       "  '/pm/china/gansu',\n",
       "  '/pm/china/guangdong',\n",
       "  '/pm/china/guangxi',\n",
       "  '/pm/china/guizhou',\n",
       "  '/pm/china/hainan',\n",
       "  '/pm/china/hebei',\n",
       "  '/pm/china/henan',\n",
       "  '/pm/china/hubei',\n",
       "  '/pm/china/hunan',\n",
       "  '/pm/china/heilongjiang',\n",
       "  '/pm/china/jilin',\n",
       "  '/pm/china/jiangsu',\n",
       "  '/pm/china/jiangxi',\n",
       "  '/pm/china/liaoning',\n",
       "  '/pm/china/inner-mongolia',\n",
       "  '/pm/china/ningxia',\n",
       "  '/pm/china/qinghai',\n",
       "  '/pm/china/shandong',\n",
       "  '/pm/china/shaanxi',\n",
       "  '/pm/china/shanxi',\n",
       "  '/pm/china/shanghai',\n",
       "  '/pm/china/sichuan',\n",
       "  '/pm/china/tianjin',\n",
       "  '/pm/china/tibet',\n",
       "  '/pm/china/xinjiang',\n",
       "  '/pm/china/yunnan'])"
      ]
     },
     "execution_count": 10,
     "metadata": {},
     "output_type": "execute_result"
    }
   ],
   "source": [
    "import urllib\n",
    "#模拟成浏览器 \n",
    "headers=(\"User-Agent\",\"Mozilla/5.0 (Windows NT 10.0; WOW64) AppleWebKit/537.36 (KHTML, like Gecko) Chrome/45.0.2454.101 Safari/537.36\") \n",
    "opener = urllib.request.build_opener() \n",
    "opener.addheaders=[headers] \n",
    "#将opener安装为全局 \n",
    "urllib.request.install_opener(opener) \n",
    "\n",
    "getsites()"
   ]
  },
  {
   "cell_type": "code",
   "execution_count": 11,
   "metadata": {},
   "outputs": [],
   "source": [
    "def getsites2():\n",
    "        #########爬取网页地址和地点市县\n",
    "        resp=urlopen('https://tianqi.moji.com/pm/china')\n",
    "        soup=BeautifulSoup(resp,'html.parser')\n",
    "        site=soup.find_all('li')\n",
    "        sitename,siteurl=[],[]\n",
    "        for i in range(30):\n",
    "            sitename.append(site[i].a.string)\n",
    "            siteurl.append(site[i].a.get('href'))\n",
    "        '''\n",
    "        #模糊搜索HTML代码的所有包含href属性的<a>标签\n",
    "        a_labels = soup.find_all('a', attrs={'href': True})\n",
    "        #获取所有<a>标签中的href对应的值，即超链接\n",
    "        for a in a_labels:\n",
    "            print(a.get('href'))\n",
    "        return sitename,siteurl\n",
    "        '''\n",
    "        return sitename,siteurl"
   ]
  },
  {
   "cell_type": "code",
   "execution_count": null,
   "metadata": {},
   "outputs": [],
   "source": []
  },
  {
   "cell_type": "code",
   "execution_count": null,
   "metadata": {},
   "outputs": [],
   "source": []
  },
  {
   "cell_type": "code",
   "execution_count": null,
   "metadata": {},
   "outputs": [],
   "source": []
  },
  {
   "cell_type": "code",
   "execution_count": null,
   "metadata": {},
   "outputs": [],
   "source": []
  }
 ],
 "metadata": {
  "kernelspec": {
   "display_name": "Python 3",
   "language": "python",
   "name": "python3"
  },
  "language_info": {
   "codemirror_mode": {
    "name": "ipython",
    "version": 3
   },
   "file_extension": ".py",
   "mimetype": "text/x-python",
   "name": "python",
   "nbconvert_exporter": "python",
   "pygments_lexer": "ipython3",
   "version": "3.7.3"
  }
 },
 "nbformat": 4,
 "nbformat_minor": 2
}
