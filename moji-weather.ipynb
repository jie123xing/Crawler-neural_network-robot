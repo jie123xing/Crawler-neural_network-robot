{
 "cells": [
  {
   "cell_type": "code",
   "execution_count": 1,
   "metadata": {},
   "outputs": [],
   "source": [
    "import pandas as pd\n",
    "import lxml\n",
    "import requests\n",
    "import csv\n",
    "from lxml import html"
   ]
  },
  {
   "cell_type": "code",
   "execution_count": 2,
   "metadata": {},
   "outputs": [],
   "source": [
    "weatherUrl='http://www.weather.com.cn/weather/101280101.shtml'\n",
    "link2='//li[@class=\"sky skyid lv{} {}\"]'\n",
    "link1='//li[@class=\"sky skyid lv{}\"]'\n",
    "#获取目标网页\n",
    "def getSource(url):\n",
    "    response=requests.get(url)\n",
    "    response.encoding='utf-8'\n",
    "    return response.content #返回网页源代码\n",
    "selector=lxml.html.document_fromstring(getSource(weatherUrl))\n",
    "Weather=[]\n",
    "WeatherLink=[]\n",
    "WeatherList=[]\n",
    "for i in range(1,4):\n",
    "    weatherLink1=link1.format(i)\n",
    "    weatherLink2=link2.format(i,'on')\n",
    "    WeatherLink.append(weatherLink1)\n",
    "    WeatherLink.append(weatherLink2)\n",
    "    for j in range(len(WeatherLink)):\n",
    "        for s in range(len(selector.xpath(WeatherLink[j]))): \n",
    "            WeatherList.append(selector.xpath(WeatherLink[j])[s])\n",
    "    for each in WeatherList:\n",
    "            WeatherDict={}\n",
    "            date=each.xpath('h1/text()')[0]\n",
    "            weather=each.xpath('p/@title')[0]\n",
    "            temperature=each.xpath('p[@class=\"tem\"]/i/text()')[0]\n",
    "            num=date[:2]\n",
    "            WeatherDict['date']=date\n",
    "            WeatherDict['weather']=weather\n",
    "            WeatherDict['temperature']=temperature\n",
    "            WeatherDict['num']=num\n",
    "            Weather.append(WeatherDict) \n",
    " #写入csv\n",
    "def writeData(Weather):\n",
    "    with open('weather.csv','w',encoding='utf-8-sig',newline='') as f:\n",
    "        writer=csv.DictWriter(f,fieldnames=['date','weather','temperature','num'])\n",
    "        writer.writeheader()\n",
    "        for each in Weather:\n",
    "            writer.writerow(each)"
   ]
  },
  {
   "cell_type": "code",
   "execution_count": 3,
   "metadata": {},
   "outputs": [
    {
     "name": "stdout",
     "output_type": "stream",
     "text": [
      "[{'date': '15日（周六）', 'weather': '多云', 'temperature': '26℃', 'num': '15'}, {'date': '15日（周六）', 'weather': '多云', 'temperature': '26℃', 'num': '15'}, {'date': '15日（周六）', 'weather': '多云', 'temperature': '26℃', 'num': '15'}, {'date': '16日（周日）', 'weather': '多云', 'temperature': '27℃', 'num': '16'}, {'date': '15日（周六）', 'weather': '多云', 'temperature': '26℃', 'num': '15'}, {'date': '15日（周六）', 'weather': '多云', 'temperature': '26℃', 'num': '15'}, {'date': '16日（周日）', 'weather': '多云', 'temperature': '27℃', 'num': '16'}, {'date': '15日（周六）', 'weather': '多云', 'temperature': '26℃', 'num': '15'}, {'date': '16日（周日）', 'weather': '多云', 'temperature': '27℃', 'num': '16'}, {'date': '11日（明天）', 'weather': '暴雨转大到暴雨', 'temperature': '24℃', 'num': '11'}, {'date': '12日（后天）', 'weather': '大到暴雨转暴雨', 'temperature': '24℃', 'num': '12'}, {'date': '13日（周四）', 'weather': '暴雨转大雨', 'temperature': '25℃', 'num': '13'}, {'date': '14日（周五）', 'weather': '阵雨转多云', 'temperature': '25℃', 'num': '14'}, {'date': '10日（今天）', 'weather': '中到大雨转暴雨', 'temperature': '24℃', 'num': '10'}]\n"
     ]
    }
   ],
   "source": [
    "writeData(Weather)  #write in csv ducument\n",
    "print(Weather)  #查看结果"
   ]
  },
  {
   "cell_type": "code",
   "execution_count": null,
   "metadata": {},
   "outputs": [],
   "source": []
  }
 ],
 "metadata": {
  "kernelspec": {
   "display_name": "Python 3",
   "language": "python",
   "name": "python3"
  },
  "language_info": {
   "codemirror_mode": {
    "name": "ipython",
    "version": 3
   },
   "file_extension": ".py",
   "mimetype": "text/x-python",
   "name": "python",
   "nbconvert_exporter": "python",
   "pygments_lexer": "ipython3",
   "version": "3.7.3"
  }
 },
 "nbformat": 4,
 "nbformat_minor": 2
}
