{
 "cells": [
  {
   "cell_type": "code",
   "execution_count": 11,
   "metadata": {},
   "outputs": [],
   "source": [
    "import pandas as pd\n",
    "import numpy as np\n",
    "import time\n",
    "from sklearn.preprocessing import MinMaxScaler\n",
    "from sklearn.preprocessing import LabelEncoder"
   ]
  },
  {
   "cell_type": "code",
   "execution_count": 12,
   "metadata": {},
   "outputs": [],
   "source": [
    "def parse(x):\n",
    "    return pd.datetime.strptime(x, '%Y %m %d %H')\n",
    "df = pd.read_csv('weather.csv',  parse_dates = {'date':[1,2,3,4]} ,index_col='No', date_parser=parse,skiprows=0)\n",
    "\n",
    "df=df.fillna(df.mean()) ###df.fillna(method='bfill') 用后面填充，pad 前面填充\n",
    "#df.isnull().values.any()   false"
   ]
  },
  {
   "cell_type": "code",
   "execution_count": 13,
   "metadata": {},
   "outputs": [],
   "source": [
    "# convert series to supervised learning\n",
    "def series_to_supervised(data, n_in=1, n_out=1, dropnan=True):\n",
    "\tn_vars = 1 if type(data) is list else data.shape[1] #8\n",
    "\tdf = pd.DataFrame(data)\n",
    "\tcols, names = list(), list()\n",
    "\t# input sequence (t-n, ... t-1)\n",
    "\tfor i in range(n_in, 0, -1):\n",
    "\t\tcols.append(df.shift(i)) #8\n",
    "\t\tnames += [('var%d(t-%d)' % (j+1, i)) for j in range(n_vars)]#i=1\n",
    "\t# forecast sequence (t, t+1, ... t+n)\n",
    "\tfor i in range(0, n_out):#i=0\n",
    "\t\tcols.append(df.shift(-i)) ###上移一步\n",
    "\t\tif i == 0:\n",
    "\t\t\tnames += [('var%d(t)' % (j+1)) for j in range(n_vars)]\n",
    "\t\telse:\n",
    "\t\t\tnames += [('var%d(t+%d)' % (j+1, i)) for j in range(n_vars)]\n",
    "\t# put it all together\n",
    "\tagg = pd.concat(cols, axis=1)\n",
    "\tagg.columns = names\n",
    "\t# drop rows with NaN values\n",
    "\tif dropnan:\n",
    "\t\tagg.dropna(inplace=True)\n",
    "\treturn agg"
   ]
  },
  {
   "cell_type": "code",
   "execution_count": 14,
   "metadata": {},
   "outputs": [],
   "source": [
    "values = df.values\n",
    "encoder = LabelEncoder()\n",
    "values[:,5] = encoder.fit_transform(values[:,5])\n",
    "########去除时间戳\n",
    "values1 = values[:,1:]\n",
    "\n",
    "# ensure all data is float\n",
    "values1 = values1.astype('float32')\n",
    "\n",
    "# normalize features\n",
    "scaler = MinMaxScaler(feature_range=(0, 1))\n",
    "scaled = scaler.fit_transform(values1)\n",
    "\n",
    "# frame as supervised learning\n",
    "reframed = series_to_supervised(scaled, 1, 1)\n",
    "# drop columns we don't want to predict\n",
    "reframed.drop(reframed.columns[[9,10,11,12,13,14,15]], axis=1, inplace=True)\n",
    "#print(reframed[120:140])"
   ]
  },
  {
   "cell_type": "code",
   "execution_count": 17,
   "metadata": {},
   "outputs": [
    {
     "data": {
      "text/plain": [
       "array([[ 98.61321, -21.     , -11.     , ...,   1.79   ,   0.     ,\n",
       "          0.     ],\n",
       "       [ 98.61321, -21.     , -12.     , ...,   4.92   ,   0.     ,\n",
       "          0.     ],\n",
       "       [ 98.61321, -21.     , -11.     , ...,   6.71   ,   0.     ,\n",
       "          0.     ],\n",
       "       ...,\n",
       "       [ 10.     , -22.     ,  -3.     , ..., 242.7    ,   0.     ,\n",
       "          0.     ],\n",
       "       [  8.     , -22.     ,  -4.     , ..., 246.72   ,   0.     ,\n",
       "          0.     ],\n",
       "       [ 12.     , -21.     ,  -3.     , ..., 249.85   ,   0.     ,\n",
       "          0.     ]], dtype=float32)"
      ]
     },
     "execution_count": 17,
     "metadata": {},
     "output_type": "execute_result"
    }
   ],
   "source": [
    "values1"
   ]
  },
  {
   "cell_type": "code",
   "execution_count": 18,
   "metadata": {},
   "outputs": [
    {
     "data": {
      "text/plain": [
       "array([[0.09920846, 0.2794118 , 0.13114753, ..., 0.00229001, 0.        ,\n",
       "        0.        ],\n",
       "       [0.09920846, 0.2794118 , 0.1147541 , ..., 0.00763907, 0.        ,\n",
       "        0.        ],\n",
       "       [0.09920846, 0.2794118 , 0.13114753, ..., 0.01069811, 0.        ,\n",
       "        0.        ],\n",
       "       ...,\n",
       "       [0.01006036, 0.2647059 , 0.26229507, ..., 0.41399646, 0.        ,\n",
       "        0.        ],\n",
       "       [0.00804829, 0.2647059 , 0.24590163, ..., 0.4208665 , 0.        ,\n",
       "        0.        ],\n",
       "       [0.01207243, 0.2794118 , 0.26229507, ..., 0.42621556, 0.        ,\n",
       "        0.        ]], dtype=float32)"
      ]
     },
     "execution_count": 18,
     "metadata": {},
     "output_type": "execute_result"
    }
   ],
   "source": [
    "scaled"
   ]
  },
  {
   "cell_type": "code",
   "execution_count": 30,
   "metadata": {},
   "outputs": [],
   "source": [
    "reframed.to_csv('formatweather.csv')"
   ]
  },
  {
   "cell_type": "code",
   "execution_count": 20,
   "metadata": {},
   "outputs": [
    {
     "data": {
      "text/plain": [
       "array([[0.09920846, 0.2794118 , 0.13114753, ..., 0.        , 0.        ,\n",
       "        0.09920846],\n",
       "       [0.09920846, 0.2794118 , 0.1147541 , ..., 0.        , 0.        ,\n",
       "        0.09920846],\n",
       "       [0.09920846, 0.2794118 , 0.13114753, ..., 0.        , 0.        ,\n",
       "        0.09920846],\n",
       "       ...,\n",
       "       [0.01006036, 0.2647059 , 0.26229507, ..., 0.        , 0.        ,\n",
       "        0.01006036],\n",
       "       [0.01006036, 0.2647059 , 0.26229507, ..., 0.        , 0.        ,\n",
       "        0.00804829],\n",
       "       [0.00804829, 0.2647059 , 0.24590163, ..., 0.        , 0.        ,\n",
       "        0.01207243]], dtype=float32)"
      ]
     },
     "execution_count": 20,
     "metadata": {},
     "output_type": "execute_result"
    }
   ],
   "source": [
    "reframed.values"
   ]
  },
  {
   "cell_type": "code",
   "execution_count": null,
   "metadata": {},
   "outputs": [],
   "source": []
  }
 ],
 "metadata": {
  "kernelspec": {
   "display_name": "Python 3",
   "language": "python",
   "name": "python3"
  },
  "language_info": {
   "codemirror_mode": {
    "name": "ipython",
    "version": 3
   },
   "file_extension": ".py",
   "mimetype": "text/x-python",
   "name": "python",
   "nbconvert_exporter": "python",
   "pygments_lexer": "ipython3",
   "version": "3.7.3"
  }
 },
 "nbformat": 4,
 "nbformat_minor": 2
}
