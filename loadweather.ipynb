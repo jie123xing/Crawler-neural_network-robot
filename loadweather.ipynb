{
 "cells": [
  {
   "cell_type": "code",
   "execution_count": 138,
   "metadata": {},
   "outputs": [],
   "source": [
    "import csv\n",
    "\n",
    "import pandas as pd\n",
    "\n",
    "import numpy as np\n",
    "\n",
    "import torch\n",
    "\n",
    "from torch import nn, optim\n",
    "\n",
    "from torch.autograd import Variable"
   ]
  },
  {
   "cell_type": "code",
   "execution_count": 139,
   "metadata": {},
   "outputs": [],
   "source": [
    "df = pd.read_csv('formatweather.csv')\n",
    "#train_x=df.values[:,1:9]   #shape:(43823, 8)\n",
    "#train_y=df.values[:,9]     #shape:(43823,)\n",
    "train_x=np.asarray(df.values[:,1:9], dtype =  np.float32)\n",
    "train_y=np.asarray(df.values[:,9], dtype =  np.float32)   ##dtype = np.float32"
   ]
  },
  {
   "cell_type": "code",
   "execution_count": 140,
   "metadata": {},
   "outputs": [],
   "source": [
    "train_x = torch.from_numpy(train_x)  #43823,1,1,8\n",
    "train_y = torch.from_numpy(train_y)  #43823,1\n",
    "train_x=train_x.view(-1,1,1,8)\n",
    "train_y=train_y.view(-1,1)"
   ]
  },
  {
   "cell_type": "code",
   "execution_count": 141,
   "metadata": {},
   "outputs": [],
   "source": [
    "class Cnn(nn.Module):\n",
    "\n",
    "    def __init__(self, in_dim, n_class):\n",
    "\n",
    "        super(Cnn, self).__init__()\n",
    "\n",
    "        self.conv = nn.Sequential(\n",
    "\n",
    "            nn.Conv2d(in_dim, 6, (1,2), stride=(1), padding=(0,1)),#6,1,9\n",
    "\n",
    "            nn.ReLU(True),\n",
    "\n",
    "            nn.MaxPool2d(1, 1),#6,1,9\n",
    "\n",
    "            nn.Conv2d(6, 16, (1,3), stride=(1), padding=(0,1)),\n",
    "\n",
    "            nn.ReLU(True), nn.MaxPool2d(1, 1))#16,1,9\n",
    "   \n",
    "            #5*144\n",
    "\n",
    "        self.fc = nn.Sequential(\n",
    "\n",
    "            nn.Linear(144, 16), nn.Linear(16, 8), nn.Linear(8, n_class))\n",
    "\n",
    "\n",
    "\n",
    "    def forward(self, x):\n",
    "\n",
    "        out = self.conv(x)\n",
    "\n",
    "        out = out.view(out.size(0), -1)\n",
    "\n",
    "        out = self.fc(out)\n",
    "        \n",
    "        #out = out.view(5)\n",
    "\n",
    "        return out"
   ]
  },
  {
   "cell_type": "code",
   "execution_count": 142,
   "metadata": {},
   "outputs": [],
   "source": [
    "model = Cnn(1, 1)\n",
    "criterion = nn.MSELoss()\n",
    "optimizer = optim.SGD(model.parameters(), lr=0.01)"
   ]
  },
  {
   "cell_type": "code",
   "execution_count": 143,
   "metadata": {},
   "outputs": [
    {
     "name": "stdout",
     "output_type": "stream",
     "text": [
      "epoch 10\n",
      "**********\n",
      "tensor(0.0908, grad_fn=<MseLossBackward>)\n",
      "epoch 20\n",
      "**********\n",
      "tensor(0.0294, grad_fn=<MseLossBackward>)\n",
      "epoch 30\n",
      "**********\n",
      "tensor(0.0127, grad_fn=<MseLossBackward>)\n",
      "epoch 40\n",
      "**********\n",
      "tensor(0.0088, grad_fn=<MseLossBackward>)\n",
      "epoch 50\n",
      "**********\n",
      "tensor(0.0080, grad_fn=<MseLossBackward>)\n",
      "epoch 60\n",
      "**********\n",
      "tensor(0.0078, grad_fn=<MseLossBackward>)\n",
      "epoch 70\n",
      "**********\n",
      "tensor(0.0078, grad_fn=<MseLossBackward>)\n",
      "epoch 80\n",
      "**********\n",
      "tensor(0.0078, grad_fn=<MseLossBackward>)\n",
      "epoch 90\n",
      "**********\n",
      "tensor(0.0078, grad_fn=<MseLossBackward>)\n",
      "epoch 100\n",
      "**********\n",
      "tensor(0.0078, grad_fn=<MseLossBackward>)\n",
      "epoch 110\n",
      "**********\n",
      "tensor(0.0078, grad_fn=<MseLossBackward>)\n",
      "epoch 120\n",
      "**********\n",
      "tensor(0.0078, grad_fn=<MseLossBackward>)\n",
      "epoch 130\n",
      "**********\n",
      "tensor(0.0078, grad_fn=<MseLossBackward>)\n",
      "epoch 140\n",
      "**********\n",
      "tensor(0.0078, grad_fn=<MseLossBackward>)\n",
      "epoch 150\n",
      "**********\n",
      "tensor(0.0078, grad_fn=<MseLossBackward>)\n",
      "epoch 160\n",
      "**********\n",
      "tensor(0.0078, grad_fn=<MseLossBackward>)\n",
      "epoch 170\n",
      "**********\n",
      "tensor(0.0078, grad_fn=<MseLossBackward>)\n",
      "epoch 180\n",
      "**********\n",
      "tensor(0.0078, grad_fn=<MseLossBackward>)\n",
      "epoch 190\n",
      "**********\n",
      "tensor(0.0078, grad_fn=<MseLossBackward>)\n",
      "epoch 200\n",
      "**********\n",
      "tensor(0.0077, grad_fn=<MseLossBackward>)\n",
      "tensor([[0.0767],\n",
      "        [0.0760],\n",
      "        [0.0757],\n",
      "        ...,\n",
      "        [0.0984],\n",
      "        [0.0986],\n",
      "        [0.0982]], grad_fn=<AddmmBackward>) tensor([[0.0992],\n",
      "        [0.0992],\n",
      "        [0.0992],\n",
      "        ...,\n",
      "        [0.0101],\n",
      "        [0.0080],\n",
      "        [0.0121]])\n"
     ]
    }
   ],
   "source": [
    "for epoch in range(00):\n",
    "    \n",
    "    out = model(Variable(train_x))\n",
    "  \n",
    "    loss = criterion(out, Variable(train_y))\n",
    "\n",
    "    # running_loss += loss.item() * train_y.size(0)\n",
    "    if (epoch+1)%10==0:\n",
    "        print('epoch {}'.format(epoch + 1))\n",
    "\n",
    "        print('*' * 10)\n",
    "        print(loss)   \n",
    "\n",
    "    # 向后传播\n",
    "\n",
    "    optimizer.zero_grad()\n",
    "\n",
    "    loss.backward()\n",
    "\n",
    "    optimizer.step()\n",
    "print(out,train_y)\n",
    "# 保存模型\n",
    "#torch.save(model.state_dict(), './weathercnn.pth')"
   ]
  },
  {
   "cell_type": "code",
   "execution_count": 144,
   "metadata": {},
   "outputs": [
    {
     "data": {
      "text/plain": [
       "tensor([[0.0767],\n",
       "        [0.0760],\n",
       "        [0.0757],\n",
       "        ...,\n",
       "        [0.0984],\n",
       "        [0.0986],\n",
       "        [0.0982]], grad_fn=<AddmmBackward>)"
      ]
     },
     "execution_count": 144,
     "metadata": {},
     "output_type": "execute_result"
    }
   ],
   "source": [
    "out"
   ]
  },
  {
   "cell_type": "code",
   "execution_count": 145,
   "metadata": {},
   "outputs": [
    {
     "data": {
      "text/plain": [
       "tensor([[0.0992],\n",
       "        [0.0992],\n",
       "        [0.0992],\n",
       "        ...,\n",
       "        [0.0101],\n",
       "        [0.0080],\n",
       "        [0.0121]])"
      ]
     },
     "execution_count": 145,
     "metadata": {},
     "output_type": "execute_result"
    }
   ],
   "source": [
    "train_y"
   ]
  },
  {
   "cell_type": "code",
   "execution_count": 104,
   "metadata": {},
   "outputs": [],
   "source": [
    "x=np.array([[0.129779 ,0.352941 ,0.245902 ,0.527273 ,0.666667 ,0.002290 ,0.000000 ,0.0],  \n",
    "        [0.148893 ,0.367647 ,0.245902 ,0.527273 ,0.666667 ,0.003811 ,0.000000 ,0.0],\n",
    "        [0.159960 ,0.426471 ,0.229508 ,0.545454 ,0.666667 ,0.005332 ,0.000000 ,0.0],\n",
    "        [0.182093 ,0.485294 ,0.229508 ,0.563637 ,0.666667 ,0.008391 ,0.037037 ,0.0],\n",
    "        [0.138833 ,0.485294 ,0.229508 ,0.563637 ,0.666667 ,0.009912 ,0.074074 ,0.0]],dtype = np.float32)\n",
    "y=np.array([0.1 ,0.1 ,0.1 ,0.1 ,0.1])"
   ]
  },
  {
   "cell_type": "code",
   "execution_count": null,
   "metadata": {},
   "outputs": [],
   "source": []
  },
  {
   "cell_type": "code",
   "execution_count": null,
   "metadata": {},
   "outputs": [],
   "source": []
  }
 ],
 "metadata": {
  "kernelspec": {
   "display_name": "Python 3",
   "language": "python",
   "name": "python3"
  },
  "language_info": {
   "codemirror_mode": {
    "name": "ipython",
    "version": 3
   },
   "file_extension": ".py",
   "mimetype": "text/x-python",
   "name": "python",
   "nbconvert_exporter": "python",
   "pygments_lexer": "ipython3",
   "version": "3.7.3"
  }
 },
 "nbformat": 4,
 "nbformat_minor": 2
}
