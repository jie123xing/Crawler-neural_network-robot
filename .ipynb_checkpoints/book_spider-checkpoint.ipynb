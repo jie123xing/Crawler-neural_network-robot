{
 "cells": [
  {
   "cell_type": "code",
   "execution_count": 1,
   "metadata": {},
   "outputs": [],
   "source": [
    "from urllib.request import urlopen\n",
    "import urllib\n",
    "from bs4 import BeautifulSoup\n",
    "import csv\n",
    "import os\n",
    "import requests"
   ]
  },
  {
   "cell_type": "code",
   "execution_count": null,
   "metadata": {},
   "outputs": [],
   "source": [
    "def getClassification():################获取全部图书分类信息\n",
    "        resp=urlopen('http://category.dangdang.com/?ref=www-0-C')\n",
    "        soup=BeautifulSoup(resp,'html.parser')\n",
    "        ##############总目录\n",
    "        General_classification =soup.find_all('div',class_='classify_kind_name')\n",
    "        ##############分目录\n",
    "        Subdivision_classification=soup.find_all('ul',class_='classify_kind_detail')\n",
    "        sitename,siteurl=[],[]\n",
    "        for i in range(31):\n",
    "            sitename.append(site[i].a.string)\n",
    "            siteurl.append(site[i].a.get('href'))\n",
    "        sitenames,siteurls=[],[]\n",
    "        for i in range(len(sitename)):  \n",
    "                resp=urlopen('https://tianqi.moji.com'+siteurl[i])\n",
    "                soup=BeautifulSoup(resp,'html.parser')\n",
    "                shenghui=siteurl[i].split('/')\n",
    "                shenghui=shenghui[3]\n",
    "                site=soup.find_all(href=re.compile(shenghui+'/'))\n",
    "                for _ in site:\n",
    "                    sitenames.append(sitename[i]+_.string)\n",
    "                    siteurls.append(_.get('href'))\n",
    "    \n",
    "        return sitenames,siteurls"
   ]
  },
  {
   "cell_type": "code",
   "execution_count": 18,
   "metadata": {},
   "outputs": [],
   "source": [
    "resp=urlopen('http://category.dangdang.com/?ref=www-0-C')\n",
    "soup=BeautifulSoup(resp,'html.parser')\n",
    "##############总目录\n",
    "General_classification =soup.find_all('div',class_='classify_kind_name')\n",
    "##############分目录"
   ]
  },
  {
   "cell_type": "code",
   "execution_count": 14,
   "metadata": {},
   "outputs": [
    {
     "data": {
      "text/plain": [
       "'青春文学'"
      ]
     },
     "execution_count": 14,
     "metadata": {},
     "output_type": "execute_result"
    }
   ],
   "source": [
    "a.encode('iso-8859-1').decode('gb2312')"
   ]
  },
  {
   "cell_type": "code",
   "execution_count": 42,
   "metadata": {},
   "outputs": [
    {
     "ename": "SyntaxError",
     "evalue": "invalid syntax (<ipython-input-42-fcae228053b5>, line 4)",
     "output_type": "error",
     "traceback": [
      "\u001b[1;36m  File \u001b[1;32m\"<ipython-input-42-fcae228053b5>\"\u001b[1;36m, line \u001b[1;32m4\u001b[0m\n\u001b[1;33m    except :\u001b[0m\n\u001b[1;37m         ^\u001b[0m\n\u001b[1;31mSyntaxError\u001b[0m\u001b[1;31m:\u001b[0m invalid syntax\n"
     ]
    }
   ],
   "source": [
    "for i in General_classification:\n",
    "    try:\n",
    "        print(i.a.string.encode('iso-8859-1').decode('gbk')\n",
    "    except:\n",
    "        print('港台图书')\n",
    "    "
   ]
  },
  {
   "cell_type": "code",
   "execution_count": null,
   "metadata": {},
   "outputs": [],
   "source": []
  }
 ],
 "metadata": {
  "kernelspec": {
   "display_name": "Python 3",
   "language": "python",
   "name": "python3"
  },
  "language_info": {
   "codemirror_mode": {
    "name": "ipython",
    "version": 3
   },
   "file_extension": ".py",
   "mimetype": "text/x-python",
   "name": "python",
   "nbconvert_exporter": "python",
   "pygments_lexer": "ipython3",
   "version": "3.7.3"
  }
 },
 "nbformat": 4,
 "nbformat_minor": 2
}
