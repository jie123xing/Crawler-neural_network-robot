{
 "cells": [
  {
   "cell_type": "code",
   "execution_count": 2,
   "metadata": {},
   "outputs": [],
   "source": [
    "from urllib.request import urlopen\n",
    "import urllib\n",
    "from bs4 import BeautifulSoup\n",
    "import csv\n",
    "import os\n",
    "import requests"
   ]
  },
  {
   "cell_type": "code",
   "execution_count": 100,
   "metadata": {},
   "outputs": [],
   "source": [
    "def getClassification():################获取全部图书分类信息\n",
    "        resp=urlopen('http://category.dangdang.com/?ref=www-0-C')\n",
    "        soup=BeautifulSoup(resp,'html.parser')\n",
    "        ##############目录\n",
    "        General_classification =soup.find('div',id='floor_1')\n",
    "    \n",
    "        Gclass,Sclass,sclassion=[],[],[]###总目录和分目录获取\n",
    "        for i in General_classification:\n",
    "            try:\n",
    "                Gclass.append(i.a.string.encode('iso-8859-1').decode('gb2312'))####需要编码解码消除乱码\n",
    "                Sclass.append(i.ul)\n",
    "            except:\n",
    "                Gclass.append('港台图书')###特殊处理\n",
    "                Sclass.append(i.ul)  \n",
    "                \n",
    "        del Gclass[0];del Gclass[-1];del Sclass[0];del Gclass[-1] #####删除头尾无用部分  53-->51个数\n",
    "        \n",
    "        sclassion,sclassurl,lensclass=[],[],[] #####分目录名，url,每个分类的长度，调用时sclassion[x:x+1]\n",
    "        for i in range(len(Gclass)):\n",
    "            lensc=0    ###计数每个分类的个数\n",
    "            for j in Sclass[i]:\n",
    "                if j.a.string.encode('iso-8859-1').decode('gb2312')=='更多':\n",
    "                     continue\n",
    "                sclassion.append(j.a.string.encode('iso-8859-1').decode('gb2312'))\n",
    "                sclassurl.append(j.a.get('href'))\n",
    "                lensc+=1\n",
    "            lensclass.append(lensc)        \n",
    "            \n",
    "        return Gclass,sclassion,sclassurl,lensclass"
   ]
  },
  {
   "cell_type": "code",
   "execution_count": 102,
   "metadata": {},
   "outputs": [],
   "source": [
    "Gclass,sclassion,sclassurl,lensclass=getClassification()"
   ]
  },
  {
   "cell_type": "code",
   "execution_count": 103,
   "metadata": {},
   "outputs": [
    {
     "data": {
      "text/plain": [
       "('青春文学', '影视写真', 'http://category.dangdang.com/cp01.01.13.00.00.00.html', 15)"
      ]
     },
     "execution_count": 103,
     "metadata": {},
     "output_type": "execute_result"
    }
   ],
   "source": [
    "Gclass[0],sclassion[0],sclassurl[0],lensclass[0]"
   ]
  },
  {
   "cell_type": "code",
   "execution_count": null,
   "metadata": {},
   "outputs": [],
   "source": [
    "def getbookinfo():################获取图书信息\n",
    "        resp=urlopen('http://category.dangdang.com/?ref=www-0-C')\n",
    "        soup=BeautifulSoup(resp,'html.parser')\n",
    "        ##############目录\n",
    "        General_classification =soup.find('div',id='floor_1')"
   ]
  },
  {
   "cell_type": "code",
   "execution_count": 182,
   "metadata": {},
   "outputs": [],
   "source": [
    "resp=urlopen('http://category.dangdang.com/cp01.01.13.00.00.00.html')\n",
    "soup=BeautifulSoup(resp,'html.parser')\n",
    "div=soup.find('div',id='search_nature_rg')"
   ]
  },
  {
   "cell_type": "code",
   "execution_count": 187,
   "metadata": {},
   "outputs": [
    {
     "data": {
      "text/plain": [
       "[<span class=\"search_now_price\">¥69.80</span>,\n",
       " <span class=\"search_now_price\">¥59.80</span>,\n",
       " <span class=\"search_now_price\">¥32.00</span>,\n",
       " <span class=\"search_now_price\">¥149.10</span>,\n",
       " <span class=\"search_now_price\">¥48.90</span>,\n",
       " <span class=\"search_now_price\">¥28.60</span>,\n",
       " <span class=\"search_now_price\">¥41.40</span>,\n",
       " <span class=\"search_now_price\">¥37.40</span>,\n",
       " <span class=\"search_now_price\">¥38.10</span>,\n",
       " <span class=\"search_now_price\">¥61.20</span>,\n",
       " <span class=\"search_now_price\">¥33.70</span>,\n",
       " <span class=\"search_now_price\">¥69.60</span>,\n",
       " <span class=\"search_now_price\">¥85.70</span>,\n",
       " <span class=\"search_now_price\">¥28.60</span>,\n",
       " <span class=\"search_now_price\">¥39.50</span>,\n",
       " <span class=\"search_now_price\">¥49.35</span>,\n",
       " <span class=\"search_now_price\">¥51.30</span>,\n",
       " <span class=\"search_now_price\">¥78.20</span>,\n",
       " <span class=\"search_now_price\">¥44.00</span>,\n",
       " <span class=\"search_now_price\">¥35.80</span>,\n",
       " <span class=\"search_now_price\">¥149.10</span>,\n",
       " <span class=\"search_now_price\">¥69.60</span>,\n",
       " <span class=\"search_now_price\">¥63.70</span>,\n",
       " <span class=\"search_now_price\">¥68.00</span>,\n",
       " <span class=\"search_now_price\">¥27.40</span>,\n",
       " <span class=\"search_now_price\">¥73.50</span>,\n",
       " <span class=\"search_now_price\">¥46.90</span>,\n",
       " <span class=\"search_now_price\">¥31.20</span>,\n",
       " <span class=\"search_now_price\">¥40.00</span>,\n",
       " <span class=\"search_now_price\">¥35.70</span>,\n",
       " <span class=\"search_now_price\">¥136.60</span>,\n",
       " <span class=\"search_now_price\">¥23.90</span>,\n",
       " <span class=\"search_now_price\">¥66.00</span>,\n",
       " <span class=\"search_now_price\">¥58.00</span>,\n",
       " <span class=\"search_now_price\">¥149.10</span>,\n",
       " <span class=\"search_now_price\">¥69.60</span>,\n",
       " <span class=\"search_now_price\">¥51.70</span>,\n",
       " <span class=\"search_now_price\">¥188.00</span>,\n",
       " <span class=\"search_now_price\">¥136.20</span>,\n",
       " <span class=\"search_now_price\">¥48.00</span>,\n",
       " <span class=\"search_now_price\">¥48.00</span>,\n",
       " <span class=\"search_now_price\">¥10.94</span>,\n",
       " <span class=\"search_now_price\">¥108.00</span>,\n",
       " <span class=\"search_now_price\">¥149.10</span>,\n",
       " <span class=\"search_now_price\">¥80.00</span>,\n",
       " <span class=\"search_now_price\">¥41.00</span>,\n",
       " <span class=\"search_now_price\">¥34.20</span>,\n",
       " <span class=\"search_now_price\">¥48.00</span>,\n",
       " <span class=\"search_now_price\">¥31.20</span>,\n",
       " <span class=\"search_now_price\">¥67.00</span>,\n",
       " <span class=\"search_now_price\">¥31.20</span>,\n",
       " <span class=\"search_now_price\">¥14.74</span>,\n",
       " <span class=\"search_now_price\">¥35.00</span>,\n",
       " <span class=\"search_now_price\">¥14.20</span>,\n",
       " <span class=\"search_now_price\">¥100.33</span>,\n",
       " <span class=\"search_now_price\">¥87.20</span>,\n",
       " <span class=\"search_now_price\">¥35.00</span>,\n",
       " <span class=\"search_now_price\">¥68.00</span>,\n",
       " <span class=\"search_now_price\">¥59.70</span>,\n",
       " <span class=\"search_now_price\">¥245.00</span>]"
      ]
     },
     "execution_count": 187,
     "metadata": {},
     "output_type": "execute_result"
    }
   ],
   "source": [
    "price=soup.find_all('span',class_='search_now_price')\n",
    "price"
   ]
  },
  {
   "cell_type": "code",
   "execution_count": 189,
   "metadata": {},
   "outputs": [
    {
     "data": {
      "text/plain": [
       "365"
      ]
     },
     "execution_count": 189,
     "metadata": {},
     "output_type": "execute_result"
    }
   ],
   "source": [
    "book_title=soup.find_all('a',attrs={'target':True,''})\n",
    "len(book_title)"
   ]
  },
  {
   "cell_type": "code",
   "execution_count": 194,
   "metadata": {},
   "outputs": [
    {
     "name": "stdout",
     "output_type": "stream",
     "text": [
      "<p class=\"name\" name=\"title\"><a dd_name=\"单品标题\" ddclick=\"act=normalResult_title&amp;pos=23823927_0_2_p\" href=\"http://product.dangdang.com/23823927.html\" name=\"itemlist-title\" target=\"_blank\" title=\" 神探夏洛克官方指南（1-3季）（BBC正版授权，完全原版复刻，英国神剧创作书第二弹） 当当独家精美海报护封版（第1-3季幕后制作全纪录,揭秘21世纪福尔摩斯诞生之谜;幕后主创团队全面创作手记首度公开500多张概念剧照、150多篇创意手稿、删减片段、背景布置、戏服设计等等，剧迷们不可\"> 神探夏洛克官方指南（1-3季）（BBC正版授权，完全原版复刻，英国神剧创作书第二弹） 当当独家精美海报护封版（第1-3季幕后制作全纪录,揭秘21世纪福尔摩斯诞生之谜;幕后主创团队全面创作手记首度公开500多张概念剧照、150多篇创意手稿、删减片段、背景布置、戏服设计等等，剧迷们不可</a></p>\n"
     ]
    }
   ],
   "source": [
    "book_title=soup.find_all('p',class_='name')\n",
    "print(book_title[0].encode('iso-8859-1').decode('gb2312'))"
   ]
  },
  {
   "cell_type": "code",
   "execution_count": 212,
   "metadata": {},
   "outputs": [
    {
     "data": {
      "text/plain": [
       "' 神探夏洛克官方指南（1-3季）（BBC'"
      ]
     },
     "execution_count": 212,
     "metadata": {},
     "output_type": "execute_result"
    }
   ],
   "source": [
    "title=book_title[0].string.encode('iso-8859-1').decode('gb2312')\n",
    "title[0:20]"
   ]
  },
  {
   "cell_type": "code",
   "execution_count": 215,
   "metadata": {},
   "outputs": [
    {
     "data": {
      "text/plain": [
       "'<p class=\"search_book_author\"><span>（英）<a dd_name=\"单品作者\" href=\"http://search.dangdang.com/?key2=史蒂夫特赖布&amp;medium=01&amp;category_path=01.00.00.00.00.00\" name=\"itemlist-author\" title=\"（英）史蒂夫特赖布 著 ， 马克加蒂斯 前言， 陈琅 译\">史蒂夫特赖布</a> 著 ， <a dd_name=\"单品作者\" href=\"http://search.dangdang.com/?key2=马克加蒂斯&amp;medium=01&amp;category_path=01.00.00.00.00.00\" name=\"itemlist-author\" title=\"（英）史蒂夫特赖布 著 ， 马克加蒂斯 前言， 陈琅 译\">马克加蒂斯</a> <a dd_name=\"单品作者\" href=\"http://search.dangdang.com/?key2=前言&amp;medium=01&amp;category_path=01.00.00.00.00.00\" name=\"itemlist-author\" title=\"（英）史蒂夫特赖布 著 ， 马克加蒂斯 前言， 陈琅 译\">前言</a>， <a dd_name=\"单品作者\" href=\"http://search.dangdang.com/?key2=陈琅&amp;medium=01&amp;category_path=01.00.00.00.00.00\" name=\"itemlist-author\" title=\"（英）史蒂夫特赖布 著 ， 马克加蒂斯 前言， 陈琅 译\">陈琅</a> 译</span><span> /2016-01-01</span><span>  /<a dd_name=\"单品出版社\" href=\"http://search.dangdang.com/?key=&amp;key3=%B0%D9%BB%A8%D6%DE%CE%C4%D2%D5%B3%F6%B0%E6%C9%E7&amp;medium=01&amp;category_path=01.00.00.00.00.00\" name=\"P_cbs\" title=\"百花洲文艺出版社\">百花洲文艺出版社</a></span><div class=\"shop_button\"><p class=\"bottom_p\"><a class=\"search_btn_cart\" dd_name=\"查询详情\" ddclick=\"act=normalResult_detail&amp;pos=23823927_0_2_p\" href=\"javascript:goto_product(23823927)\" name=\"area_buy\">详细信息</a><a class=\"search_btn_collect\" dd_name=\"加入收藏\" ddclick=\"act=normalResult_favor&amp;pos=23823927_0_2_p\" href=\"javascript:void(0);\" id=\"lcase23823927\" name=\"Sc\">收藏</a></p></div> </p>'"
      ]
     },
     "execution_count": 215,
     "metadata": {},
     "output_type": "execute_result"
    }
   ],
   "source": [
    "book_time=soup.find_all('p',class_='search_book_author')\n",
    "book_time[0].encode('iso-8859-1').decode('gb2312')"
   ]
  },
  {
   "cell_type": "code",
   "execution_count": null,
   "metadata": {},
   "outputs": [],
   "source": []
  }
 ],
 "metadata": {
  "kernelspec": {
   "display_name": "Python 3",
   "language": "python",
   "name": "python3"
  },
  "language_info": {
   "codemirror_mode": {
    "name": "ipython",
    "version": 3
   },
   "file_extension": ".py",
   "mimetype": "text/x-python",
   "name": "python",
   "nbconvert_exporter": "python",
   "pygments_lexer": "ipython3",
   "version": "3.7.3"
  }
 },
 "nbformat": 4,
 "nbformat_minor": 2
}
