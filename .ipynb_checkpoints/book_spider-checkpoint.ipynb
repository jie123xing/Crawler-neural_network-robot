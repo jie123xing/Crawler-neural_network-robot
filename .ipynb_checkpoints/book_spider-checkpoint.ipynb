{
 "cells": [
  {
   "cell_type": "code",
   "execution_count": 1,
   "metadata": {},
   "outputs": [],
   "source": [
    "from urllib.request import urlopen\n",
    "import urllib\n",
    "from bs4 import BeautifulSoup\n",
    "import csv\n",
    "import os"
   ]
  },
  {
   "cell_type": "code",
   "execution_count": null,
   "metadata": {},
   "outputs": [],
   "source": [
    "def getClassification():################获取全部图书分类信息\n",
    "        resp=urlopen('http://category.dangdang.com/?ref=www-0-C')\n",
    "        soup=BeautifulSoup(resp,'html.parser')\n",
    "        site=soup.find_all('')\n",
    "        sitename,siteurl=[],[]\n",
    "        for i in range(31):\n",
    "            sitename.append(site[i].a.string)\n",
    "            siteurl.append(site[i].a.get('href'))\n",
    "        sitenames,siteurls=[],[]\n",
    "        for i in range(len(sitename)):  \n",
    "                resp=urlopen('https://tianqi.moji.com'+siteurl[i])\n",
    "                soup=BeautifulSoup(resp,'html.parser')\n",
    "                shenghui=siteurl[i].split('/')\n",
    "                shenghui=shenghui[3]\n",
    "                site=soup.find_all(href=re.compile(shenghui+'/'))\n",
    "                for _ in site:\n",
    "                    sitenames.append(sitename[i]+_.string)\n",
    "                    siteurls.append(_.get('href'))\n",
    "    \n",
    "        return sitenames,siteurls"
   ]
  },
  {
   "cell_type": "code",
   "execution_count": 6,
   "metadata": {},
   "outputs": [],
   "source": [
    "resp=urlopen('http://category.dangdang.com/?ref=www-0-C')\n",
    "soup=BeautifulSoup(resp,'html.parser')\n",
    "General_classification =soup.find_all('div',class_='classify_kind_name')"
   ]
  },
  {
   "cell_type": "code",
   "execution_count": 75,
   "metadata": {},
   "outputs": [],
   "source": [
    "a=General_classification[0] "
   ]
  },
  {
   "cell_type": "code",
   "execution_count": 85,
   "metadata": {},
   "outputs": [
    {
     "data": {
      "text/plain": [
       "'Çà´ºÎÄÑ§'"
      ]
     },
     "execution_count": 85,
     "metadata": {},
     "output_type": "execute_result"
    }
   ],
   "source": [
    "a.string.string.string"
   ]
  },
  {
   "cell_type": "code",
   "execution_count": 76,
   "metadata": {},
   "outputs": [
    {
     "data": {
      "text/plain": [
       "bs4.element.Tag"
      ]
     },
     "execution_count": 76,
     "metadata": {},
     "output_type": "execute_result"
    }
   ],
   "source": [
    "type(a)"
   ]
  },
  {
   "cell_type": "code",
   "execution_count": 42,
   "metadata": {},
   "outputs": [
    {
     "name": "stdout",
     "output_type": "stream",
     "text": [
      "gb2312\n"
     ]
    }
   ],
   "source": [
    "import requests\n",
    "print(requests.get('http://category.dangdang.com/?ref=www-0-C').encoding)"
   ]
  },
  {
   "cell_type": "code",
   "execution_count": 13,
   "metadata": {},
   "outputs": [],
   "source": [
    "Subdivision_classification=soup.find_all('ul',class_='classify_kind_detail')"
   ]
  },
  {
   "cell_type": "code",
   "execution_count": 14,
   "metadata": {},
   "outputs": [
    {
     "data": {
      "text/plain": [
       "<ul class=\"classify_kind_detail\"><li name=\"cat_3\"><a href=\"http://category.dangdang.com/cp01.01.13.00.00.00.html\" target=\"_blank\">Ó°ÊÓÐ´Õæ</a></li><li name=\"cat_3\"><a href=\"http://category.dangdang.com/cp01.01.11.00.00.00.html\" target=\"_blank\">´©Ô½/ÖØÉú/¼Ü¿Õ</a></li><li name=\"cat_3\"><a href=\"http://category.dangdang.com/cp01.01.03.00.00.00.html\" target=\"_blank\">ÅÑÄæ/³É³¤</a></li><li name=\"cat_3\"><a href=\"http://category.dangdang.com/cp01.01.05.00.00.00.html\" target=\"_blank\">ÓéÀÖ/Å¼Ïñ</a></li><li name=\"cat_3\"><a href=\"http://category.dangdang.com/cp01.01.06.00.00.00.html\" target=\"_blank\">±¬Ð¦/ÎÞÀåÍ·</a></li><li name=\"cat_3\"><a href=\"http://category.dangdang.com/cp01.01.04.00.00.00.html\" target=\"_blank\">ÐüÒÉ/¾ªã¤</a></li><li name=\"cat_3\"><a href=\"http://category.dangdang.com/cp01.01.10.00.00.00.html\" target=\"_blank\">º«¹úÇà´ºÎÄÑ§</a></li><li name=\"cat_3\"><a href=\"http://category.dangdang.com/cp01.01.15.00.00.00.html\" target=\"_blank\">ÇáÐ¡Ëµ</a></li><li name=\"cat_3\"><a href=\"http://category.dangdang.com/cp01.01.07.00.00.00.html\" target=\"_blank\">Ðþ»Ã/ÐÂÎäÏÀ/Ä§»Ã/¿Æ»Ã</a></li><li name=\"cat_3\"><a href=\"http://category.dangdang.com/cp01.01.08.00.00.00.html\" target=\"_blank\">´óÂ½Ô­´´</a></li><li name=\"cat_3\"><a href=\"http://category.dangdang.com/cp01.01.01.00.00.00.html\" target=\"_blank\">Ð£Ô°</a></li><li name=\"cat_3\"><a href=\"http://category.dangdang.com/cp01.01.02.00.00.00.html\" target=\"_blank\">°®Çé/Çé¸Ð</a></li><li name=\"cat_3\"><a href=\"http://category.dangdang.com/cp01.01.14.00.00.00.html\" target=\"_blank\">¹Å´úÑÔÇé</a></li><li name=\"cat_3\"><a href=\"http://category.dangdang.com/cp01.01.09.00.00.00.html\" target=\"_blank\">¸ÛÌ¨Çà´ºÎÄÑ§</a></li><li name=\"cat_3\"><a href=\"http://category.dangdang.com/cp01.01.12.00.00.00.html\" target=\"_blank\">ÆäËû¹úÍâÇà´ºÎÄÑ§</a></li><li class=\"most_right more\" style=\"display:none;\"><a class=\"classify_more\" href=\"javascript:void(0);\" name=\"cat_viewmore\">¸ü¶à</a></li></ul>"
      ]
     },
     "execution_count": 14,
     "metadata": {},
     "output_type": "execute_result"
    }
   ],
   "source": [
    "Subdivision_classification[0]"
   ]
  },
  {
   "cell_type": "code",
   "execution_count": null,
   "metadata": {},
   "outputs": [],
   "source": []
  }
 ],
 "metadata": {
  "kernelspec": {
   "display_name": "Python 3",
   "language": "python",
   "name": "python3"
  },
  "language_info": {
   "codemirror_mode": {
    "name": "ipython",
    "version": 3
   },
   "file_extension": ".py",
   "mimetype": "text/x-python",
   "name": "python",
   "nbconvert_exporter": "python",
   "pygments_lexer": "ipython3",
   "version": "3.7.3"
  }
 },
 "nbformat": 4,
 "nbformat_minor": 2
}
