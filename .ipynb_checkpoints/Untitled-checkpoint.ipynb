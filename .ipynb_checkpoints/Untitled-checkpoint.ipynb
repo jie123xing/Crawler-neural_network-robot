{
 "cells": [
  {
   "cell_type": "code",
   "execution_count": 2,
   "metadata": {},
   "outputs": [],
   "source": [
    "from urllib.request import urlopen\n",
    "from bs4 import BeautifulSoup\n",
    "import re\n",
    "import time\n",
    "import csv\n",
    "\n",
    "def getweather():\n",
    "        #########开始记录PM10等污染物信息\n",
    "        resp=urlopen('https://tianqi.moji.com/pm/china/beijing/xicheng-district')\n",
    "        soup=BeautifulSoup(resp,'html.parser')\n",
    "        time=soup.find('b')\n",
    "        time=time.string[5:]\n",
    "        print(time)\n",
    "        AQI=soup.find('em',id='aqi_value').string\n",
    "        #clearfix=soup.find('ul',class_='clearfix')\n",
    "        print('AQI：'+str(AQI))\n",
    "        #print(clearfix)\n",
    "        \n",
    "        weatherinfo=[time,AQI]#天气信息\n",
    "        \n",
    "        weather=soup.find_all('li')\n",
    "        PM10,PM2_5,NO_2,SO_2,O_3,CO=0,0,0,0,0,0\n",
    "        clearfix=[PM10,PM2_5,NO_2,SO_2,O_3,CO]\n",
    "        for i in range(6):\n",
    "            clearfix[i]=weather[i].span.string\n",
    "            weatherinfo.append(clearfix[i])\n",
    "        print(clearfix)\n",
    "        '''写数据独立\n",
    "        with open('test.txt','a')as f:\n",
    "            f.write(time+',')\n",
    "            f.write(str(AQI)+',')\n",
    "            for i in clearfix:       \n",
    "                f.write(i+',')\n",
    "            f.write('\\n')\n",
    "        ''' \n",
    "        ########开始记录温度湿度风\n",
    "        resp=urlopen('https://tianqi.moji.com/today/china/beijing/xicheng-district')\n",
    "        soup=BeautifulSoup(resp,'html.parser')\n",
    "        today=soup.find('div',class_='info clearfix')\n",
    "        temperature=today.em.string\n",
    "        today=soup.find('div',class_='about clearfix')\n",
    "        humidity=today.span.string[2:]\n",
    "        wind=today.em.string\n",
    "        listtoday=[temperature,humidity,wind]\n",
    "        weatherinfo.extend(listtoday)\n",
    "        \n",
    "        return weatherinfo"
   ]
  },
  {
   "cell_type": "code",
   "execution_count": 3,
   "metadata": {},
   "outputs": [],
   "source": [
    "def writeData(weatherinfo):\n",
    "    '''\n",
    "    fieldnames=['TIME','AQI','PM10','PM2_5','NO_2','SO_2','O_3','CO']\n",
    "    weather={}\n",
    "    for i in range(8):\n",
    "        weather[fieldnames[i]]=weatherinfo[i]#发现不需要转化为字典\n",
    "    '''\n",
    "    with open('weatherbeijing.csv','a',encoding='utf-8-sig',newline='') as f:\n",
    "        #writer=csv.DictWriter(f,fieldnames)\n",
    "        #writer.writeheader()\n",
    "        writer=csv.writer(f,dialect='excel')\n",
    "        writer.writerow(weatherinfo)"
   ]
  },
  {
   "cell_type": "code",
   "execution_count": 4,
   "metadata": {},
   "outputs": [
    {
     "name": "stdout",
     "output_type": "stream",
     "text": [
      "2019年06月11日 03时00分\n",
      "AQI：119\n",
      "['53', '56', '8', '2', '119', '7']\n"
     ]
    }
   ],
   "source": [
    "writeData(getweather())"
   ]
  },
  {
   "cell_type": "code",
   "execution_count": null,
   "metadata": {},
   "outputs": [
    {
     "name": "stdout",
     "output_type": "stream",
     "text": [
      "开始工作！\n",
      "2019年06月11日 03时00分\n",
      "AQI：119\n",
      "['53', '56', '8', '2', '119', '7']\n",
      "休息中……\n",
      "开始工作！\n",
      "2019年06月11日 04时00分\n",
      "AQI：127\n",
      "['56', '51', '8', '2', '127', '7']\n",
      "休息中……\n",
      "开始工作！\n",
      "2019年06月11日 05时00分\n",
      "AQI：134\n",
      "['59', '49', '9', '2', '134', '7']\n",
      "休息中……\n"
     ]
    }
   ],
   "source": [
    "while True: \n",
    "        print(\"开始工作！\") \n",
    "        writeData(getweather())\n",
    "        #每一小时执行一次 \n",
    "        print(\"休息中……\") \n",
    "        time.sleep(3600)"
   ]
  },
  {
   "cell_type": "code",
   "execution_count": null,
   "metadata": {},
   "outputs": [],
   "source": []
  }
 ],
 "metadata": {
  "kernelspec": {
   "display_name": "Python 3",
   "language": "python",
   "name": "python3"
  },
  "language_info": {
   "codemirror_mode": {
    "name": "ipython",
    "version": 3
   },
   "file_extension": ".py",
   "mimetype": "text/x-python",
   "name": "python",
   "nbconvert_exporter": "python",
   "pygments_lexer": "ipython3",
   "version": "3.7.3"
  }
 },
 "nbformat": 4,
 "nbformat_minor": 2
}
