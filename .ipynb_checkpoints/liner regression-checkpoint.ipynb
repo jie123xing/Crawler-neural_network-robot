{
 "cells": [
  {
   "cell_type": "code",
   "execution_count": 1,
   "metadata": {},
   "outputs": [],
   "source": [
    "import torch\n",
    "\n",
    "from torch import nn, optim\n",
    "\n",
    "from torch.autograd import Variable\n",
    "\n",
    "import numpy as np\n",
    "\n",
    "import matplotlib.pyplot as plt"
   ]
  },
  {
   "cell_type": "code",
   "execution_count": 2,
   "metadata": {},
   "outputs": [],
   "source": [
    "x_train = np.array([[3.3], [4.4], [5.5], [6.71], [6.93], [4.168],\n",
    "\n",
    "                    [9.779], [6.182], [7.59], [2.167], [7.042],\n",
    "\n",
    "                    [10.791], [5.313], [7.997], [3.1]], dtype=np.float32)\n",
    "\n",
    "\n",
    "\n",
    "y_train = np.array([[1.7], [2.76], [2.09], [3.19], [1.694], [1.573],\n",
    "\n",
    "                    [3.366], [2.596], [2.53], [1.221], [2.827],\n",
    "\n",
    "                    [3.465], [1.65], [2.904], [1.3]], dtype=np.float32)\n",
    "\n",
    "\n",
    "\n",
    "\n",
    "\n",
    "x_train = torch.from_numpy(x_train)\n",
    "\n",
    "\n",
    "\n",
    "y_train = torch.from_numpy(y_train)\n",
    "\n"
   ]
  },
  {
   "cell_type": "code",
   "execution_count": 3,
   "metadata": {},
   "outputs": [
    {
     "data": {
      "text/plain": [
       "tensor([[ 3.3000],\n",
       "        [ 4.4000],\n",
       "        [ 5.5000],\n",
       "        [ 6.7100],\n",
       "        [ 6.9300],\n",
       "        [ 4.1680],\n",
       "        [ 9.7790],\n",
       "        [ 6.1820],\n",
       "        [ 7.5900],\n",
       "        [ 2.1670],\n",
       "        [ 7.0420],\n",
       "        [10.7910],\n",
       "        [ 5.3130],\n",
       "        [ 7.9970],\n",
       "        [ 3.1000]])"
      ]
     },
     "execution_count": 3,
     "metadata": {},
     "output_type": "execute_result"
    }
   ],
   "source": [
    "x_train"
   ]
  },
  {
   "cell_type": "code",
   "execution_count": 4,
   "metadata": {},
   "outputs": [],
   "source": [
    "# Linear Regression Model\n",
    "\n",
    "class LinearRegression(nn.Module):\n",
    "\n",
    "    def __init__(self):\n",
    "\n",
    "        super(LinearRegression, self).__init__()\n",
    "\n",
    "        self.linear = nn.Linear(1, 1)  # input and output is 1 dimension\n",
    "\n",
    "\n",
    "\n",
    "    def forward(self, x):\n",
    "\n",
    "        out = self.linear(x)\n",
    "\n",
    "        return out"
   ]
  },
  {
   "cell_type": "code",
   "execution_count": 38,
   "metadata": {},
   "outputs": [],
   "source": [
    "model = LinearRegression()\n",
    "\n",
    "# 定义loss和优化函数\n",
    "\n",
    "criterion = nn.MSELoss()\n",
    "\n",
    "optimizer = optim.SGD(model.parameters(), lr=1e-2)"
   ]
  },
  {
   "cell_type": "code",
   "execution_count": 39,
   "metadata": {},
   "outputs": [
    {
     "name": "stdout",
     "output_type": "stream",
     "text": [
      "Epoch[1000/10000], loss: 0.169265\n",
      "Epoch[2000/10000], loss: 0.168917\n",
      "Epoch[3000/10000], loss: 0.168915\n",
      "Epoch[4000/10000], loss: 0.168915\n",
      "Epoch[5000/10000], loss: 0.168915\n",
      "Epoch[6000/10000], loss: 0.168915\n",
      "Epoch[7000/10000], loss: 0.168915\n",
      "Epoch[8000/10000], loss: 0.168915\n",
      "Epoch[9000/10000], loss: 0.168915\n",
      "Epoch[10000/10000], loss: 0.168915\n"
     ]
    }
   ],
   "source": [
    "# 开始训练\n",
    "\n",
    "num_epochs = 10000\n",
    "\n",
    "for epoch in range(num_epochs):\n",
    "\n",
    "    inputs = Variable(x_train)\n",
    "\n",
    "    target = Variable(y_train)\n",
    "\n",
    "\n",
    "\n",
    "    # forward\n",
    "\n",
    "    out = model(inputs)\n",
    "\n",
    "    loss = criterion(out, target)\n",
    "\n",
    "    # backward\n",
    "\n",
    "    optimizer.zero_grad()\n",
    "\n",
    "    loss.backward()\n",
    "\n",
    "    optimizer.step()\n",
    "\n",
    "\n",
    "\n",
    "    if (epoch+1) % 1000 == 0:\n",
    "\n",
    "        print('Epoch[{}/{}], loss: {:.6f}'\n",
    "              .format(epoch+1, num_epochs, loss.item()))"
   ]
  },
  {
   "cell_type": "code",
   "execution_count": 37,
   "metadata": {},
   "outputs": [
    {
     "data": {
      "image/png": "[encoded data removed]",
      "text/plain": [
       "<Figure size 432x288 with 1 Axes>"
      ]
     },
     "metadata": {
      "needs_background": "light"
     },
     "output_type": "display_data"
    }
   ],
   "source": [
    "model.eval()\n",
    "\n",
    "predict = model(Variable(x_train))\n",
    "\n",
    "predict = predict.data.numpy()\n",
    "\n",
    "plt.plot(x_train.numpy(), y_train.numpy(), 'ro', label='Original data')\n",
    "\n",
    "plt.plot(x_train.numpy(), predict, label='Fitting Line')\n",
    "\n",
    "# 显示图例\n",
    "\n",
    "plt.legend() \n",
    "\n",
    "plt.show()"
   ]
  },
  {
   "cell_type": "code",
   "execution_count": 15,
   "metadata": {},
   "outputs": [],
   "source": [
    "# 保存模型\n",
    "\n",
    "torch.save(model.state_dict(), './linear.pth')"
   ]
  }
 ],
 "metadata": {
  "kernelspec": {
   "display_name": "Python 3",
   "language": "python",
   "name": "python3"
  },
  "language_info": {
   "codemirror_mode": {
    "name": "ipython",
    "version": 3
   },
   "file_extension": ".py",
   "mimetype": "text/x-python",
   "name": "python",
   "nbconvert_exporter": "python",
   "pygments_lexer": "ipython3",
   "version": "3.7.3"
  }
 },
 "nbformat": 4,
 "nbformat_minor": 2
}
