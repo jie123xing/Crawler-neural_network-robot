{
 "cells": [
  {
   "cell_type": "code",
   "execution_count": 1,
   "metadata": {},
   "outputs": [],
   "source": [
    "import json\n",
    "import os"
   ]
  },
  {
   "cell_type": "code",
   "execution_count": 97,
   "metadata": {},
   "outputs": [],
   "source": [
    "# 读取数据\n",
    "with open('1shelf.json', 'r',encoding='utf-8-sig') as f:\n",
    "    data = json.load(f)"
   ]
  },
  {
   "cell_type": "code",
   "execution_count": 88,
   "metadata": {},
   "outputs": [
    {
     "name": "stdout",
     "output_type": "stream",
     "text": [
      "神探夏洛克官方指南（\n",
      "片寄凉太写真集 Go\n",
      "下一站，影帝\n",
      "幻城剧版完全指南：幕\n",
      "青云志写真集\n",
      "《麻雀》图文典藏版\n",
      "勇敢远行，在我们老去\n",
      "《随峰成长》李易峰写\n",
      "【正版】 谢娜写的书\n",
      "兰陵王影像书\n",
      "爵迹套装（雾雪零尘+\n",
      "那年冬天，风在吹（宋\n",
      "女不强大天不容\n",
      "神探夏洛克（BBC唯\n",
      "现货】书海沧生的书 \n",
      "【现货赠送精美写真】\n",
      "十九岁的时差 tfb\n",
      "现货 孤芳不自赏上下\n",
      "十月围城.官方影像书\n",
      "幻城剧版完全指南：幕\n",
      "爵迹（雾雪零尘+永生\n",
      "【附dvd+特别明信\n",
      "片寄凉太写真集 Go\n",
      "大汉情缘之云中歌纪念\n",
      "詹姆斯·卡梅隆的“泰\n",
      "盗墓笔记季播剧写真集\n",
      "库存尾品【正版】彭于\n",
      "《华夏美学●美学四讲\n",
      "【正版】自在YOUN\n",
      "幻城剧版完全指南：幕\n",
      "那年，青春期（附女主\n",
      "现货正版 片寄凉太写\n",
      "神探夏洛克官方指南(\n",
      "步步惊情·官方影像书\n",
      "幻城剧版完全指南：幕\n",
      "爵迹（雾雪零尘+永生\n",
      "【随书赠送10张主演\n",
      "幻城剧版完全指南：幕\n",
      "幻城剧版完全指南\n",
      "爵迹（雾雪零尘+永生\n",
      "爵迹（雾雪零尘+永生\n",
      "知韩 Super J\n",
      "那年冬天 风在吹 (\n",
      "幻城剧版完全指南：幕\n",
      "片寄凉太写真集 Go\n",
      "【正版】愿你喜欢笑也\n",
      "爵迹（雾雪零尘 永生\n",
      "正版 用时间换天分 \n",
      "库存尾品【正版】明道\n",
      "神探夏洛克 盖·亚当\n",
      "《庄子纂笺》 畅销书\n",
      "h38  导演创作完\n",
      "神探夏洛克官方畅销侦\n",
      "盗墓笔记季播剧写真集\n",
      "同学录套装1+2全2\n",
      "《你的名字。》官方视\n",
      "纨绔世子妃完美套装（\n",
      "梦溪石：麟趾（套装全\n",
      "看清楚再下单】侯卫东\n",
      "法老的宠妃1·时空黄\n",
      "法老的宠妃2·荷鲁斯\n",
      "夜旅人\n",
      "永夜君王 卷一：在永\n",
      "凤逆苍穹（1-4）套\n",
      "再生缘：我的温柔暴君\n",
      "《莲花签》（套装共3\n",
      "《错嫁良缘4海盗千金\n",
      "大宋的智慧1\n",
      "恨倾城\n",
      "鸭川六景（奇幻京都风\n",
      "十一倦（套装全二册）\n",
      "承君眷顾\n",
      "《寻找前世之旅续集》\n",
      "现货 法老的宠妃1 \n",
      "大宋的智慧3\n",
      "错嫁良缘1-6六部曲\n",
      "别拿穿越不当工作（全\n",
      "大宋的智慧2\n",
      "娇娘医经 肆\n",
      "娇娘医经 伍\n",
      "拜托了，老板\n",
      "一世倾城1\n",
      "特工狂妃\n",
      "娇娘医经 陆\n",
      "玉堂金阙\n",
      "正版现货随.机签名定\n",
      "娇娘医经 柒\n",
      "水墨山河珍藏版（震撼\n",
      "娇娘医经 贰\n",
      "绝世无双2崛起荒芜（\n",
      "凤逆苍穹2万寿无疆（\n",
      "小女花不弃(林依晨 \n",
      "傲雪江山（终结篇）（\n",
      "穿越时空的少女（新版\n",
      "梦回大明十二年（上下\n",
      "绝世无双1凤凰涅槃\n",
      "娇娘医经 壹\n",
      "一世倾城3战天下（上\n",
      "彼岸有妖\n",
      "娇娘医经 叁\n",
      "限时秒杀  j 步步\n",
      "穿越之傀儡娃娃\n",
      "一世倾城2凤凰劫（上\n",
      "再生缘 我的温柔暴君\n",
      "锦衣夜行\n",
      "华胥引小说+华胥引画\n",
      "凤逆苍穹3魂兮归来\n",
      "贞观大闲人2\n",
      "意林：轻文库绘梦古风\n",
      "悦读纪：天配良缘之西\n",
      "[正版图书-HX]-\n",
      "夏目友人帐\n",
      "AWM绝地求生 上册\n",
      "AWM绝地求生 下册\n",
      "三重门 （处女座韩寒\n",
      "我们都一样，年轻又彷\n",
      "不好意思，我也是第一\n",
      "意外事故：知名作家蓝\n",
      "我们的秘密\n",
      "日本白泉社轻小说套装\n",
      "告别天堂（新版）\n",
      "远东星辰：网络畅销书\n",
      "曾少年\n",
      "那些女生该懂的事\n",
      "这世界从未与你相配过\n",
      "像少年啦飞驰\n",
      "世界越悲伤，我要越快\n",
      "岁月忽已暮\n",
      "推理吧！男神\n",
      "我们都在大大的绝望里\n",
      "我和这个世界不熟（攻\n",
      "你那么孤单，却偏说一\n",
      "原谅我眼里满是人间烟\n",
      "我只是不愿意将就（攻\n",
      "我想一辈子都活在骄傲\n",
      "《我爱吕西安-帕特里\n",
      "青春就是不妥协\n",
      "你值得世间所有的美好\n",
      "我爱阳光\n",
      "夏目友人帐1-15册\n",
      "孤独少女的光芒\n",
      "笑起来像个孩子，冷起\n",
      "新品促销全4册不好意\n",
      "成功励志书 苑子文 \n",
      "青春里那些隐秘而伟大\n",
      "不是温柔的人，却做尽\n",
      "你虽柔软，却有力量（\n",
      "蔚然成风\n",
      "在成为平凡的大人前\n",
      "我生在1994，我是\n",
      "这一站，刚好遇见你\n",
      "少年不惧岁月长\n",
      "巨星手记1-3+远东\n",
      "意林致青春系列2--\n",
      "把世界搞好啊，少年\n",
      "以你为名的光芒（20\n",
      "写给青春期女孩的书 \n",
      "下一站天王\n",
      "意林心灵成长系列--\n",
      "脑洞W.7（玩者荣耀\n",
      "少年幻兽师外传2 无\n",
      "夏目友人帐村井贞之原\n",
      "韩寒五年文集（上下）\n",
      "全套2本】最好的我们\n",
      "少年绘：第一辑 少年\n",
      "那些成人世界里不可明\n",
      "零下一度（终极定本。\n",
      "甜酸\n",
      "青春有你（当当独家春\n",
      "而立 24 （黄金瞳\n",
      "见风 刘昊然新书\n",
      "十九岁的时差 王俊凯\n",
      "2023非虚构成长（\n",
      "李钟硕：一切都是因为\n",
      "偶像练习生（偶像练习\n",
      "李易峰1987了（当\n",
      "来得及（讲述青春记忆\n",
      "自在 YOUNG（纯\n",
      "全职高手19——永恒\n",
      "全职高手系列小说1-\n",
      "全职高手13 初露锋\n",
      "9314男人与男孩：\n",
      "全职高手16-19套\n",
      "《峰狂旅程》李易峰写\n",
      "用时间换天分 越努力\n",
      "一直爱下去：黄磊家庭\n",
      "李易峰1987了\n",
      "成龙：还没长大就老了\n",
      "小井想要一部时光机\n",
      "迭代2.4（签章版）\n",
      "壹刻：李易峰最好的时\n",
      "我本浪人(马天宇新书\n",
      "2023非虚构成长（\n",
      "不知愁滋味 关晓彤新\n",
      "这就是许魏洲（计入官\n",
      "愿我成为你生命中的礼\n",
      "封面有磨痕-【正版图\n",
      "锋芒（冯绍峰15年首\n",
      "苏志燮之道\n",
      "如果我能说了算\n",
      "吸血王子的诱惑（《暮\n",
      "李易峰特辑\n",
      "黄靖翔旅拍写真（再发\n",
      "周杰伦成长密码\n",
      "乔见·巴黎（当红偶像\n",
      "全职高手6-10册套\n",
      "李钟硕：一切都是因为\n",
      "壹刻：李易峰最好的时\n",
      "自在·YOUNG 杨\n",
      "澳漫生活（小猪罗志祥\n",
      "王力宏·导演练习曲\n",
      "【正版现货】我们都一\n",
      "跟着天王当童星\n",
      "正版现货 十九岁的时\n",
      "【赠海报等】正版 全\n",
      "乔见猫\n",
      "人山人海里，你不必记\n",
      "funfun马后炮\n",
      "这个世界有一点让我不\n",
      "夜伴三庚（通售版）-\n",
      "太阳的后裔 写真集 \n",
      "不一样的鬼鬼\n"
     ]
    }
   ],
   "source": [
    "for i in data:\n",
    "    print(i['booktitle'])\n",
    "    if not os.path.exists(i['localpicurl']):\n",
    "        print(\"##########################################################################\")\n",
    "        print(i['booktitle'])"
   ]
  },
  {
   "cell_type": "code",
   "execution_count": 89,
   "metadata": {},
   "outputs": [],
   "source": [
    "repeat,nowlist=[],[]\n",
    "for i in range(len(data)):\n",
    "    if data[i]['booktitle'] in nowlist:\n",
    "        repeat.append(i)\n",
    "    else:\n",
    "        nowlist.append(data[i]['booktitle'])\n",
    "    '''\n",
    "    print(i['booktitle'])\n",
    "    if not os.path.exists(i['localpicurl']):\n",
    "        \n",
    "        print(i['booktitle'])\n",
    "    '''"
   ]
  },
  {
   "cell_type": "code",
   "execution_count": 90,
   "metadata": {},
   "outputs": [
    {
     "name": "stdout",
     "output_type": "stream",
     "text": [
      "14\n"
     ]
    }
   ],
   "source": [
    "print(len(repeat))"
   ]
  },
  {
   "cell_type": "code",
   "execution_count": 91,
   "metadata": {},
   "outputs": [],
   "source": [
    "newdata=[data[i] for i in range(len(data)) if i not in repeat]"
   ]
  },
  {
   "cell_type": "code",
   "execution_count": 92,
   "metadata": {},
   "outputs": [
    {
     "data": {
      "text/plain": [
       "208"
      ]
     },
     "execution_count": 92,
     "metadata": {},
     "output_type": "execute_result"
    }
   ],
   "source": [
    "len(newdata)"
   ]
  },
  {
   "cell_type": "code",
   "execution_count": 98,
   "metadata": {},
   "outputs": [
    {
     "data": {
      "text/plain": [
       "208"
      ]
     },
     "execution_count": 98,
     "metadata": {},
     "output_type": "execute_result"
    }
   ],
   "source": [
    "len(data)"
   ]
  },
  {
   "cell_type": "code",
   "execution_count": 94,
   "metadata": {},
   "outputs": [],
   "source": [
    "shelf1=os.listdir('images/1shelf')"
   ]
  },
  {
   "cell_type": "code",
   "execution_count": 95,
   "metadata": {},
   "outputs": [
    {
     "data": {
      "text/plain": [
       "208"
      ]
     },
     "execution_count": 95,
     "metadata": {},
     "output_type": "execute_result"
    }
   ],
   "source": [
    "len(shelf1)"
   ]
  },
  {
   "cell_type": "raw",
   "metadata": {},
   "source": [
    "shelf1[5].split('.',1)[0]"
   ]
  },
  {
   "cell_type": "raw",
   "metadata": {},
   "source": [
    "222 208 208 208\n",
    "390 331 328 331\n",
    "350 343 343 343\n",
    "401 389 387 389\n",
    "232 229 228 229\n",
    "347 326 315 323"
   ]
  },
  {
   "cell_type": "code",
   "execution_count": 96,
   "metadata": {},
   "outputs": [],
   "source": [
    "with open('1shelf.json', 'w') as f:\n",
    "    json.dump(newdata, f)"
   ]
  },
  {
   "cell_type": "code",
   "execution_count": null,
   "metadata": {},
   "outputs": [],
   "source": []
  }
 ],
 "metadata": {
  "kernelspec": {
   "display_name": "Python 3",
   "language": "python",
   "name": "python3"
  },
  "language_info": {
   "codemirror_mode": {
    "name": "ipython",
    "version": 3
   },
   "file_extension": ".py",
   "mimetype": "text/x-python",
   "name": "python",
   "nbconvert_exporter": "python",
   "pygments_lexer": "ipython3",
   "version": "3.7.3"
  }
 },
 "nbformat": 4,
 "nbformat_minor": 2
}
